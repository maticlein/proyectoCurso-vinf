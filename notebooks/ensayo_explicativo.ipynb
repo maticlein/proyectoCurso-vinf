{
 "cells": [
  {
   "cell_type": "code",
   "execution_count": 1,
   "metadata": {},
   "outputs": [],
   "source": [
    "import pandas as pd\n",
    "import matplotlib.pyplot as plt \n",
    "import geopandas as gpd\n",
    "import folium\n",
    "import warnings\n",
    "import plotly.express as px"
   ]
  },
  {
   "cell_type": "markdown",
   "metadata": {},
   "source": [
    "## Termoeléctricas"
   ]
  },
  {
   "cell_type": "code",
   "execution_count": 2,
   "metadata": {},
   "outputs": [],
   "source": [
    "df_termoelectricas = pd.read_csv(\"../processed_data/data_termoelectricas.csv\", sep = \";\")"
   ]
  },
  {
   "cell_type": "code",
   "execution_count": 3,
   "metadata": {},
   "outputs": [
    {
     "data": {
      "text/plain": [
       "(3858, 13)"
      ]
     },
     "execution_count": 3,
     "metadata": {},
     "output_type": "execute_result"
    }
   ],
   "source": [
    "gdf = gpd.GeoDataFrame(df_termoelectricas, geometry = gpd.points_from_xy(df_termoelectricas[\"Longitud\"], df_termoelectricas[\"Latitud\"]))\n",
    "gdf.shape"
   ]
  },
  {
   "cell_type": "markdown",
   "metadata": {},
   "source": [
    "Creamos un mapa que tenga como punto de vista inicial Santiago. Luego importamos el polígono de los límites de Chile, el cual graficaremos encima del mapa para resaltarle al usuario el espacio de búsqueda."
   ]
  },
  {
   "cell_type": "code",
   "execution_count": 4,
   "metadata": {},
   "outputs": [
    {
     "data": {
      "text/plain": [
       "<folium.features.GeoJson at 0x7f8abef26940>"
      ]
     },
     "execution_count": 4,
     "metadata": {},
     "output_type": "execute_result"
    }
   ],
   "source": [
    "f = folium.Figure(width=800, height=600)\n",
    "map = folium.Map(location = [-33.37041450381538, -70.69793610926665], crs = \"EPSG3857\" ,zoom_start=3.5, tiles='OpenStreetMap').add_to(f)\n",
    "world = gpd.read_file(gpd.datasets.get_path('naturalearth_lowres'))\n",
    "chile = world.loc[world['name'] == 'Chile']\n",
    "sim_geo = gpd.GeoSeries(chile['geometry']).simplify(tolerance=0.001)\n",
    "geo_j = sim_geo.to_json()\n",
    "geo_j = folium.GeoJson(data=geo_j, style_function=lambda x: {'fillColor': 'orange'})\n",
    "folium.Popup(chile[\"name\"].values[0]).add_to(geo_j)\n",
    "geo_j.add_to(map)"
   ]
  },
  {
   "cell_type": "markdown",
   "metadata": {},
   "source": [
    "A partir de los nombres de las plantas buscamos sus coordenadas y crearemos un nuevo DataFrame que contenga esa información. Luego, graficaremos un marcador en el mapa en esas coordenadas."
   ]
  },
  {
   "cell_type": "code",
   "execution_count": 5,
   "metadata": {},
   "outputs": [],
   "source": [
    "plantas = gdf[\"Planta\"].unique() \n",
    "puntos = []\n",
    "for planta in plantas:\n",
    "    temp_gdf = gdf[gdf[\"Planta\"] == planta]\n",
    "    coords_planta = temp_gdf.iloc[0][\"geometry\"]\n",
    "    puntos.append(coords_planta)\n",
    "markers = pd.DataFrame({\"Planta\": plantas, \"geometry\": puntos})"
   ]
  },
  {
   "cell_type": "code",
   "execution_count": 6,
   "metadata": {},
   "outputs": [
    {
     "data": {
      "text/html": [
       "<iframe srcdoc=\"&lt;!DOCTYPE html&gt;\n",
       "&lt;head&gt;    \n",
       "    &lt;meta http-equiv=&quot;content-type&quot; content=&quot;text/html; charset=UTF-8&quot; /&gt;\n",
       "    \n",
       "        &lt;script&gt;\n",
       "            L_NO_TOUCH = false;\n",
       "            L_DISABLE_3D = false;\n",
       "        &lt;/script&gt;\n",
       "    \n",
       "    &lt;style&gt;html, body {width: 100%;height: 100%;margin: 0;padding: 0;}&lt;/style&gt;\n",
       "    &lt;style&gt;#map {position:absolute;top:0;bottom:0;right:0;left:0;}&lt;/style&gt;\n",
       "    &lt;script src=&quot;https://cdn.jsdelivr.net/npm/leaflet@1.6.0/dist/leaflet.js&quot;&gt;&lt;/script&gt;\n",
       "    &lt;script src=&quot;https://code.jquery.com/jquery-1.12.4.min.js&quot;&gt;&lt;/script&gt;\n",
       "    &lt;script src=&quot;https://maxcdn.bootstrapcdn.com/bootstrap/3.2.0/js/bootstrap.min.js&quot;&gt;&lt;/script&gt;\n",
       "    &lt;script src=&quot;https://cdnjs.cloudflare.com/ajax/libs/Leaflet.awesome-markers/2.0.2/leaflet.awesome-markers.js&quot;&gt;&lt;/script&gt;\n",
       "    &lt;link rel=&quot;stylesheet&quot; href=&quot;https://cdn.jsdelivr.net/npm/leaflet@1.6.0/dist/leaflet.css&quot;/&gt;\n",
       "    &lt;link rel=&quot;stylesheet&quot; href=&quot;https://maxcdn.bootstrapcdn.com/bootstrap/3.2.0/css/bootstrap.min.css&quot;/&gt;\n",
       "    &lt;link rel=&quot;stylesheet&quot; href=&quot;https://maxcdn.bootstrapcdn.com/bootstrap/3.2.0/css/bootstrap-theme.min.css&quot;/&gt;\n",
       "    &lt;link rel=&quot;stylesheet&quot; href=&quot;https://maxcdn.bootstrapcdn.com/font-awesome/4.6.3/css/font-awesome.min.css&quot;/&gt;\n",
       "    &lt;link rel=&quot;stylesheet&quot; href=&quot;https://cdnjs.cloudflare.com/ajax/libs/Leaflet.awesome-markers/2.0.2/leaflet.awesome-markers.css&quot;/&gt;\n",
       "    &lt;link rel=&quot;stylesheet&quot; href=&quot;https://cdn.jsdelivr.net/gh/python-visualization/folium/folium/templates/leaflet.awesome.rotate.min.css&quot;/&gt;\n",
       "    \n",
       "            &lt;meta name=&quot;viewport&quot; content=&quot;width=device-width,\n",
       "                initial-scale=1.0, maximum-scale=1.0, user-scalable=no&quot; /&gt;\n",
       "            &lt;style&gt;\n",
       "                #map_a9de88d06b8928b680813840bf324a8d {\n",
       "                    position: relative;\n",
       "                    width: 100.0%;\n",
       "                    height: 100.0%;\n",
       "                    left: 0.0%;\n",
       "                    top: 0.0%;\n",
       "                }\n",
       "            &lt;/style&gt;\n",
       "        \n",
       "&lt;/head&gt;\n",
       "&lt;body&gt;    \n",
       "    \n",
       "            &lt;div class=&quot;folium-map&quot; id=&quot;map_a9de88d06b8928b680813840bf324a8d&quot; &gt;&lt;/div&gt;\n",
       "        \n",
       "&lt;/body&gt;\n",
       "&lt;script&gt;    \n",
       "    \n",
       "            var map_a9de88d06b8928b680813840bf324a8d = L.map(\n",
       "                &quot;map_a9de88d06b8928b680813840bf324a8d&quot;,\n",
       "                {\n",
       "                    center: [-33.37041450381538, -70.69793610926665],\n",
       "                    crs: L.CRS.EPSG3857,\n",
       "                    zoom: 3.5,\n",
       "                    zoomControl: true,\n",
       "                    preferCanvas: false,\n",
       "                }\n",
       "            );\n",
       "\n",
       "            \n",
       "\n",
       "        \n",
       "    \n",
       "            var tile_layer_dcea70ec28c0b70467725c1043de896e = L.tileLayer(\n",
       "                &quot;https://{s}.tile.openstreetmap.org/{z}/{x}/{y}.png&quot;,\n",
       "                {&quot;attribution&quot;: &quot;Data by \\u0026copy; \\u003ca href=\\&quot;http://openstreetmap.org\\&quot;\\u003eOpenStreetMap\\u003c/a\\u003e, under \\u003ca href=\\&quot;http://www.openstreetmap.org/copyright\\&quot;\\u003eODbL\\u003c/a\\u003e.&quot;, &quot;detectRetina&quot;: false, &quot;maxNativeZoom&quot;: 18, &quot;maxZoom&quot;: 18, &quot;minZoom&quot;: 0, &quot;noWrap&quot;: false, &quot;opacity&quot;: 1, &quot;subdomains&quot;: &quot;abc&quot;, &quot;tms&quot;: false}\n",
       "            ).addTo(map_a9de88d06b8928b680813840bf324a8d);\n",
       "        \n",
       "    \n",
       "        function geo_json_b0b3ff5ffe8952fb4cc74b6c2ad7a9af_styler(feature) {\n",
       "            switch(feature.id) {\n",
       "                default:\n",
       "                    return {&quot;fillColor&quot;: &quot;orange&quot;};\n",
       "            }\n",
       "        }\n",
       "\n",
       "        function geo_json_b0b3ff5ffe8952fb4cc74b6c2ad7a9af_onEachFeature(feature, layer) {\n",
       "            layer.on({\n",
       "            });\n",
       "        };\n",
       "        var geo_json_b0b3ff5ffe8952fb4cc74b6c2ad7a9af = L.geoJson(null, {\n",
       "                onEachFeature: geo_json_b0b3ff5ffe8952fb4cc74b6c2ad7a9af_onEachFeature,\n",
       "            \n",
       "                style: geo_json_b0b3ff5ffe8952fb4cc74b6c2ad7a9af_styler,\n",
       "        });\n",
       "\n",
       "        function geo_json_b0b3ff5ffe8952fb4cc74b6c2ad7a9af_add (data) {\n",
       "            geo_json_b0b3ff5ffe8952fb4cc74b6c2ad7a9af\n",
       "                .addData(data)\n",
       "                .addTo(map_a9de88d06b8928b680813840bf324a8d);\n",
       "        }\n",
       "            geo_json_b0b3ff5ffe8952fb4cc74b6c2ad7a9af_add({&quot;bbox&quot;: [-75.64439531116545, -55.61183, -66.95992000000001, -17.580011895419332], &quot;features&quot;: [{&quot;bbox&quot;: [-75.64439531116545, -55.61183, -66.95992000000001, -17.580011895419332], &quot;geometry&quot;: {&quot;coordinates&quot;: [[[[-68.63401022758323, -52.63637045887449], [-68.63335000000001, -54.869499999999995], [-67.56244, -54.87001], [-66.95992000000001, -54.896810000000016], [-67.29102999999992, -55.30123999999995], [-68.14862999999991, -55.61183], [-68.63999081081187, -55.58001799908692], [-69.2321, -55.49905999999993], [-69.95808999999997, -55.19843000000003], [-71.00567999999998, -55.053830000000005], [-72.26390000000004, -54.49513999999999], [-73.28519999999997, -53.95751999999993], [-74.66253, -52.837489999999946], [-73.8381, -53.04743000000002], [-72.43417999999997, -53.71539999999999], [-71.10773, -54.07432999999992], [-70.59177999999986, -53.61582999999996], [-70.26747999999998, -52.93123000000003], [-69.34564999999992, -52.518299999999954], [-68.63401022758323, -52.63637045887449]]], [[[-69.59042375352405, -17.580011895419332], [-69.10024695501949, -18.260125420812678], [-68.96681840684187, -18.981683444904107], [-68.44222510443092, -19.40506845467143], [-68.75716712103375, -20.372657972904463], [-68.21991309271128, -21.494346612231865], [-67.82817989772273, -22.872918796482175], [-67.1066735500636, -22.735924574476417], [-66.9852339341777, -22.98634856536284], [-67.32844295924417, -24.02530323659095], [-68.41765296087614, -24.51855478281688], [-68.38600114609736, -26.185016371365215], [-68.59479977077268, -26.506908868111296], [-68.29554155137043, -26.89933969493578], [-69.00123491074825, -27.52121388113618], [-69.65613033718317, -28.459141127233686], [-70.01355038112992, -29.367922865518572], [-69.91900834825194, -30.33633920666828], [-70.53506893581951, -31.36501026787031], [-70.0743993801536, -33.09120981214805], [-69.81477698431922, -33.273886000299825], [-69.81730912950152, -34.1935714657983], [-70.38804948594913, -35.16968759535949], [-70.36476925320164, -36.00508879978992], [-71.12188066270987, -36.65812387466232], [-71.11862504747549, -37.57682748794724], [-70.81466427273469, -38.55299529394074], [-71.41351660834906, -38.91602223079114], [-71.68076127794649, -39.808164157878046], [-71.91573401557763, -40.83233936947069], [-71.7468037584155, -42.05138640723598], [-72.14889807807856, -42.254888197601375], [-71.91542395698389, -43.40856454851745], [-71.46405615913051, -43.787611179378345], [-71.79362260607193, -44.207172133156064], [-71.32980078803622, -44.407521661151655], [-71.22277889675976, -44.784242852559416], [-71.65931555854536, -44.973688653341426], [-71.55200944689128, -45.5607329241771], [-71.91725847033024, -46.88483814879177], [-72.44735531278027, -47.73853281025352], [-72.33116085477201, -48.2442383766618], [-72.64824744331494, -48.87861825947683], [-73.4154357571201, -49.31843637471297], [-73.32805091011453, -50.378785088909915], [-72.97574683296469, -50.741450290734285], [-72.30997351753234, -50.67700977966632], [-72.32940385607407, -51.42595631287243], [-71.91480383979638, -52.0090223058659], [-69.49836218939609, -52.14276091263727], [-68.57154537624133, -52.299443855346226], [-69.46128434922667, -52.29195077266391], [-69.9427795071062, -52.53793059037322], [-70.8451016913546, -52.89920052852571], [-71.00633216010525, -53.83325204220132], [-71.429794684521, -53.85645476030037], [-72.55794287788488, -53.53141000118449], [-73.7027567206629, -52.835069268607235], [-74.94676347522517, -52.262753588419], [-75.2600260077785, -51.62935475037325], [-74.97663245308988, -51.0433956846157], [-75.47975419788355, -50.37837167745158], [-75.60801510283198, -48.67377288187184], [-75.18276974150216, -47.7119194476232], [-74.1265809801047, -46.93925343199511], [-75.64439531116545, -46.64764332457207], [-74.69215369332312, -45.76397633238103], [-74.35170935738425, -44.10304412208794], [-73.24035600451522, -44.454960625995604], [-72.7178039211798, -42.38335580827898], [-73.38889990913822, -42.117532240569574], [-73.70133561877488, -43.365776462579774], [-74.33194312203261, -43.22495818458442], [-74.0179571194272, -41.79481292090683], [-73.67709937202999, -39.94221282324317], [-73.21759253609065, -39.25868865331856], [-73.50555945503712, -38.282882582351114], [-73.58806087919109, -37.15628468195598], [-73.1667170884993, -37.12378020604439], [-72.55313696968174, -35.50884002049106], [-71.86173214383263, -33.90909270603153], [-71.4384504869299, -32.41889942803078], [-71.66872066922247, -30.920644626592495], [-71.37008256700773, -30.09568206148503], [-71.48989437527645, -28.861442152625923], [-70.90512386746161, -27.640379734001247], [-70.72495398627599, -25.705924167587256], [-70.40396582709502, -23.628996677344574], [-70.09124589708074, -21.39331918710126], [-70.16441972520605, -19.756468194256165], [-70.37257239447771, -18.34797535570887], [-69.85844356960587, -18.092693780187012], [-69.59042375352405, -17.580011895419332]]]], &quot;type&quot;: &quot;MultiPolygon&quot;}, &quot;id&quot;: &quot;10&quot;, &quot;properties&quot;: {}, &quot;type&quot;: &quot;Feature&quot;}], &quot;type&quot;: &quot;FeatureCollection&quot;});\n",
       "\n",
       "        \n",
       "    \n",
       "        var popup_4ea14439f12816074140cdd306111151 = L.popup({&quot;maxWidth&quot;: &quot;100%&quot;});\n",
       "\n",
       "        \n",
       "            var html_7439760c6e8f80de30e2c6488274fa47 = $(`&lt;div id=&quot;html_7439760c6e8f80de30e2c6488274fa47&quot; style=&quot;width: 100.0%; height: 100.0%;&quot;&gt;Chile&lt;/div&gt;`)[0];\n",
       "            popup_4ea14439f12816074140cdd306111151.setContent(html_7439760c6e8f80de30e2c6488274fa47);\n",
       "        \n",
       "\n",
       "        geo_json_b0b3ff5ffe8952fb4cc74b6c2ad7a9af.bindPopup(popup_4ea14439f12816074140cdd306111151)\n",
       "        ;\n",
       "\n",
       "        \n",
       "    \n",
       "    \n",
       "            var marker_7d8fc4e8fdd7c5f6217d9be2a4186a6b = L.marker(\n",
       "                [-23.0606264, -70.325548],\n",
       "                {}\n",
       "            ).addTo(map_a9de88d06b8928b680813840bf324a8d);\n",
       "        \n",
       "    \n",
       "        var popup_4923f3e8a6c0add9212b0badbe31dab0 = L.popup({&quot;maxWidth&quot;: &quot;100%&quot;});\n",
       "\n",
       "        \n",
       "            var html_ed42e293de17a35b73554e469aba9322 = $(`&lt;div id=&quot;html_ed42e293de17a35b73554e469aba9322&quot; style=&quot;width: 100.0%; height: 100.0%;&quot;&gt;CENTRAL A GAS CICLO COMBINADO KELAR&lt;/div&gt;`)[0];\n",
       "            popup_4923f3e8a6c0add9212b0badbe31dab0.setContent(html_ed42e293de17a35b73554e469aba9322);\n",
       "        \n",
       "\n",
       "        marker_7d8fc4e8fdd7c5f6217d9be2a4186a6b.bindPopup(popup_4923f3e8a6c0add9212b0badbe31dab0)\n",
       "        ;\n",
       "\n",
       "        \n",
       "    \n",
       "    \n",
       "            var marker_d5c8f90443b8f42dc91cc764dac3b68a = L.marker(\n",
       "                [-23.087606, -70.408082],\n",
       "                {}\n",
       "            ).addTo(map_a9de88d06b8928b680813840bf324a8d);\n",
       "        \n",
       "    \n",
       "        var popup_251ffe5942d7b984e872c0fb904d4e08 = L.popup({&quot;maxWidth&quot;: &quot;100%&quot;});\n",
       "\n",
       "        \n",
       "            var html_c674a81e0a1e8a52f09bcb4f183950f8 = $(`&lt;div id=&quot;html_c674a81e0a1e8a52f09bcb4f183950f8&quot; style=&quot;width: 100.0%; height: 100.0%;&quot;&gt;CENTRAL TERMICA ANDINA&lt;/div&gt;`)[0];\n",
       "            popup_251ffe5942d7b984e872c0fb904d4e08.setContent(html_c674a81e0a1e8a52f09bcb4f183950f8);\n",
       "        \n",
       "\n",
       "        marker_d5c8f90443b8f42dc91cc764dac3b68a.bindPopup(popup_251ffe5942d7b984e872c0fb904d4e08)\n",
       "        ;\n",
       "\n",
       "        \n",
       "    \n",
       "    \n",
       "            var marker_d5fe27867f0608df7f9db28ff83973ae = L.marker(\n",
       "                [-23.025082, -70.320068],\n",
       "                {}\n",
       "            ).addTo(map_a9de88d06b8928b680813840bf324a8d);\n",
       "        \n",
       "    \n",
       "        var popup_ffa767dec51f8cc9c5f59e9329e7c589 = L.popup({&quot;maxWidth&quot;: &quot;100%&quot;});\n",
       "\n",
       "        \n",
       "            var html_57bca8dbf1b1ac4b208e7b5b125b946e = $(`&lt;div id=&quot;html_57bca8dbf1b1ac4b208e7b5b125b946e&quot; style=&quot;width: 100.0%; height: 100.0%;&quot;&gt;CENTRAL TERMOELÉCTRICA ANGAMOS&lt;/div&gt;`)[0];\n",
       "            popup_ffa767dec51f8cc9c5f59e9329e7c589.setContent(html_57bca8dbf1b1ac4b208e7b5b125b946e);\n",
       "        \n",
       "\n",
       "        marker_d5fe27867f0608df7f9db28ff83973ae.bindPopup(popup_ffa767dec51f8cc9c5f59e9329e7c589)\n",
       "        ;\n",
       "\n",
       "        \n",
       "    \n",
       "    \n",
       "            var marker_6759782c4dfcb3763fe29f02db848c7f = L.marker(\n",
       "                [-23.064, -70.3703],\n",
       "                {}\n",
       "            ).addTo(map_a9de88d06b8928b680813840bf324a8d);\n",
       "        \n",
       "    \n",
       "        var popup_55926683508b5a83f34d2472bf2f52c2 = L.popup({&quot;maxWidth&quot;: &quot;100%&quot;});\n",
       "\n",
       "        \n",
       "            var html_0c284249e0d20f711e1d0b071299207b = $(`&lt;div id=&quot;html_0c284249e0d20f711e1d0b071299207b&quot; style=&quot;width: 100.0%; height: 100.0%;&quot;&gt;CENTRAL TERMOELÉCTRICA COCHRANE&lt;/div&gt;`)[0];\n",
       "            popup_55926683508b5a83f34d2472bf2f52c2.setContent(html_0c284249e0d20f711e1d0b071299207b);\n",
       "        \n",
       "\n",
       "        marker_6759782c4dfcb3763fe29f02db848c7f.bindPopup(popup_55926683508b5a83f34d2472bf2f52c2)\n",
       "        ;\n",
       "\n",
       "        \n",
       "    \n",
       "    \n",
       "            var marker_04aab8dc5e5af3b734627217020c11b6 = L.marker(\n",
       "                [-23.0888801931207, -70.4113941036642],\n",
       "                {}\n",
       "            ).addTo(map_a9de88d06b8928b680813840bf324a8d);\n",
       "        \n",
       "    \n",
       "        var popup_0487af4c8e131ed27e6de5300f086844 = L.popup({&quot;maxWidth&quot;: &quot;100%&quot;});\n",
       "\n",
       "        \n",
       "            var html_3dbe18705d8f649a9ad585af0dcfc8c3 = $(`&lt;div id=&quot;html_3dbe18705d8f649a9ad585af0dcfc8c3&quot; style=&quot;width: 100.0%; height: 100.0%;&quot;&gt;CENTRAL TÉRMICA MEJILLONES&lt;/div&gt;`)[0];\n",
       "            popup_0487af4c8e131ed27e6de5300f086844.setContent(html_3dbe18705d8f649a9ad585af0dcfc8c3);\n",
       "        \n",
       "\n",
       "        marker_04aab8dc5e5af3b734627217020c11b6.bindPopup(popup_0487af4c8e131ed27e6de5300f086844)\n",
       "        ;\n",
       "\n",
       "        \n",
       "    \n",
       "    \n",
       "            var marker_976c4a8f48d77570e048f34dab6943d8 = L.marker(\n",
       "                [-22.1019166516864, -70.2143131571211],\n",
       "                {}\n",
       "            ).addTo(map_a9de88d06b8928b680813840bf324a8d);\n",
       "        \n",
       "    \n",
       "        var popup_6be17550199600c08cc5106e215276fb = L.popup({&quot;maxWidth&quot;: &quot;100%&quot;});\n",
       "\n",
       "        \n",
       "            var html_7b5694dcb6e10049292a09a0e66dbaae = $(`&lt;div id=&quot;html_7b5694dcb6e10049292a09a0e66dbaae&quot; style=&quot;width: 100.0%; height: 100.0%;&quot;&gt;CENTRAL TERMICA TOCOPILLA&lt;/div&gt;`)[0];\n",
       "            popup_6be17550199600c08cc5106e215276fb.setContent(html_7b5694dcb6e10049292a09a0e66dbaae);\n",
       "        \n",
       "\n",
       "        marker_976c4a8f48d77570e048f34dab6943d8.bindPopup(popup_6be17550199600c08cc5106e215276fb)\n",
       "        ;\n",
       "\n",
       "        \n",
       "    \n",
       "    \n",
       "            var marker_cb7597c6a96439ed3543c7bb1149067b = L.marker(\n",
       "                [-22.0981, -70.208398],\n",
       "                {}\n",
       "            ).addTo(map_a9de88d06b8928b680813840bf324a8d);\n",
       "        \n",
       "    \n",
       "        var popup_10778f341f64c0b4143504d9ae430f2f = L.popup({&quot;maxWidth&quot;: &quot;100%&quot;});\n",
       "\n",
       "        \n",
       "            var html_164489a0141637a981635574a89dba94 = $(`&lt;div id=&quot;html_164489a0141637a981635574a89dba94&quot; style=&quot;width: 100.0%; height: 100.0%;&quot;&gt;CENTRAL TERMOELÉCTRICA NUEVA TOCOPILLA&lt;/div&gt;`)[0];\n",
       "            popup_10778f341f64c0b4143504d9ae430f2f.setContent(html_164489a0141637a981635574a89dba94);\n",
       "        \n",
       "\n",
       "        marker_cb7597c6a96439ed3543c7bb1149067b.bindPopup(popup_10778f341f64c0b4143504d9ae430f2f)\n",
       "        ;\n",
       "\n",
       "        \n",
       "    \n",
       "    \n",
       "            var marker_441fe6289d4a4263991503db7b539432 = L.marker(\n",
       "                [-37.022789, -73.16584],\n",
       "                {}\n",
       "            ).addTo(map_a9de88d06b8928b680813840bf324a8d);\n",
       "        \n",
       "    \n",
       "        var popup_26759666dfe5954fdfca22728afbc606 = L.popup({&quot;maxWidth&quot;: &quot;100%&quot;});\n",
       "\n",
       "        \n",
       "            var html_355bbd45118fd7d940722e400160da37 = $(`&lt;div id=&quot;html_355bbd45118fd7d940722e400160da37&quot; style=&quot;width: 100.0%; height: 100.0%;&quot;&gt;CENTRAL TERMOELECTRICA BOCAMINA U1&lt;/div&gt;`)[0];\n",
       "            popup_26759666dfe5954fdfca22728afbc606.setContent(html_355bbd45118fd7d940722e400160da37);\n",
       "        \n",
       "\n",
       "        marker_441fe6289d4a4263991503db7b539432.bindPopup(popup_26759666dfe5954fdfca22728afbc606)\n",
       "        ;\n",
       "\n",
       "        \n",
       "    \n",
       "    \n",
       "            var marker_6c6b6f0bf958bad9d46b2ebc5004a429 = L.marker(\n",
       "                [-37.039517, -73.135615],\n",
       "                {}\n",
       "            ).addTo(map_a9de88d06b8928b680813840bf324a8d);\n",
       "        \n",
       "    \n",
       "        var popup_aeb96ebe86dd1592a944002b9e55ab8c = L.popup({&quot;maxWidth&quot;: &quot;100%&quot;});\n",
       "\n",
       "        \n",
       "            var html_e1bceafbc2a45489eda46fac8577ae6f = $(`&lt;div id=&quot;html_e1bceafbc2a45489eda46fac8577ae6f&quot; style=&quot;width: 100.0%; height: 100.0%;&quot;&gt;COMPLEJO TERMOELECTRICO SANTA MARIA&lt;/div&gt;`)[0];\n",
       "            popup_aeb96ebe86dd1592a944002b9e55ab8c.setContent(html_e1bceafbc2a45489eda46fac8577ae6f);\n",
       "        \n",
       "\n",
       "        marker_6c6b6f0bf958bad9d46b2ebc5004a429.bindPopup(popup_aeb96ebe86dd1592a944002b9e55ab8c)\n",
       "        ;\n",
       "\n",
       "        \n",
       "    \n",
       "    \n",
       "            var marker_522d1cd1d51f67e96ddea55214a33ec2 = L.marker(\n",
       "                [-32.7494, -71.4833],\n",
       "                {}\n",
       "            ).addTo(map_a9de88d06b8928b680813840bf324a8d);\n",
       "        \n",
       "    \n",
       "        var popup_aa6e4cb6d2220c37f47a3985c3a0afcc = L.popup({&quot;maxWidth&quot;: &quot;100%&quot;});\n",
       "\n",
       "        \n",
       "            var html_c02eeb96a6417384f95428142748842f = $(`&lt;div id=&quot;html_c02eeb96a6417384f95428142748842f&quot; style=&quot;width: 100.0%; height: 100.0%;&quot;&gt;CENTRAL TERMOELECTRICA CAMPICHE&lt;/div&gt;`)[0];\n",
       "            popup_aa6e4cb6d2220c37f47a3985c3a0afcc.setContent(html_c02eeb96a6417384f95428142748842f);\n",
       "        \n",
       "\n",
       "        marker_522d1cd1d51f67e96ddea55214a33ec2.bindPopup(popup_aa6e4cb6d2220c37f47a3985c3a0afcc)\n",
       "        ;\n",
       "\n",
       "        \n",
       "    \n",
       "    \n",
       "            var marker_b08c23ae3d7401f565bc31b1d5f52dd4 = L.marker(\n",
       "                [-32.7494, -71.4833],\n",
       "                {}\n",
       "            ).addTo(map_a9de88d06b8928b680813840bf324a8d);\n",
       "        \n",
       "    \n",
       "        var popup_239ee0d82f22bc26fa4041eeda9052d1 = L.popup({&quot;maxWidth&quot;: &quot;100%&quot;});\n",
       "\n",
       "        \n",
       "            var html_1d308459f35416d676026c41f9320ec7 = $(`&lt;div id=&quot;html_1d308459f35416d676026c41f9320ec7&quot; style=&quot;width: 100.0%; height: 100.0%;&quot;&gt;CENTRAL TERMOELÉCTRICA NUEVA VENTANAS&lt;/div&gt;`)[0];\n",
       "            popup_239ee0d82f22bc26fa4041eeda9052d1.setContent(html_1d308459f35416d676026c41f9320ec7);\n",
       "        \n",
       "\n",
       "        marker_b08c23ae3d7401f565bc31b1d5f52dd4.bindPopup(popup_239ee0d82f22bc26fa4041eeda9052d1)\n",
       "        ;\n",
       "\n",
       "        \n",
       "    \n",
       "    \n",
       "            var marker_721c1df381964e4425e4da22c927f299 = L.marker(\n",
       "                [-32.7494, -71.4833],\n",
       "                {}\n",
       "            ).addTo(map_a9de88d06b8928b680813840bf324a8d);\n",
       "        \n",
       "    \n",
       "        var popup_2bac82d5f49b373a6c4a2cd1557ef0e3 = L.popup({&quot;maxWidth&quot;: &quot;100%&quot;});\n",
       "\n",
       "        \n",
       "            var html_e94a1d6bf22703c1395f8789a79b5dee = $(`&lt;div id=&quot;html_e94a1d6bf22703c1395f8789a79b5dee&quot; style=&quot;width: 100.0%; height: 100.0%;&quot;&gt;CENTRAL TERMOELÉCTRICA VENTANAS UNIDADES 1 Y 2&lt;/div&gt;`)[0];\n",
       "            popup_2bac82d5f49b373a6c4a2cd1557ef0e3.setContent(html_e94a1d6bf22703c1395f8789a79b5dee);\n",
       "        \n",
       "\n",
       "        marker_721c1df381964e4425e4da22c927f299.bindPopup(popup_2bac82d5f49b373a6c4a2cd1557ef0e3)\n",
       "        ;\n",
       "\n",
       "        \n",
       "    \n",
       "    \n",
       "            var marker_7e644c0e377997acb5548c83ccdea1cd = L.marker(\n",
       "                [-37.078033, -72.345822],\n",
       "                {}\n",
       "            ).addTo(map_a9de88d06b8928b680813840bf324a8d);\n",
       "        \n",
       "    \n",
       "        var popup_2ce999a13cd8b1a76bc081f63cd6869e = L.popup({&quot;maxWidth&quot;: &quot;100%&quot;});\n",
       "\n",
       "        \n",
       "            var html_647c67f8119547f4c912dd01903da3c3 = $(`&lt;div id=&quot;html_647c67f8119547f4c912dd01903da3c3&quot; style=&quot;width: 100.0%; height: 100.0%;&quot;&gt;SANTA LIDIA&lt;/div&gt;`)[0];\n",
       "            popup_2ce999a13cd8b1a76bc081f63cd6869e.setContent(html_647c67f8119547f4c912dd01903da3c3);\n",
       "        \n",
       "\n",
       "        marker_7e644c0e377997acb5548c83ccdea1cd.bindPopup(popup_2ce999a13cd8b1a76bc081f63cd6869e)\n",
       "        ;\n",
       "\n",
       "        \n",
       "    \n",
       "    \n",
       "            var marker_15648148c34c1dd7cd8c37a39f1ac2c6 = L.marker(\n",
       "                [-37.0899, -72.322898],\n",
       "                {}\n",
       "            ).addTo(map_a9de88d06b8928b680813840bf324a8d);\n",
       "        \n",
       "    \n",
       "        var popup_22d97c7555ebcdd4b7b952033805994e = L.popup({&quot;maxWidth&quot;: &quot;100%&quot;});\n",
       "\n",
       "        \n",
       "            var html_04743c93840feb4604ddbae5940dfd8d = $(`&lt;div id=&quot;html_04743c93840feb4604ddbae5940dfd8d&quot; style=&quot;width: 100.0%; height: 100.0%;&quot;&gt;CENTRAL TERMOELÉCTRICA LOS PINOS&lt;/div&gt;`)[0];\n",
       "            popup_22d97c7555ebcdd4b7b952033805994e.setContent(html_04743c93840feb4604ddbae5940dfd8d);\n",
       "        \n",
       "\n",
       "        marker_15648148c34c1dd7cd8c37a39f1ac2c6.bindPopup(popup_22d97c7555ebcdd4b7b952033805994e)\n",
       "        ;\n",
       "\n",
       "        \n",
       "    \n",
       "    \n",
       "            var marker_ff96317d9751658b62073471bfb99aca = L.marker(\n",
       "                [-34.033912, -70.612585],\n",
       "                {}\n",
       "            ).addTo(map_a9de88d06b8928b680813840bf324a8d);\n",
       "        \n",
       "    \n",
       "        var popup_81d0d6b067c16e82155c410e16309745 = L.popup({&quot;maxWidth&quot;: &quot;100%&quot;});\n",
       "\n",
       "        \n",
       "            var html_4fb979f43cc24e0f5a48b32acc226ced = $(`&lt;div id=&quot;html_4fb979f43cc24e0f5a48b32acc226ced&quot; style=&quot;width: 100.0%; height: 100.0%;&quot;&gt;CENTRAL TERMOELÉCTRICA CANDELARIA&lt;/div&gt;`)[0];\n",
       "            popup_81d0d6b067c16e82155c410e16309745.setContent(html_4fb979f43cc24e0f5a48b32acc226ced);\n",
       "        \n",
       "\n",
       "        marker_ff96317d9751658b62073471bfb99aca.bindPopup(popup_81d0d6b067c16e82155c410e16309745)\n",
       "        ;\n",
       "\n",
       "        \n",
       "    \n",
       "    \n",
       "            var marker_f51dc5ce6bebd4e66a8bb4a0c13a159d = L.marker(\n",
       "                [-32.930525, -71.473568],\n",
       "                {}\n",
       "            ).addTo(map_a9de88d06b8928b680813840bf324a8d);\n",
       "        \n",
       "    \n",
       "        var popup_001e8ef4f1bfd9fd160e24beca80eddb = L.popup({&quot;maxWidth&quot;: &quot;100%&quot;});\n",
       "\n",
       "        \n",
       "            var html_52fb2e77b6c157e4ed91d738a58fd44a = $(`&lt;div id=&quot;html_52fb2e77b6c157e4ed91d738a58fd44a&quot; style=&quot;width: 100.0%; height: 100.0%;&quot;&gt;CENTRAL COLMITO&lt;/div&gt;`)[0];\n",
       "            popup_001e8ef4f1bfd9fd160e24beca80eddb.setContent(html_52fb2e77b6c157e4ed91d738a58fd44a);\n",
       "        \n",
       "\n",
       "        marker_f51dc5ce6bebd4e66a8bb4a0c13a159d.bindPopup(popup_001e8ef4f1bfd9fd160e24beca80eddb)\n",
       "        ;\n",
       "\n",
       "        \n",
       "    \n",
       "    \n",
       "            var marker_b66e3eef938dae02e5162bbc4fe4cdae = L.marker(\n",
       "                [-37.107246, -72.29208200000001],\n",
       "                {}\n",
       "            ).addTo(map_a9de88d06b8928b680813840bf324a8d);\n",
       "        \n",
       "    \n",
       "        var popup_449f9ad4a552b1d254f82a0b423d7e78 = L.popup({&quot;maxWidth&quot;: &quot;100%&quot;});\n",
       "\n",
       "        \n",
       "            var html_822173f157c0c9ffe14c2afd446ba34e = $(`&lt;div id=&quot;html_822173f157c0c9ffe14c2afd446ba34e&quot; style=&quot;width: 100.0%; height: 100.0%;&quot;&gt;YUNGAY (EX CAMPANARIO)&lt;/div&gt;`)[0];\n",
       "            popup_449f9ad4a552b1d254f82a0b423d7e78.setContent(html_822173f157c0c9ffe14c2afd446ba34e);\n",
       "        \n",
       "\n",
       "        marker_b66e3eef938dae02e5162bbc4fe4cdae.bindPopup(popup_449f9ad4a552b1d254f82a0b423d7e78)\n",
       "        ;\n",
       "\n",
       "        \n",
       "    \n",
       "    \n",
       "            var marker_4901781212342cb64503ba2165e14154 = L.marker(\n",
       "                [-28.472116, -71.247379],\n",
       "                {}\n",
       "            ).addTo(map_a9de88d06b8928b680813840bf324a8d);\n",
       "        \n",
       "    \n",
       "        var popup_294b3a057263a703fa07f1257ff29e7e = L.popup({&quot;maxWidth&quot;: &quot;100%&quot;});\n",
       "\n",
       "        \n",
       "            var html_c8351b1f07bb12eea6b09cd7ba44ccb4 = $(`&lt;div id=&quot;html_c8351b1f07bb12eea6b09cd7ba44ccb4&quot; style=&quot;width: 100.0%; height: 100.0%;&quot;&gt;GUACOLDA&lt;/div&gt;`)[0];\n",
       "            popup_294b3a057263a703fa07f1257ff29e7e.setContent(html_c8351b1f07bb12eea6b09cd7ba44ccb4);\n",
       "        \n",
       "\n",
       "        marker_4901781212342cb64503ba2165e14154.bindPopup(popup_294b3a057263a703fa07f1257ff29e7e)\n",
       "        ;\n",
       "\n",
       "        \n",
       "    \n",
       "    \n",
       "            var marker_bc8db496510985bcae1d846691adc0dd = L.marker(\n",
       "                [-32.936543, -71.3162416219711],\n",
       "                {}\n",
       "            ).addTo(map_a9de88d06b8928b680813840bf324a8d);\n",
       "        \n",
       "    \n",
       "        var popup_98d434552f1747b108c0b762e81acc83 = L.popup({&quot;maxWidth&quot;: &quot;100%&quot;});\n",
       "\n",
       "        \n",
       "            var html_8926936deed8a1c27d3ec2857dbc0137 = $(`&lt;div id=&quot;html_8926936deed8a1c27d3ec2857dbc0137&quot; style=&quot;width: 100.0%; height: 100.0%;&quot;&gt;CENTRAL SAN ISIDRO I&lt;/div&gt;`)[0];\n",
       "            popup_98d434552f1747b108c0b762e81acc83.setContent(html_8926936deed8a1c27d3ec2857dbc0137);\n",
       "        \n",
       "\n",
       "        marker_bc8db496510985bcae1d846691adc0dd.bindPopup(popup_98d434552f1747b108c0b762e81acc83)\n",
       "        ;\n",
       "\n",
       "        \n",
       "    \n",
       "    \n",
       "            var marker_26bd4b264734c668595127ae6f345d6a = L.marker(\n",
       "                [-32.9366955, -71.3254887],\n",
       "                {}\n",
       "            ).addTo(map_a9de88d06b8928b680813840bf324a8d);\n",
       "        \n",
       "    \n",
       "        var popup_dc7aa93d0b64233818bf598f8523e4ce = L.popup({&quot;maxWidth&quot;: &quot;100%&quot;});\n",
       "\n",
       "        \n",
       "            var html_23980c16c26c1159ab1c6b9e5684f4e0 = $(`&lt;div id=&quot;html_23980c16c26c1159ab1c6b9e5684f4e0&quot; style=&quot;width: 100.0%; height: 100.0%;&quot;&gt;COMPLEJO TERMOELÉCTRICO NEHUENCO&lt;/div&gt;`)[0];\n",
       "            popup_dc7aa93d0b64233818bf598f8523e4ce.setContent(html_23980c16c26c1159ab1c6b9e5684f4e0);\n",
       "        \n",
       "\n",
       "        marker_26bd4b264734c668595127ae6f345d6a.bindPopup(popup_dc7aa93d0b64233818bf598f8523e4ce)\n",
       "        ;\n",
       "\n",
       "        \n",
       "    \n",
       "    \n",
       "            var marker_e113156195109b9da12390e7259590e7 = L.marker(\n",
       "                [-32.843902, -71.013235],\n",
       "                {}\n",
       "            ).addTo(map_a9de88d06b8928b680813840bf324a8d);\n",
       "        \n",
       "    \n",
       "        var popup_6a482a4b9df9c1913df89c220b9fe949 = L.popup({&quot;maxWidth&quot;: &quot;100%&quot;});\n",
       "\n",
       "        \n",
       "            var html_b7ed405a3ff8640dd292a6c673b604a7 = $(`&lt;div id=&quot;html_b7ed405a3ff8640dd292a6c673b604a7&quot; style=&quot;width: 100.0%; height: 100.0%;&quot;&gt;LOS VIENTOS&lt;/div&gt;`)[0];\n",
       "            popup_6a482a4b9df9c1913df89c220b9fe949.setContent(html_b7ed405a3ff8640dd292a6c673b604a7);\n",
       "        \n",
       "\n",
       "        marker_e113156195109b9da12390e7259590e7.bindPopup(popup_6a482a4b9df9c1913df89c220b9fe949)\n",
       "        ;\n",
       "\n",
       "        \n",
       "    \n",
       "    \n",
       "            var marker_50e2ab7d86c067b9e868e196c3a7735b = L.marker(\n",
       "                [-32.936543, -71.3162416219711],\n",
       "                {}\n",
       "            ).addTo(map_a9de88d06b8928b680813840bf324a8d);\n",
       "        \n",
       "    \n",
       "        var popup_b0b6b0088eff5319f897e91edfe4b178 = L.popup({&quot;maxWidth&quot;: &quot;100%&quot;});\n",
       "\n",
       "        \n",
       "            var html_f4e024ae4106dd7b0eda928e355b0257 = $(`&lt;div id=&quot;html_f4e024ae4106dd7b0eda928e355b0257&quot; style=&quot;width: 100.0%; height: 100.0%;&quot;&gt;SAN ISIDRO 2&lt;/div&gt;`)[0];\n",
       "            popup_b0b6b0088eff5319f897e91edfe4b178.setContent(html_f4e024ae4106dd7b0eda928e355b0257);\n",
       "        \n",
       "\n",
       "        marker_50e2ab7d86c067b9e868e196c3a7735b.bindPopup(popup_b0b6b0088eff5319f897e91edfe4b178)\n",
       "        ;\n",
       "\n",
       "        \n",
       "    \n",
       "    \n",
       "            var marker_e45178e18ad552629a755435d8c8cf8c = L.marker(\n",
       "                [-33.4167, -70.6874],\n",
       "                {}\n",
       "            ).addTo(map_a9de88d06b8928b680813840bf324a8d);\n",
       "        \n",
       "    \n",
       "        var popup_ca46ac6cc689a5eac6f2de2a63140232 = L.popup({&quot;maxWidth&quot;: &quot;100%&quot;});\n",
       "\n",
       "        \n",
       "            var html_90bb8804cedff4e76e17aa57066ffe13 = $(`&lt;div id=&quot;html_90bb8804cedff4e76e17aa57066ffe13&quot; style=&quot;width: 100.0%; height: 100.0%;&quot;&gt;RENCA NUEVA RENCA&lt;/div&gt;`)[0];\n",
       "            popup_ca46ac6cc689a5eac6f2de2a63140232.setContent(html_90bb8804cedff4e76e17aa57066ffe13);\n",
       "        \n",
       "\n",
       "        marker_e45178e18ad552629a755435d8c8cf8c.bindPopup(popup_ca46ac6cc689a5eac6f2de2a63140232)\n",
       "        ;\n",
       "\n",
       "        \n",
       "    \n",
       "&lt;/script&gt;\" width=\"800\" height=\"600\"style=\"border:none !important;\" \"allowfullscreen\" \"webkitallowfullscreen\" \"mozallowfullscreen\"></iframe>"
      ],
      "text/plain": [
       "<folium.folium.Map at 0x7f8abc2eff40>"
      ]
     },
     "execution_count": 6,
     "metadata": {},
     "output_type": "execute_result"
    }
   ],
   "source": [
    "for _, row in markers.iterrows():\n",
    "    lat = row[\"geometry\"].y\n",
    "    lon = row[\"geometry\"].x\n",
    "    folium.Marker(location=[lat, lon],\n",
    "                  popup=row[\"Planta\"]).add_to(map)\n",
    "\n",
    "map"
   ]
  },
  {
   "cell_type": "markdown",
   "metadata": {},
   "source": [
    "## Sunburst plot"
   ]
  },
  {
   "cell_type": "markdown",
   "metadata": {},
   "source": [
    "Valores máximos reportados por cada planta y se convierte el GroupBy a DataFrame."
   ]
  },
  {
   "cell_type": "code",
   "execution_count": 7,
   "metadata": {},
   "outputs": [
    {
     "data": {
      "text/html": [
       "<div>\n",
       "<style scoped>\n",
       "    .dataframe tbody tr th:only-of-type {\n",
       "        vertical-align: middle;\n",
       "    }\n",
       "\n",
       "    .dataframe tbody tr th {\n",
       "        vertical-align: top;\n",
       "    }\n",
       "\n",
       "    .dataframe thead th {\n",
       "        text-align: right;\n",
       "    }\n",
       "</style>\n",
       "<table border=\"1\" class=\"dataframe\">\n",
       "  <thead>\n",
       "    <tr style=\"text-align: right;\">\n",
       "      <th></th>\n",
       "      <th>ANIO</th>\n",
       "      <th>MES</th>\n",
       "      <th>Parametro</th>\n",
       "      <th>CuerpoReceptor</th>\n",
       "      <th>Planta</th>\n",
       "      <th>Tabla</th>\n",
       "      <th>% diferencia_umbral</th>\n",
       "      <th>Valor reportado</th>\n",
       "    </tr>\n",
       "  </thead>\n",
       "  <tbody>\n",
       "    <tr>\n",
       "      <th>6</th>\n",
       "      <td>2017</td>\n",
       "      <td>1</td>\n",
       "      <td>Cobre</td>\n",
       "      <td>ESTERO LOS GUINDOS</td>\n",
       "      <td>YUNGAY (EX CAMPANARIO)</td>\n",
       "      <td>Tabla 1</td>\n",
       "      <td>-99.0</td>\n",
       "      <td>0.010</td>\n",
       "    </tr>\n",
       "    <tr>\n",
       "      <th>8</th>\n",
       "      <td>2017</td>\n",
       "      <td>1</td>\n",
       "      <td>Cobre</td>\n",
       "      <td>RIO ACONCAGUA</td>\n",
       "      <td>CENTRAL SAN ISIDRO I</td>\n",
       "      <td>Tabla 1</td>\n",
       "      <td>-97.0</td>\n",
       "      <td>0.030</td>\n",
       "    </tr>\n",
       "    <tr>\n",
       "      <th>9</th>\n",
       "      <td>2017</td>\n",
       "      <td>1</td>\n",
       "      <td>Cobre</td>\n",
       "      <td>RIO ACONCAGUA</td>\n",
       "      <td>SAN ISIDRO 2</td>\n",
       "      <td>Tabla 1</td>\n",
       "      <td>-97.0</td>\n",
       "      <td>0.030</td>\n",
       "    </tr>\n",
       "    <tr>\n",
       "      <th>0</th>\n",
       "      <td>2017</td>\n",
       "      <td>1</td>\n",
       "      <td>Cobre</td>\n",
       "      <td>BAHIA MEJILLONES</td>\n",
       "      <td>CENTRAL TERMICA ANDINA</td>\n",
       "      <td>Tabla 4</td>\n",
       "      <td>-95.0</td>\n",
       "      <td>0.050</td>\n",
       "    </tr>\n",
       "    <tr>\n",
       "      <th>1</th>\n",
       "      <td>2017</td>\n",
       "      <td>1</td>\n",
       "      <td>Cobre</td>\n",
       "      <td>BAHIA MEJILLONES</td>\n",
       "      <td>CENTRAL TERMOELÉCTRICA COCHRANE</td>\n",
       "      <td>Tabla 4</td>\n",
       "      <td>-95.6</td>\n",
       "      <td>0.044</td>\n",
       "    </tr>\n",
       "    <tr>\n",
       "      <th>...</th>\n",
       "      <td>...</td>\n",
       "      <td>...</td>\n",
       "      <td>...</td>\n",
       "      <td>...</td>\n",
       "      <td>...</td>\n",
       "      <td>...</td>\n",
       "      <td>...</td>\n",
       "      <td>...</td>\n",
       "    </tr>\n",
       "    <tr>\n",
       "      <th>3813</th>\n",
       "      <td>2022</td>\n",
       "      <td>7</td>\n",
       "      <td>Temperatura</td>\n",
       "      <td>BAHÍA CORONEL</td>\n",
       "      <td>COMPLEJO TERMOELECTRICO SANTA MARIA</td>\n",
       "      <td>Tabla 4</td>\n",
       "      <td>-28.3</td>\n",
       "      <td>21.500</td>\n",
       "    </tr>\n",
       "    <tr>\n",
       "      <th>3814</th>\n",
       "      <td>2022</td>\n",
       "      <td>7</td>\n",
       "      <td>Temperatura</td>\n",
       "      <td>BAHÍA QUINTERO</td>\n",
       "      <td>CENTRAL TERMOELECTRICA CAMPICHE</td>\n",
       "      <td>Tabla 4</td>\n",
       "      <td>-28.7</td>\n",
       "      <td>21.400</td>\n",
       "    </tr>\n",
       "    <tr>\n",
       "      <th>3815</th>\n",
       "      <td>2022</td>\n",
       "      <td>7</td>\n",
       "      <td>Temperatura</td>\n",
       "      <td>BAHÍA QUINTERO</td>\n",
       "      <td>CENTRAL TERMOELÉCTRICA NUEVA VENTANAS</td>\n",
       "      <td>Tabla 4</td>\n",
       "      <td>-36.7</td>\n",
       "      <td>19.000</td>\n",
       "    </tr>\n",
       "    <tr>\n",
       "      <th>3816</th>\n",
       "      <td>2022</td>\n",
       "      <td>7</td>\n",
       "      <td>Temperatura</td>\n",
       "      <td>BAHÍA QUINTERO</td>\n",
       "      <td>CENTRAL TERMOELÉCTRICA VENTANAS UNIDADES 1 Y 2</td>\n",
       "      <td>Tabla 4</td>\n",
       "      <td>-24.0</td>\n",
       "      <td>22.800</td>\n",
       "    </tr>\n",
       "    <tr>\n",
       "      <th>3822</th>\n",
       "      <td>2022</td>\n",
       "      <td>7</td>\n",
       "      <td>Temperatura</td>\n",
       "      <td>PENINSULA GUACOLDA</td>\n",
       "      <td>GUACOLDA</td>\n",
       "      <td>Tabla 4</td>\n",
       "      <td>-20.0</td>\n",
       "      <td>24.000</td>\n",
       "    </tr>\n",
       "  </tbody>\n",
       "</table>\n",
       "<p>3826 rows × 8 columns</p>\n",
       "</div>"
      ],
      "text/plain": [
       "      ANIO  MES    Parametro      CuerpoReceptor  \\\n",
       "6     2017    1        Cobre  ESTERO LOS GUINDOS   \n",
       "8     2017    1        Cobre       RIO ACONCAGUA   \n",
       "9     2017    1        Cobre       RIO ACONCAGUA   \n",
       "0     2017    1        Cobre    BAHIA MEJILLONES   \n",
       "1     2017    1        Cobre    BAHIA MEJILLONES   \n",
       "...    ...  ...          ...                 ...   \n",
       "3813  2022    7  Temperatura       BAHÍA CORONEL   \n",
       "3814  2022    7  Temperatura      BAHÍA QUINTERO   \n",
       "3815  2022    7  Temperatura      BAHÍA QUINTERO   \n",
       "3816  2022    7  Temperatura      BAHÍA QUINTERO   \n",
       "3822  2022    7  Temperatura  PENINSULA GUACOLDA   \n",
       "\n",
       "                                              Planta    Tabla  \\\n",
       "6                             YUNGAY (EX CAMPANARIO)  Tabla 1   \n",
       "8                               CENTRAL SAN ISIDRO I  Tabla 1   \n",
       "9                                       SAN ISIDRO 2  Tabla 1   \n",
       "0                             CENTRAL TERMICA ANDINA  Tabla 4   \n",
       "1                    CENTRAL TERMOELÉCTRICA COCHRANE  Tabla 4   \n",
       "...                                              ...      ...   \n",
       "3813             COMPLEJO TERMOELECTRICO SANTA MARIA  Tabla 4   \n",
       "3814                 CENTRAL TERMOELECTRICA CAMPICHE  Tabla 4   \n",
       "3815           CENTRAL TERMOELÉCTRICA NUEVA VENTANAS  Tabla 4   \n",
       "3816  CENTRAL TERMOELÉCTRICA VENTANAS UNIDADES 1 Y 2  Tabla 4   \n",
       "3822                                        GUACOLDA  Tabla 4   \n",
       "\n",
       "      % diferencia_umbral  Valor reportado  \n",
       "6                   -99.0            0.010  \n",
       "8                   -97.0            0.030  \n",
       "9                   -97.0            0.030  \n",
       "0                   -95.0            0.050  \n",
       "1                   -95.6            0.044  \n",
       "...                   ...              ...  \n",
       "3813                -28.3           21.500  \n",
       "3814                -28.7           21.400  \n",
       "3815                -36.7           19.000  \n",
       "3816                -24.0           22.800  \n",
       "3822                -20.0           24.000  \n",
       "\n",
       "[3826 rows x 8 columns]"
      ]
     },
     "execution_count": 7,
     "metadata": {},
     "output_type": "execute_result"
    }
   ],
   "source": [
    "df_termoelectricas_filtrado = df_termoelectricas.groupby([\"ANIO\",\"MES\",\"Parametro\",\"CuerpoReceptor\",\"Planta\",\"Tabla\",\"% diferencia_umbral\"])[\"Valor reportado\"].max()\n",
    "df_termoelectricas_filtrado= df_termoelectricas_filtrado.to_frame()\n",
    "df_termoelectricas_filtrado = df_termoelectricas_filtrado.reset_index()\n",
    "df_termoelectricas_filtrado.sort_values(by=['ANIO', 'MES',\"Parametro\",\"Tabla\"])"
   ]
  },
  {
   "cell_type": "markdown",
   "metadata": {},
   "source": [
    "Seleccionamos sólo los registros donde los valores de los parámetros superen los límites establecidos."
   ]
  },
  {
   "cell_type": "code",
   "execution_count": 8,
   "metadata": {},
   "outputs": [],
   "source": [
    "df_termoelectricas_filtrado=df_termoelectricas_filtrado.sort_values(by=['ANIO', 'MES',\"Parametro\",\"Tabla\"])\n",
    "df_termoelectricas_filtrado=df_termoelectricas_filtrado[['ANIO','MES',\"Parametro\",\"% diferencia_umbral\",\"CuerpoReceptor\",\"Planta\",\"Tabla\"]]\n",
    "df_termoelectricas_filtrado=df_termoelectricas_filtrado[df_termoelectricas_filtrado[\"% diferencia_umbral\"]>0]"
   ]
  },
  {
   "cell_type": "markdown",
   "metadata": {},
   "source": [
    "Filtraremos sólo por la Tabla 4, correspondiente a descargas (Mar adentro ZPL), puesto que esta es la única que presenta valores que exceden los límites permitidos."
   ]
  },
  {
   "cell_type": "code",
   "execution_count": 9,
   "metadata": {},
   "outputs": [
    {
     "name": "stdout",
     "output_type": "stream",
     "text": [
      "Tabla 4    18\n",
      "Name: Tabla, dtype: int64\n"
     ]
    }
   ],
   "source": [
    "print(df_termoelectricas_filtrado['Tabla'].value_counts())"
   ]
  },
  {
   "cell_type": "code",
   "execution_count": 10,
   "metadata": {},
   "outputs": [],
   "source": [
    "warnings.filterwarnings(\"ignore\")\n",
    "\n",
    "df_sunburst = df_termoelectricas_filtrado\n",
    "\n",
    "df_sunburst=df_sunburst.reset_index()\n",
    "for i in range(len(df_sunburst)):\n",
    "    df_sunburst[\"Planta\"][i]=df_sunburst[\"Planta\"][i].replace(\"CENTRAL TERMOELÉCTRICA \",\"\")\n",
    "    df_sunburst[\"Planta\"][i]=df_sunburst[\"Planta\"][i].replace(\"CENTRAL TERMOELECTRICA \",\"\")\n",
    "    df_sunburst[\"Planta\"][i]=df_sunburst[\"Planta\"][i].replace(\"CENTRAL TERMICA \",\"\")\n",
    "    \n",
    "    title = df_sunburst[\"Planta\"][i].split()\n",
    "    df_sunburst[\"Planta\"][i]=title[0]+'<BR>'+' '.join(title[1:len(title)])\n",
    "    \n",
    "    title = df_sunburst[\"CuerpoReceptor\"][i].split()\n",
    "    df_sunburst[\"CuerpoReceptor\"][i]=title[0]+'<BR>'+' '.join(title[1:len(title)])"
   ]
  },
  {
   "cell_type": "code",
   "execution_count": 11,
   "metadata": {},
   "outputs": [
    {
     "data": {
      "application/vnd.plotly.v1+json": {
       "config": {
        "plotlyServerURL": "https://plot.ly"
       },
       "data": [
        {
         "branchvalues": "total",
         "customdata": [
          [
           "Molibdeno"
          ],
          [
           "Molibdeno"
          ],
          [
           "Molibdeno"
          ],
          [
           "Molibdeno"
          ],
          [
           "Molibdeno"
          ],
          [
           "Temperatura"
          ],
          [
           "Temperatura"
          ],
          [
           "Temperatura"
          ],
          [
           "Temperatura"
          ],
          [
           "Temperatura"
          ],
          [
           "Molibdeno"
          ],
          [
           "Mercurio"
          ],
          [
           "Molibdeno"
          ],
          [
           "Temperatura"
          ],
          [
           "Mercurio"
          ],
          [
           "Molibdeno"
          ],
          [
           "Mercurio"
          ],
          [
           "Molibdeno"
          ],
          [
           "Temperatura"
          ],
          [
           "Temperatura"
          ],
          [
           "Temperatura"
          ],
          [
           "Temperatura"
          ],
          [
           "Temperatura"
          ],
          [
           "Temperatura"
          ],
          [
           "Molibdeno"
          ],
          [
           "Mercurio"
          ],
          [
           "Mercurio"
          ],
          [
           "Molibdeno"
          ],
          [
           "Molibdeno"
          ],
          [
           "Mercurio"
          ],
          [
           "Molibdeno"
          ],
          [
           "Molibdeno"
          ],
          [
           "Molibdeno"
          ],
          [
           "Molibdeno"
          ],
          [
           "Molibdeno"
          ],
          [
           "Molibdeno"
          ],
          [
           "Molibdeno"
          ],
          [
           "Temperatura"
          ],
          [
           "Temperatura"
          ],
          [
           "Temperatura"
          ],
          [
           "Temperatura"
          ],
          [
           "Temperatura"
          ],
          [
           "Molibdeno"
          ],
          [
           "Molibdeno"
          ],
          [
           "Mercurio"
          ],
          [
           "Molibdeno"
          ],
          [
           "Molibdeno"
          ],
          [
           "Molibdeno"
          ],
          [
           "Molibdeno"
          ],
          [
           "Molibdeno"
          ],
          [
           "Molibdeno"
          ],
          [
           "Temperatura"
          ],
          [
           "Mercurio"
          ],
          [
           "Mercurio"
          ],
          [
           "Mercurio"
          ],
          [
           "Mercurio"
          ],
          [
           "Mercurio"
          ],
          [
           "Molibdeno"
          ],
          [
           "Molibdeno"
          ],
          [
           "Molibdeno"
          ],
          [
           "Molibdeno"
          ],
          [
           "Molibdeno"
          ],
          [
           "Molibdeno"
          ],
          [
           "Molibdeno"
          ],
          [
           "Molibdeno"
          ],
          [
           "Molibdeno"
          ],
          [
           "Temperatura"
          ],
          [
           "Temperatura"
          ],
          [
           "Temperatura"
          ],
          [
           "Temperatura"
          ],
          [
           "Temperatura"
          ],
          [
           "Temperatura"
          ],
          [
           "Molibdeno"
          ],
          [
           "Molibdeno"
          ],
          [
           "Mercurio"
          ],
          [
           "Mercurio"
          ],
          [
           "Temperatura"
          ],
          [
           "Molibdeno"
          ],
          [
           "Molibdeno"
          ],
          [
           "Molibdeno"
          ],
          [
           "Molibdeno"
          ],
          [
           "Temperatura"
          ],
          [
           "Molibdeno"
          ],
          [
           "Temperatura"
          ],
          [
           "Molibdeno"
          ],
          [
           "Temperatura"
          ],
          [
           "Molibdeno"
          ],
          [
           "Temperatura"
          ],
          [
           "Temperatura"
          ],
          [
           "Mercurio"
          ],
          [
           "(?)"
          ],
          [
           "Molibdeno"
          ],
          [
           "(?)"
          ],
          [
           "(?)"
          ],
          [
           "Mercurio"
          ]
         ],
         "domain": {
          "x": [
           0,
           1
          ],
          "y": [
           0,
           1
          ]
         },
         "hovertemplate": "labels=%{label}<br>% diferencia_umbral=%{value}<br>parent=%{parent}<br>id=%{id}<br>Parametro=%{customdata[0]}<extra></extra>",
         "ids": [
          "2017/5/Molibdeno/BAHÍA<BR>QUINTERO/VENTANAS<BR>UNIDADES 1 Y 2/302.0",
          "2019/1/Molibdeno/BAHIA<BR>MEJILLONES/COCHRANE<BR>/159.0",
          "2018/9/Molibdeno/BAHÍA<BR>QUINTERO/VENTANAS<BR>UNIDADES 1 Y 2/59.0",
          "2018/7/Molibdeno/BAHÍA<BR>ALGODONALES/NUEVA<BR>TOCOPILLA/42.0",
          "2018/5/Molibdeno/BAHÍA<BR>QUINTERO/VENTANAS<BR>UNIDADES 1 Y 2/16.0",
          "2019/11/Temperatura/BAHIA<BR>MEJILLONES/ANDINA<BR>/13.7",
          "2019/8/Temperatura/BAHÍA<BR>QUINTERO/CAMPICHE<BR>/0.3",
          "2020/2/Temperatura/BAHIA<BR>MEJILLONES/ANGAMOS<BR>/8.7",
          "2019/6/Temperatura/BAHIA<BR>MEJILLONES/ANDINA<BR>/7.7",
          "2017/11/Temperatura/BAHIA<BR>MEJILLONES/ANGAMOS<BR>/1.3",
          "2018/6/Molibdeno/BAHÍA<BR>ALGODONALES/NUEVA<BR>TOCOPILLA/13.0",
          "2019/2/Mercurio/PENINSULA<BR>GUACOLDA/GUACOLDA<BR>/40.0",
          "2018/3/Molibdeno/BAHÍA<BR>QUINTERO/VENTANAS<BR>UNIDADES 1 Y 2/187.0",
          "2020/5/Temperatura/BAHIA<BR>MEJILLONES/ANDINA<BR>/3.3",
          "2021/11/Mercurio/BAHÍA<BR>QUINTERO/VENTANAS<BR>UNIDADES 1 Y 2/60.0",
          "2018/1/Molibdeno/BAHÍA<BR>QUINTERO/VENTANAS<BR>UNIDADES 1 Y 2/63.0",
          "2020/1/Mercurio/PENINSULA<BR>GUACOLDA/GUACOLDA<BR>/80.0",
          "2017/4/Molibdeno/BAHÍA<BR>QUINTERO/VENTANAS<BR>UNIDADES 1 Y 2/168.0",
          "2020/5/Temperatura/BAHIA<BR>MEJILLONES/ANDINA<BR>",
          "2019/6/Temperatura/BAHIA<BR>MEJILLONES/ANDINA<BR>",
          "2019/11/Temperatura/BAHIA<BR>MEJILLONES/ANDINA<BR>",
          "2020/2/Temperatura/BAHIA<BR>MEJILLONES/ANGAMOS<BR>",
          "2017/11/Temperatura/BAHIA<BR>MEJILLONES/ANGAMOS<BR>",
          "2019/8/Temperatura/BAHÍA<BR>QUINTERO/CAMPICHE<BR>",
          "2019/1/Molibdeno/BAHIA<BR>MEJILLONES/COCHRANE<BR>",
          "2020/1/Mercurio/PENINSULA<BR>GUACOLDA/GUACOLDA<BR>",
          "2019/2/Mercurio/PENINSULA<BR>GUACOLDA/GUACOLDA<BR>",
          "2018/6/Molibdeno/BAHÍA<BR>ALGODONALES/NUEVA<BR>TOCOPILLA",
          "2018/7/Molibdeno/BAHÍA<BR>ALGODONALES/NUEVA<BR>TOCOPILLA",
          "2021/11/Mercurio/BAHÍA<BR>QUINTERO/VENTANAS<BR>UNIDADES 1 Y 2",
          "2018/1/Molibdeno/BAHÍA<BR>QUINTERO/VENTANAS<BR>UNIDADES 1 Y 2",
          "2018/3/Molibdeno/BAHÍA<BR>QUINTERO/VENTANAS<BR>UNIDADES 1 Y 2",
          "2017/4/Molibdeno/BAHÍA<BR>QUINTERO/VENTANAS<BR>UNIDADES 1 Y 2",
          "2017/5/Molibdeno/BAHÍA<BR>QUINTERO/VENTANAS<BR>UNIDADES 1 Y 2",
          "2018/5/Molibdeno/BAHÍA<BR>QUINTERO/VENTANAS<BR>UNIDADES 1 Y 2",
          "2018/9/Molibdeno/BAHÍA<BR>QUINTERO/VENTANAS<BR>UNIDADES 1 Y 2",
          "2019/1/Molibdeno/BAHIA<BR>MEJILLONES",
          "2020/2/Temperatura/BAHIA<BR>MEJILLONES",
          "2020/5/Temperatura/BAHIA<BR>MEJILLONES",
          "2019/6/Temperatura/BAHIA<BR>MEJILLONES",
          "2017/11/Temperatura/BAHIA<BR>MEJILLONES",
          "2019/11/Temperatura/BAHIA<BR>MEJILLONES",
          "2018/6/Molibdeno/BAHÍA<BR>ALGODONALES",
          "2018/7/Molibdeno/BAHÍA<BR>ALGODONALES",
          "2021/11/Mercurio/BAHÍA<BR>QUINTERO",
          "2018/1/Molibdeno/BAHÍA<BR>QUINTERO",
          "2018/3/Molibdeno/BAHÍA<BR>QUINTERO",
          "2017/4/Molibdeno/BAHÍA<BR>QUINTERO",
          "2017/5/Molibdeno/BAHÍA<BR>QUINTERO",
          "2018/5/Molibdeno/BAHÍA<BR>QUINTERO",
          "2018/9/Molibdeno/BAHÍA<BR>QUINTERO",
          "2019/8/Temperatura/BAHÍA<BR>QUINTERO",
          "2020/1/Mercurio/PENINSULA<BR>GUACOLDA",
          "2019/2/Mercurio/PENINSULA<BR>GUACOLDA",
          "2020/1/Mercurio",
          "2019/2/Mercurio",
          "2021/11/Mercurio",
          "2018/1/Molibdeno",
          "2019/1/Molibdeno",
          "2018/3/Molibdeno",
          "2017/4/Molibdeno",
          "2017/5/Molibdeno",
          "2018/5/Molibdeno",
          "2018/6/Molibdeno",
          "2018/7/Molibdeno",
          "2018/9/Molibdeno",
          "2020/2/Temperatura",
          "2020/5/Temperatura",
          "2019/6/Temperatura",
          "2019/8/Temperatura",
          "2017/11/Temperatura",
          "2019/11/Temperatura",
          "2018/1",
          "2019/1",
          "2020/1",
          "2019/2",
          "2020/2",
          "2018/3",
          "2017/4",
          "2017/5",
          "2018/5",
          "2020/5",
          "2018/6",
          "2019/6",
          "2018/7",
          "2019/8",
          "2018/9",
          "2017/11",
          "2019/11",
          "2021/11",
          "2017",
          "2018",
          "2019",
          "2020",
          "2021"
         ],
         "insidetextfont": {
          "color": "white"
         },
         "insidetextorientation": "radial",
         "labels": [
          "302.0",
          "159.0",
          "59.0",
          "42.0",
          "16.0",
          "13.7",
          "0.3",
          "8.7",
          "7.7",
          "1.3",
          "13.0",
          "40.0",
          "187.0",
          "3.3",
          "60.0",
          "63.0",
          "80.0",
          "168.0",
          "ANDINA<BR>",
          "ANDINA<BR>",
          "ANDINA<BR>",
          "ANGAMOS<BR>",
          "ANGAMOS<BR>",
          "CAMPICHE<BR>",
          "COCHRANE<BR>",
          "GUACOLDA<BR>",
          "GUACOLDA<BR>",
          "NUEVA<BR>TOCOPILLA",
          "NUEVA<BR>TOCOPILLA",
          "VENTANAS<BR>UNIDADES 1 Y 2",
          "VENTANAS<BR>UNIDADES 1 Y 2",
          "VENTANAS<BR>UNIDADES 1 Y 2",
          "VENTANAS<BR>UNIDADES 1 Y 2",
          "VENTANAS<BR>UNIDADES 1 Y 2",
          "VENTANAS<BR>UNIDADES 1 Y 2",
          "VENTANAS<BR>UNIDADES 1 Y 2",
          "BAHIA<BR>MEJILLONES",
          "BAHIA<BR>MEJILLONES",
          "BAHIA<BR>MEJILLONES",
          "BAHIA<BR>MEJILLONES",
          "BAHIA<BR>MEJILLONES",
          "BAHIA<BR>MEJILLONES",
          "BAHÍA<BR>ALGODONALES",
          "BAHÍA<BR>ALGODONALES",
          "BAHÍA<BR>QUINTERO",
          "BAHÍA<BR>QUINTERO",
          "BAHÍA<BR>QUINTERO",
          "BAHÍA<BR>QUINTERO",
          "BAHÍA<BR>QUINTERO",
          "BAHÍA<BR>QUINTERO",
          "BAHÍA<BR>QUINTERO",
          "BAHÍA<BR>QUINTERO",
          "PENINSULA<BR>GUACOLDA",
          "PENINSULA<BR>GUACOLDA",
          "Mercurio",
          "Mercurio",
          "Mercurio",
          "Molibdeno",
          "Molibdeno",
          "Molibdeno",
          "Molibdeno",
          "Molibdeno",
          "Molibdeno",
          "Molibdeno",
          "Molibdeno",
          "Molibdeno",
          "Temperatura",
          "Temperatura",
          "Temperatura",
          "Temperatura",
          "Temperatura",
          "Temperatura",
          "1",
          "1",
          "1",
          "2",
          "2",
          "3",
          "4",
          "5",
          "5",
          "5",
          "6",
          "6",
          "7",
          "8",
          "9",
          "11",
          "11",
          "11",
          "2017",
          "2018",
          "2019",
          "2020",
          "2021"
         ],
         "marker": {
          "colors": [
           "#636efa",
           "#636efa",
           "#636efa",
           "#636efa",
           "#636efa",
           "#EF553B",
           "#EF553B",
           "#EF553B",
           "#EF553B",
           "#EF553B",
           "#636efa",
           "#00cc96",
           "#636efa",
           "#EF553B",
           "#00cc96",
           "#636efa",
           "#00cc96",
           "#636efa",
           "#EF553B",
           "#EF553B",
           "#EF553B",
           "#EF553B",
           "#EF553B",
           "#EF553B",
           "#636efa",
           "#00cc96",
           "#00cc96",
           "#636efa",
           "#636efa",
           "#00cc96",
           "#636efa",
           "#636efa",
           "#636efa",
           "#636efa",
           "#636efa",
           "#636efa",
           "#636efa",
           "#EF553B",
           "#EF553B",
           "#EF553B",
           "#EF553B",
           "#EF553B",
           "#636efa",
           "#636efa",
           "#00cc96",
           "#636efa",
           "#636efa",
           "#636efa",
           "#636efa",
           "#636efa",
           "#636efa",
           "#EF553B",
           "#00cc96",
           "#00cc96",
           "#00cc96",
           "#00cc96",
           "#00cc96",
           "#636efa",
           "#636efa",
           "#636efa",
           "#636efa",
           "#636efa",
           "#636efa",
           "#636efa",
           "#636efa",
           "#636efa",
           "#EF553B",
           "#EF553B",
           "#EF553B",
           "#EF553B",
           "#EF553B",
           "#EF553B",
           "#636efa",
           "#636efa",
           "#00cc96",
           "#00cc96",
           "#EF553B",
           "#636efa",
           "#636efa",
           "#636efa",
           "#636efa",
           "#EF553B",
           "#636efa",
           "#EF553B",
           "#636efa",
           "#EF553B",
           "#636efa",
           "#EF553B",
           "#EF553B",
           "#00cc96",
           "#ab63fa",
           "#636efa",
           "#ab63fa",
           "#ab63fa",
           "#00cc96"
          ]
         },
         "name": "",
         "parents": [
          "2017/5/Molibdeno/BAHÍA<BR>QUINTERO/VENTANAS<BR>UNIDADES 1 Y 2",
          "2019/1/Molibdeno/BAHIA<BR>MEJILLONES/COCHRANE<BR>",
          "2018/9/Molibdeno/BAHÍA<BR>QUINTERO/VENTANAS<BR>UNIDADES 1 Y 2",
          "2018/7/Molibdeno/BAHÍA<BR>ALGODONALES/NUEVA<BR>TOCOPILLA",
          "2018/5/Molibdeno/BAHÍA<BR>QUINTERO/VENTANAS<BR>UNIDADES 1 Y 2",
          "2019/11/Temperatura/BAHIA<BR>MEJILLONES/ANDINA<BR>",
          "2019/8/Temperatura/BAHÍA<BR>QUINTERO/CAMPICHE<BR>",
          "2020/2/Temperatura/BAHIA<BR>MEJILLONES/ANGAMOS<BR>",
          "2019/6/Temperatura/BAHIA<BR>MEJILLONES/ANDINA<BR>",
          "2017/11/Temperatura/BAHIA<BR>MEJILLONES/ANGAMOS<BR>",
          "2018/6/Molibdeno/BAHÍA<BR>ALGODONALES/NUEVA<BR>TOCOPILLA",
          "2019/2/Mercurio/PENINSULA<BR>GUACOLDA/GUACOLDA<BR>",
          "2018/3/Molibdeno/BAHÍA<BR>QUINTERO/VENTANAS<BR>UNIDADES 1 Y 2",
          "2020/5/Temperatura/BAHIA<BR>MEJILLONES/ANDINA<BR>",
          "2021/11/Mercurio/BAHÍA<BR>QUINTERO/VENTANAS<BR>UNIDADES 1 Y 2",
          "2018/1/Molibdeno/BAHÍA<BR>QUINTERO/VENTANAS<BR>UNIDADES 1 Y 2",
          "2020/1/Mercurio/PENINSULA<BR>GUACOLDA/GUACOLDA<BR>",
          "2017/4/Molibdeno/BAHÍA<BR>QUINTERO/VENTANAS<BR>UNIDADES 1 Y 2",
          "2020/5/Temperatura/BAHIA<BR>MEJILLONES",
          "2019/6/Temperatura/BAHIA<BR>MEJILLONES",
          "2019/11/Temperatura/BAHIA<BR>MEJILLONES",
          "2020/2/Temperatura/BAHIA<BR>MEJILLONES",
          "2017/11/Temperatura/BAHIA<BR>MEJILLONES",
          "2019/8/Temperatura/BAHÍA<BR>QUINTERO",
          "2019/1/Molibdeno/BAHIA<BR>MEJILLONES",
          "2020/1/Mercurio/PENINSULA<BR>GUACOLDA",
          "2019/2/Mercurio/PENINSULA<BR>GUACOLDA",
          "2018/6/Molibdeno/BAHÍA<BR>ALGODONALES",
          "2018/7/Molibdeno/BAHÍA<BR>ALGODONALES",
          "2021/11/Mercurio/BAHÍA<BR>QUINTERO",
          "2018/1/Molibdeno/BAHÍA<BR>QUINTERO",
          "2018/3/Molibdeno/BAHÍA<BR>QUINTERO",
          "2017/4/Molibdeno/BAHÍA<BR>QUINTERO",
          "2017/5/Molibdeno/BAHÍA<BR>QUINTERO",
          "2018/5/Molibdeno/BAHÍA<BR>QUINTERO",
          "2018/9/Molibdeno/BAHÍA<BR>QUINTERO",
          "2019/1/Molibdeno",
          "2020/2/Temperatura",
          "2020/5/Temperatura",
          "2019/6/Temperatura",
          "2017/11/Temperatura",
          "2019/11/Temperatura",
          "2018/6/Molibdeno",
          "2018/7/Molibdeno",
          "2021/11/Mercurio",
          "2018/1/Molibdeno",
          "2018/3/Molibdeno",
          "2017/4/Molibdeno",
          "2017/5/Molibdeno",
          "2018/5/Molibdeno",
          "2018/9/Molibdeno",
          "2019/8/Temperatura",
          "2020/1/Mercurio",
          "2019/2/Mercurio",
          "2020/1",
          "2019/2",
          "2021/11",
          "2018/1",
          "2019/1",
          "2018/3",
          "2017/4",
          "2017/5",
          "2018/5",
          "2018/6",
          "2018/7",
          "2018/9",
          "2020/2",
          "2020/5",
          "2019/6",
          "2019/8",
          "2017/11",
          "2019/11",
          "2018",
          "2019",
          "2020",
          "2019",
          "2020",
          "2018",
          "2017",
          "2017",
          "2018",
          "2020",
          "2018",
          "2019",
          "2018",
          "2019",
          "2018",
          "2017",
          "2019",
          "2021",
          "",
          "",
          "",
          "",
          ""
         ],
         "type": "sunburst",
         "values": [
          302,
          159,
          59,
          42,
          16,
          13.7,
          0.3,
          8.7,
          7.7,
          1.3,
          13,
          40,
          187,
          3.3,
          60,
          63,
          80,
          168,
          3.3,
          7.7,
          13.7,
          8.7,
          1.3,
          0.3,
          159,
          80,
          40,
          13,
          42,
          60,
          63,
          187,
          168,
          302,
          16,
          59,
          159,
          8.7,
          3.3,
          7.7,
          1.3,
          13.7,
          13,
          42,
          60,
          63,
          187,
          168,
          302,
          16,
          59,
          0.3,
          80,
          40,
          80,
          40,
          60,
          63,
          159,
          187,
          168,
          302,
          16,
          13,
          42,
          59,
          8.7,
          3.3,
          7.7,
          0.3,
          1.3,
          13.7,
          63,
          159,
          80,
          40,
          8.7,
          187,
          168,
          302,
          16,
          3.3,
          13,
          7.7,
          42,
          0.3,
          59,
          1.3,
          13.7,
          60,
          471.3,
          380,
          220.7,
          92,
          60
         ]
        }
       ],
       "layout": {
        "annotations": [
         {
          "arrowhead": 1,
          "font": {
           "color": "white",
           "size": 18
          },
          "showarrow": false,
          "text": "Año",
          "x": 0.5,
          "y": 0.57
         },
         {
          "arrowhead": 1,
          "font": {
           "color": "white",
           "size": 20
          },
          "showarrow": false,
          "text": "Mes",
          "x": 0.5,
          "y": 0.62
         },
         {
          "arrowhead": 1,
          "font": {
           "color": "white",
           "size": 20
          },
          "showarrow": false,
          "text": "Contaminante",
          "x": 0.5,
          "y": 0.72
         },
         {
          "arrowhead": 1,
          "font": {
           "color": "white",
           "size": 20
          },
          "showarrow": false,
          "text": "Cuerpo<BR>Receptor",
          "x": 0.5,
          "y": 0.82
         },
         {
          "arrowhead": 1,
          "font": {
           "color": "white",
           "size": 20
          },
          "showarrow": false,
          "text": "Termoeléctrica",
          "x": 0.5,
          "y": 0.89
         },
         {
          "arrowhead": 1,
          "font": {
           "color": "white",
           "size": 20
          },
          "showarrow": false,
          "text": "% Sobre el límite<BR>establecido",
          "x": 0.5,
          "y": 0.98
         },
         {
          "align": "left",
          "font": {
           "color": "black",
           "size": 16
          },
          "showarrow": false,
          "text": "Molibedeno  ",
          "x": 0.999,
          "y": 0.96
         },
         {
          "align": "left",
          "font": {
           "color": "black",
           "size": 16
          },
          "showarrow": false,
          "text": "Mercurio      ",
          "x": 0.999,
          "y": 0.93
         },
         {
          "align": "left",
          "font": {
           "color": "black",
           "size": 16
          },
          "showarrow": false,
          "text": "Temperatura",
          "x": 0.999,
          "y": 0.9
         },
         {
          "align": "left",
          "arrowhead": 1,
          "font": {
           "color": "purple",
           "size": 16
          },
          "showarrow": false,
          "text": "██",
          "x": 0.87,
          "y": 0.964
         },
         {
          "align": "left",
          "arrowhead": 1,
          "font": {
           "color": "green",
           "size": 16
          },
          "showarrow": false,
          "text": "██",
          "x": 0.87,
          "y": 0.934
         },
         {
          "align": "left",
          "arrowhead": 1,
          "font": {
           "color": "red",
           "size": 16
          },
          "showarrow": false,
          "text": "██",
          "x": 0.87,
          "y": 0.904
         }
        ],
        "autosize": false,
        "height": 1000,
        "legend": {
         "tracegroupgap": 0
        },
        "margin": {
         "t": 60
        },
        "template": {
         "data": {
          "bar": [
           {
            "error_x": {
             "color": "#2a3f5f"
            },
            "error_y": {
             "color": "#2a3f5f"
            },
            "marker": {
             "line": {
              "color": "#E5ECF6",
              "width": 0.5
             },
             "pattern": {
              "fillmode": "overlay",
              "size": 10,
              "solidity": 0.2
             }
            },
            "type": "bar"
           }
          ],
          "barpolar": [
           {
            "marker": {
             "line": {
              "color": "#E5ECF6",
              "width": 0.5
             },
             "pattern": {
              "fillmode": "overlay",
              "size": 10,
              "solidity": 0.2
             }
            },
            "type": "barpolar"
           }
          ],
          "carpet": [
           {
            "aaxis": {
             "endlinecolor": "#2a3f5f",
             "gridcolor": "white",
             "linecolor": "white",
             "minorgridcolor": "white",
             "startlinecolor": "#2a3f5f"
            },
            "baxis": {
             "endlinecolor": "#2a3f5f",
             "gridcolor": "white",
             "linecolor": "white",
             "minorgridcolor": "white",
             "startlinecolor": "#2a3f5f"
            },
            "type": "carpet"
           }
          ],
          "choropleth": [
           {
            "colorbar": {
             "outlinewidth": 0,
             "ticks": ""
            },
            "type": "choropleth"
           }
          ],
          "contour": [
           {
            "colorbar": {
             "outlinewidth": 0,
             "ticks": ""
            },
            "colorscale": [
             [
              0,
              "#0d0887"
             ],
             [
              0.1111111111111111,
              "#46039f"
             ],
             [
              0.2222222222222222,
              "#7201a8"
             ],
             [
              0.3333333333333333,
              "#9c179e"
             ],
             [
              0.4444444444444444,
              "#bd3786"
             ],
             [
              0.5555555555555556,
              "#d8576b"
             ],
             [
              0.6666666666666666,
              "#ed7953"
             ],
             [
              0.7777777777777778,
              "#fb9f3a"
             ],
             [
              0.8888888888888888,
              "#fdca26"
             ],
             [
              1,
              "#f0f921"
             ]
            ],
            "type": "contour"
           }
          ],
          "contourcarpet": [
           {
            "colorbar": {
             "outlinewidth": 0,
             "ticks": ""
            },
            "type": "contourcarpet"
           }
          ],
          "heatmap": [
           {
            "colorbar": {
             "outlinewidth": 0,
             "ticks": ""
            },
            "colorscale": [
             [
              0,
              "#0d0887"
             ],
             [
              0.1111111111111111,
              "#46039f"
             ],
             [
              0.2222222222222222,
              "#7201a8"
             ],
             [
              0.3333333333333333,
              "#9c179e"
             ],
             [
              0.4444444444444444,
              "#bd3786"
             ],
             [
              0.5555555555555556,
              "#d8576b"
             ],
             [
              0.6666666666666666,
              "#ed7953"
             ],
             [
              0.7777777777777778,
              "#fb9f3a"
             ],
             [
              0.8888888888888888,
              "#fdca26"
             ],
             [
              1,
              "#f0f921"
             ]
            ],
            "type": "heatmap"
           }
          ],
          "heatmapgl": [
           {
            "colorbar": {
             "outlinewidth": 0,
             "ticks": ""
            },
            "colorscale": [
             [
              0,
              "#0d0887"
             ],
             [
              0.1111111111111111,
              "#46039f"
             ],
             [
              0.2222222222222222,
              "#7201a8"
             ],
             [
              0.3333333333333333,
              "#9c179e"
             ],
             [
              0.4444444444444444,
              "#bd3786"
             ],
             [
              0.5555555555555556,
              "#d8576b"
             ],
             [
              0.6666666666666666,
              "#ed7953"
             ],
             [
              0.7777777777777778,
              "#fb9f3a"
             ],
             [
              0.8888888888888888,
              "#fdca26"
             ],
             [
              1,
              "#f0f921"
             ]
            ],
            "type": "heatmapgl"
           }
          ],
          "histogram": [
           {
            "marker": {
             "pattern": {
              "fillmode": "overlay",
              "size": 10,
              "solidity": 0.2
             }
            },
            "type": "histogram"
           }
          ],
          "histogram2d": [
           {
            "colorbar": {
             "outlinewidth": 0,
             "ticks": ""
            },
            "colorscale": [
             [
              0,
              "#0d0887"
             ],
             [
              0.1111111111111111,
              "#46039f"
             ],
             [
              0.2222222222222222,
              "#7201a8"
             ],
             [
              0.3333333333333333,
              "#9c179e"
             ],
             [
              0.4444444444444444,
              "#bd3786"
             ],
             [
              0.5555555555555556,
              "#d8576b"
             ],
             [
              0.6666666666666666,
              "#ed7953"
             ],
             [
              0.7777777777777778,
              "#fb9f3a"
             ],
             [
              0.8888888888888888,
              "#fdca26"
             ],
             [
              1,
              "#f0f921"
             ]
            ],
            "type": "histogram2d"
           }
          ],
          "histogram2dcontour": [
           {
            "colorbar": {
             "outlinewidth": 0,
             "ticks": ""
            },
            "colorscale": [
             [
              0,
              "#0d0887"
             ],
             [
              0.1111111111111111,
              "#46039f"
             ],
             [
              0.2222222222222222,
              "#7201a8"
             ],
             [
              0.3333333333333333,
              "#9c179e"
             ],
             [
              0.4444444444444444,
              "#bd3786"
             ],
             [
              0.5555555555555556,
              "#d8576b"
             ],
             [
              0.6666666666666666,
              "#ed7953"
             ],
             [
              0.7777777777777778,
              "#fb9f3a"
             ],
             [
              0.8888888888888888,
              "#fdca26"
             ],
             [
              1,
              "#f0f921"
             ]
            ],
            "type": "histogram2dcontour"
           }
          ],
          "mesh3d": [
           {
            "colorbar": {
             "outlinewidth": 0,
             "ticks": ""
            },
            "type": "mesh3d"
           }
          ],
          "parcoords": [
           {
            "line": {
             "colorbar": {
              "outlinewidth": 0,
              "ticks": ""
             }
            },
            "type": "parcoords"
           }
          ],
          "pie": [
           {
            "automargin": true,
            "type": "pie"
           }
          ],
          "scatter": [
           {
            "marker": {
             "colorbar": {
              "outlinewidth": 0,
              "ticks": ""
             }
            },
            "type": "scatter"
           }
          ],
          "scatter3d": [
           {
            "line": {
             "colorbar": {
              "outlinewidth": 0,
              "ticks": ""
             }
            },
            "marker": {
             "colorbar": {
              "outlinewidth": 0,
              "ticks": ""
             }
            },
            "type": "scatter3d"
           }
          ],
          "scattercarpet": [
           {
            "marker": {
             "colorbar": {
              "outlinewidth": 0,
              "ticks": ""
             }
            },
            "type": "scattercarpet"
           }
          ],
          "scattergeo": [
           {
            "marker": {
             "colorbar": {
              "outlinewidth": 0,
              "ticks": ""
             }
            },
            "type": "scattergeo"
           }
          ],
          "scattergl": [
           {
            "marker": {
             "colorbar": {
              "outlinewidth": 0,
              "ticks": ""
             }
            },
            "type": "scattergl"
           }
          ],
          "scattermapbox": [
           {
            "marker": {
             "colorbar": {
              "outlinewidth": 0,
              "ticks": ""
             }
            },
            "type": "scattermapbox"
           }
          ],
          "scatterpolar": [
           {
            "marker": {
             "colorbar": {
              "outlinewidth": 0,
              "ticks": ""
             }
            },
            "type": "scatterpolar"
           }
          ],
          "scatterpolargl": [
           {
            "marker": {
             "colorbar": {
              "outlinewidth": 0,
              "ticks": ""
             }
            },
            "type": "scatterpolargl"
           }
          ],
          "scatterternary": [
           {
            "marker": {
             "colorbar": {
              "outlinewidth": 0,
              "ticks": ""
             }
            },
            "type": "scatterternary"
           }
          ],
          "surface": [
           {
            "colorbar": {
             "outlinewidth": 0,
             "ticks": ""
            },
            "colorscale": [
             [
              0,
              "#0d0887"
             ],
             [
              0.1111111111111111,
              "#46039f"
             ],
             [
              0.2222222222222222,
              "#7201a8"
             ],
             [
              0.3333333333333333,
              "#9c179e"
             ],
             [
              0.4444444444444444,
              "#bd3786"
             ],
             [
              0.5555555555555556,
              "#d8576b"
             ],
             [
              0.6666666666666666,
              "#ed7953"
             ],
             [
              0.7777777777777778,
              "#fb9f3a"
             ],
             [
              0.8888888888888888,
              "#fdca26"
             ],
             [
              1,
              "#f0f921"
             ]
            ],
            "type": "surface"
           }
          ],
          "table": [
           {
            "cells": {
             "fill": {
              "color": "#EBF0F8"
             },
             "line": {
              "color": "white"
             }
            },
            "header": {
             "fill": {
              "color": "#C8D4E3"
             },
             "line": {
              "color": "white"
             }
            },
            "type": "table"
           }
          ]
         },
         "layout": {
          "annotationdefaults": {
           "arrowcolor": "#2a3f5f",
           "arrowhead": 0,
           "arrowwidth": 1
          },
          "autotypenumbers": "strict",
          "coloraxis": {
           "colorbar": {
            "outlinewidth": 0,
            "ticks": ""
           }
          },
          "colorscale": {
           "diverging": [
            [
             0,
             "#8e0152"
            ],
            [
             0.1,
             "#c51b7d"
            ],
            [
             0.2,
             "#de77ae"
            ],
            [
             0.3,
             "#f1b6da"
            ],
            [
             0.4,
             "#fde0ef"
            ],
            [
             0.5,
             "#f7f7f7"
            ],
            [
             0.6,
             "#e6f5d0"
            ],
            [
             0.7,
             "#b8e186"
            ],
            [
             0.8,
             "#7fbc41"
            ],
            [
             0.9,
             "#4d9221"
            ],
            [
             1,
             "#276419"
            ]
           ],
           "sequential": [
            [
             0,
             "#0d0887"
            ],
            [
             0.1111111111111111,
             "#46039f"
            ],
            [
             0.2222222222222222,
             "#7201a8"
            ],
            [
             0.3333333333333333,
             "#9c179e"
            ],
            [
             0.4444444444444444,
             "#bd3786"
            ],
            [
             0.5555555555555556,
             "#d8576b"
            ],
            [
             0.6666666666666666,
             "#ed7953"
            ],
            [
             0.7777777777777778,
             "#fb9f3a"
            ],
            [
             0.8888888888888888,
             "#fdca26"
            ],
            [
             1,
             "#f0f921"
            ]
           ],
           "sequentialminus": [
            [
             0,
             "#0d0887"
            ],
            [
             0.1111111111111111,
             "#46039f"
            ],
            [
             0.2222222222222222,
             "#7201a8"
            ],
            [
             0.3333333333333333,
             "#9c179e"
            ],
            [
             0.4444444444444444,
             "#bd3786"
            ],
            [
             0.5555555555555556,
             "#d8576b"
            ],
            [
             0.6666666666666666,
             "#ed7953"
            ],
            [
             0.7777777777777778,
             "#fb9f3a"
            ],
            [
             0.8888888888888888,
             "#fdca26"
            ],
            [
             1,
             "#f0f921"
            ]
           ]
          },
          "colorway": [
           "#636efa",
           "#EF553B",
           "#00cc96",
           "#ab63fa",
           "#FFA15A",
           "#19d3f3",
           "#FF6692",
           "#B6E880",
           "#FF97FF",
           "#FECB52"
          ],
          "font": {
           "color": "#2a3f5f"
          },
          "geo": {
           "bgcolor": "white",
           "lakecolor": "white",
           "landcolor": "#E5ECF6",
           "showlakes": true,
           "showland": true,
           "subunitcolor": "white"
          },
          "hoverlabel": {
           "align": "left"
          },
          "hovermode": "closest",
          "mapbox": {
           "style": "light"
          },
          "paper_bgcolor": "white",
          "plot_bgcolor": "#E5ECF6",
          "polar": {
           "angularaxis": {
            "gridcolor": "white",
            "linecolor": "white",
            "ticks": ""
           },
           "bgcolor": "#E5ECF6",
           "radialaxis": {
            "gridcolor": "white",
            "linecolor": "white",
            "ticks": ""
           }
          },
          "scene": {
           "xaxis": {
            "backgroundcolor": "#E5ECF6",
            "gridcolor": "white",
            "gridwidth": 2,
            "linecolor": "white",
            "showbackground": true,
            "ticks": "",
            "zerolinecolor": "white"
           },
           "yaxis": {
            "backgroundcolor": "#E5ECF6",
            "gridcolor": "white",
            "gridwidth": 2,
            "linecolor": "white",
            "showbackground": true,
            "ticks": "",
            "zerolinecolor": "white"
           },
           "zaxis": {
            "backgroundcolor": "#E5ECF6",
            "gridcolor": "white",
            "gridwidth": 2,
            "linecolor": "white",
            "showbackground": true,
            "ticks": "",
            "zerolinecolor": "white"
           }
          },
          "shapedefaults": {
           "line": {
            "color": "#2a3f5f"
           }
          },
          "ternary": {
           "aaxis": {
            "gridcolor": "white",
            "linecolor": "white",
            "ticks": ""
           },
           "baxis": {
            "gridcolor": "white",
            "linecolor": "white",
            "ticks": ""
           },
           "bgcolor": "#E5ECF6",
           "caxis": {
            "gridcolor": "white",
            "linecolor": "white",
            "ticks": ""
           }
          },
          "title": {
           "x": 0.05
          },
          "xaxis": {
           "automargin": true,
           "gridcolor": "white",
           "linecolor": "white",
           "ticks": "",
           "title": {
            "standoff": 15
           },
           "zerolinecolor": "white",
           "zerolinewidth": 2
          },
          "yaxis": {
           "automargin": true,
           "gridcolor": "white",
           "linecolor": "white",
           "ticks": "",
           "title": {
            "standoff": 15
           },
           "zerolinecolor": "white",
           "zerolinewidth": 2
          }
         }
        },
        "title": {
         "text": "CONTAMINANTES QUE SOBEREPASARON LOS LÍMITES PERMITIDOS<BR>ASOCIADOS A LAS DESCARGAS DE RESIDUOS LIQUIDOS A AGUAS MARINAS<BR>VALORES EXPRESADOS EN TERMINOS PORCENTUALES SOBRE EL LIMITE PERMITIDO",
         "x": 0.5,
         "y": 0.98
        },
        "width": 1000
       }
      }
     },
     "metadata": {},
     "output_type": "display_data"
    }
   ],
   "source": [
    "warnings.filterwarnings(\"ignore\")\n",
    "    \n",
    "fig = px.sunburst(df_sunburst, path=['ANIO','MES','Parametro','CuerpoReceptor','Planta',\"% diferencia_umbral\"], \n",
    "                  values='% diferencia_umbral',color='Parametro')\n",
    "\n",
    "fig.update_traces(insidetextfont_color=\"white\",insidetextorientation=\"radial\", selector=dict(type='sunburst'))\n",
    "\n",
    "fig.update_layout(title_text='CONTAMINANTES QUE SOBEREPASARON LOS LÍMITES PERMITIDOS<BR>ASOCIADOS A LAS DESCARGAS DE RESIDUOS LIQUIDOS A AGUAS MARINAS<BR>VALORES EXPRESADOS EN TERMINOS PORCENTUALES SOBRE EL LIMITE PERMITIDO'\n",
    "                  , title_x=0.5, title_y=0.98)         \n",
    "fig.update_layout(\n",
    "    autosize=False,\n",
    "    width=1000,\n",
    "    height=1000)\n",
    "\n",
    "fig.add_annotation(x=0.5, y=0.57,\n",
    "            text=\"Año\",\n",
    "            showarrow=False,\n",
    "            arrowhead=1,\n",
    "            font_color='white',\n",
    "            font_size=18\n",
    "            )\n",
    "fig.add_annotation(x=0.5, y=0.62,\n",
    "            text=\"Mes\",\n",
    "            showarrow=False,\n",
    "            arrowhead=1,\n",
    "            font_color='white',\n",
    "            font_size=20\n",
    "            )\n",
    "\n",
    "fig.add_annotation(x=0.5, y=0.72,\n",
    "            text=\"Contaminante\",\n",
    "            showarrow=False,\n",
    "            arrowhead=1,\n",
    "            font_color='white',\n",
    "            font_size=20\n",
    "            )\n",
    "\n",
    "fig.add_annotation(x=0.5, y=0.82,\n",
    "            text=\"Cuerpo<BR>Receptor\",\n",
    "            showarrow=False,\n",
    "            arrowhead=1,\n",
    "            font_color='white',\n",
    "            font_size=20\n",
    "            )\n",
    "\n",
    "fig.add_annotation(x=0.5, y=0.89,\n",
    "            text=\"Termoeléctrica\",\n",
    "            showarrow=False,\n",
    "            arrowhead=1,\n",
    "            font_color='white',\n",
    "            font_size=20\n",
    "            )\n",
    "fig.add_annotation(x=0.5, y=0.98,\n",
    "            text=\"% Sobre el límite<BR>establecido\",\n",
    "            showarrow=False,\n",
    "            arrowhead=1,\n",
    "            font_color='white',\n",
    "            font_size=20\n",
    "            )\n",
    "\n",
    "fig.add_annotation(x=0.999, y=0.96,\n",
    "            text=\"Molibedeno  \",\n",
    "            align=\"left\",\n",
    "            showarrow=False,\n",
    "            font_color='black',\n",
    "            font_size=16\n",
    "            )\n",
    "fig.add_annotation(x=0.999, y=0.93,\n",
    "            text=\"Mercurio      \",\n",
    "            align=\"left\",\n",
    "            showarrow=False,\n",
    "            font_color='black',\n",
    "            font_size=16\n",
    "            )\n",
    "fig.add_annotation(x=0.999, y=0.90,\n",
    "            text=\"Temperatura\",\n",
    "            align=\"left\",\n",
    "            showarrow=False,\n",
    "            font_color='black',\n",
    "            font_size=16\n",
    "            )\n",
    "\n",
    "fig.add_annotation(x=0.87, y=0.964,\n",
    "            text=\"██\",\n",
    "            align=\"left\",\n",
    "            showarrow=False,\n",
    "            arrowhead=1,\n",
    "            font_color='purple',\n",
    "            font_size=16\n",
    "            )\n",
    "fig.add_annotation(x=0.87, y=0.934,\n",
    "            text=\"██\",\n",
    "            align=\"left\",\n",
    "            showarrow=False,\n",
    "            arrowhead=1,\n",
    "            font_color='green',\n",
    "            font_size=16\n",
    "            )\n",
    "fig.add_annotation(x=0.87, y=0.904,\n",
    "            text=\"██\",\n",
    "            align=\"left\",\n",
    "            showarrow=False,\n",
    "            arrowhead=1,\n",
    "            font_color='red',\n",
    "            font_size=16\n",
    "            )\n",
    "\n",
    "fig.show()"
   ]
  },
  {
   "cell_type": "markdown",
   "metadata": {},
   "source": [
    "## Temperatura"
   ]
  },
  {
   "cell_type": "code",
   "execution_count": 12,
   "metadata": {},
   "outputs": [],
   "source": [
    "temperaturas = pd.read_csv(\"../processed_data/temperatura.csv\", sep = \";\")\n",
    "temperaturas_tabla4 = temperaturas[temperaturas[\"Tabla\"] == \"Tabla 4\"].sort_values(by=[\"ANIO\", \"MES\"]).reset_index()"
   ]
  },
  {
   "cell_type": "code",
   "execution_count": 13,
   "metadata": {},
   "outputs": [],
   "source": [
    "fechas = []\n",
    "for index, row in temperaturas_tabla4.iterrows():\n",
    "    anio = str(temperaturas_tabla4.iloc[index][\"ANIO\"])\n",
    "    if temperaturas_tabla4.iloc[index][\"MES\"] < 10:\n",
    "        mes = \"0\" + str(temperaturas_tabla4.iloc[index][\"MES\"])\n",
    "    else:\n",
    "        mes = str(temperaturas_tabla4.iloc[index][\"MES\"])\n",
    "    fecha = anio + \"/\" + mes\n",
    "    fechas.append(fecha)\n",
    "temperaturas_tabla4[\"FECHA\"] = pd.Series(fechas)\n",
    "temperaturas_tabla4[\"FECHA\"] = temperaturas_tabla4[\"FECHA\"].astype(\"datetime64\")"
   ]
  },
  {
   "cell_type": "code",
   "execution_count": 14,
   "metadata": {},
   "outputs": [
    {
     "data": {
      "text/plain": [
       "(783, 14)"
      ]
     },
     "execution_count": 14,
     "metadata": {},
     "output_type": "execute_result"
    }
   ],
   "source": [
    "temperaturas_tabla4.shape"
   ]
  },
  {
   "cell_type": "code",
   "execution_count": 15,
   "metadata": {},
   "outputs": [
    {
     "data": {
      "image/png": "[encoded data removed]",
      "text/plain": [
       "<Figure size 576x504 with 1 Axes>"
      ]
     },
     "metadata": {
      "needs_background": "light"
     },
     "output_type": "display_data"
    }
   ],
   "source": [
    "plantas = temperaturas_tabla4[\"Planta\"].unique()\n",
    "\n",
    "fig, ax = plt.subplots(1,1, figsize=(8,7))\n",
    "\n",
    "for planta in plantas:\n",
    "    df_planta = temperaturas_tabla4[temperaturas_tabla4[\"Planta\"] == planta]\n",
    "    color = 'red' if planta == 'CENTRAL TERMICA ANDINA' else 'lightgray'\n",
    "    label = planta if planta == 'CENTRAL TERMICA ANDINA' else ''\n",
    "    df_planta.plot(x='FECHA', y='% diferencia_umbral', color=color, ax=ax, legend=False, label = label)\n",
    "ax.set_ylabel(\"% de diferencia con el umbral\")\n",
    "ax.set_xlabel(\"Fecha\").set_visible(False)\n",
    "fig.tight_layout()\n",
    "ax.spines['right'].set_visible(False)\n",
    "ax.spines['top'].set_visible(False)\n",
    "ax.axhline(y = 0)\n",
    "ax.set_title(\"Entre las termoeléctricas, la Central Térmica Andina presenta las mayores temperaturas.\")\n",
    "ax.autoscale(enable = True, axis = \"both\", tight = True)\n",
    "ax.legend()\n",
    "plt.show()"
   ]
  },
  {
   "cell_type": "markdown",
   "metadata": {},
   "source": [
    "## Molibdeno"
   ]
  },
  {
   "cell_type": "code",
   "execution_count": 16,
   "metadata": {},
   "outputs": [],
   "source": [
    "molibdeno = pd.read_csv(\"../processed_data/molibdeno.csv\", sep = \";\")\n",
    "molibdeno_tabla4 = molibdeno[molibdeno[\"Tabla\"] == \"Tabla 4\"].sort_values(by=[\"ANIO\", \"MES\"]).reset_index()"
   ]
  },
  {
   "cell_type": "code",
   "execution_count": 17,
   "metadata": {},
   "outputs": [],
   "source": [
    "fechas = []\n",
    "for index, row in molibdeno_tabla4.iterrows():\n",
    "    anio = str(molibdeno_tabla4.iloc[index][\"ANIO\"])\n",
    "    if molibdeno_tabla4.iloc[index][\"MES\"] < 10:\n",
    "        mes = \"0\" + str(molibdeno_tabla4.iloc[index][\"MES\"])\n",
    "    else:\n",
    "        mes = str(molibdeno_tabla4.iloc[index][\"MES\"])\n",
    "    fecha = anio + \"/\" + mes\n",
    "    fechas.append(fecha)\n",
    "molibdeno_tabla4[\"FECHA\"] = pd.Series(fechas)\n",
    "molibdeno_tabla4[\"FECHA\"] = molibdeno_tabla4[\"FECHA\"].astype(\"datetime64\")"
   ]
  },
  {
   "cell_type": "code",
   "execution_count": 18,
   "metadata": {},
   "outputs": [
    {
     "data": {
      "text/plain": [
       "(254, 14)"
      ]
     },
     "execution_count": 18,
     "metadata": {},
     "output_type": "execute_result"
    }
   ],
   "source": [
    "molibdeno_tabla4.shape"
   ]
  },
  {
   "cell_type": "code",
   "execution_count": 19,
   "metadata": {},
   "outputs": [
    {
     "data": {
      "image/png": "[encoded data removed]",
      "text/plain": [
       "<Figure size 576x504 with 1 Axes>"
      ]
     },
     "metadata": {
      "needs_background": "light"
     },
     "output_type": "display_data"
    }
   ],
   "source": [
    "plantas = molibdeno_tabla4[\"Planta\"].unique()\n",
    "\n",
    "fig, ax = plt.subplots(1,1, figsize=(8,7))\n",
    "\n",
    "for planta in plantas:\n",
    "    df_planta = molibdeno_tabla4[molibdeno_tabla4[\"Planta\"] == planta]\n",
    "    color = 'red' if planta == 'CENTRAL TERMOELÉCTRICA VENTANAS UNIDADES 1 Y 2' else 'lightgray'\n",
    "    label = planta if planta == 'CENTRAL TERMOELÉCTRICA VENTANAS UNIDADES 1 Y 2' else ''\n",
    "    df_planta.plot(x='FECHA', y='% diferencia_umbral', color=color, ax=ax, legend=False, label = label)\n",
    "ax.set_ylabel(\"% de diferencia con el umbral\")\n",
    "ax.set_xlabel(\"Fecha\").set_visible(False)\n",
    "fig.tight_layout()\n",
    "ax.spines['right'].set_visible(False)\n",
    "ax.spines['top'].set_visible(False)\n",
    "ax.axhline(y = 0)\n",
    "ax.set_title(\"La termoeléctrica Ventanas sobrepasó los valores permitidos de Molibdeno en 2017 y 2018\")\n",
    "ax.legend()\n",
    "plt.show()"
   ]
  },
  {
   "cell_type": "markdown",
   "metadata": {},
   "source": [
    "## Mercurio"
   ]
  },
  {
   "cell_type": "code",
   "execution_count": 20,
   "metadata": {},
   "outputs": [],
   "source": [
    "mercurio = pd.read_csv(\"../processed_data/mercurio.csv\", sep = \";\")\n",
    "mercurio_tabla4 = mercurio[mercurio[\"Tabla\"] == \"Tabla 4\"].sort_values(by=[\"ANIO\", \"MES\"]).reset_index()"
   ]
  },
  {
   "cell_type": "code",
   "execution_count": 21,
   "metadata": {},
   "outputs": [],
   "source": [
    "fechas = []\n",
    "for index, row in mercurio_tabla4.iterrows():\n",
    "    anio = str(mercurio_tabla4.iloc[index][\"ANIO\"])\n",
    "    if mercurio_tabla4.iloc[index][\"MES\"] < 10:\n",
    "        mes = \"0\" + str(mercurio_tabla4.iloc[index][\"MES\"])\n",
    "    else:\n",
    "        mes = str(mercurio_tabla4.iloc[index][\"MES\"])\n",
    "    fecha = anio + \"/\" + mes\n",
    "    fechas.append(fecha)\n",
    "mercurio_tabla4[\"FECHA\"] = pd.Series(fechas)\n",
    "mercurio_tabla4[\"FECHA\"] = mercurio_tabla4[\"FECHA\"].astype(\"datetime64\")"
   ]
  },
  {
   "cell_type": "code",
   "execution_count": 22,
   "metadata": {},
   "outputs": [
    {
     "data": {
      "text/plain": [
       "(196, 14)"
      ]
     },
     "execution_count": 22,
     "metadata": {},
     "output_type": "execute_result"
    }
   ],
   "source": [
    "mercurio_tabla4.shape"
   ]
  },
  {
   "cell_type": "code",
   "execution_count": 23,
   "metadata": {},
   "outputs": [
    {
     "data": {
      "image/png": "[encoded data removed]",
      "text/plain": [
       "<Figure size 576x504 with 1 Axes>"
      ]
     },
     "metadata": {
      "needs_background": "light"
     },
     "output_type": "display_data"
    }
   ],
   "source": [
    "plantas = mercurio_tabla4[\"Planta\"].unique()\n",
    "\n",
    "fig, ax = plt.subplots(1,1, figsize=(8,7))\n",
    "\n",
    "for planta in plantas:\n",
    "    df_planta = mercurio_tabla4[mercurio_tabla4[\"Planta\"] == planta]\n",
    "    color = 'red' if planta == 'GUACOLDA' else 'lightgray'\n",
    "    label = planta if planta == 'GUACOLDA' else ''\n",
    "    df_planta.plot(x='FECHA', y='% diferencia_umbral', color=color, ax=ax, legend=False, label = label)\n",
    "ax.set_ylabel(\"% de diferencia con el umbral\")\n",
    "ax.set_xlabel(\"Fecha\").set_visible(False)\n",
    "fig.tight_layout()\n",
    "ax.spines['right'].set_visible(False)\n",
    "ax.spines['top'].set_visible(False)\n",
    "ax.axhline(y = 0)\n",
    "ax.set_title(\"La central Guacolda ha tenido dos eventos que sobrepasaron los límites de Mercurio.\")\n",
    "ax.legend()\n",
    "plt.show()"
   ]
  }
 ],
 "metadata": {
  "kernelspec": {
   "display_name": "Python 3.9.12 ('base')",
   "language": "python",
   "name": "python3"
  },
  "language_info": {
   "codemirror_mode": {
    "name": "ipython",
    "version": 3
   },
   "file_extension": ".py",
   "mimetype": "text/x-python",
   "name": "python",
   "nbconvert_exporter": "python",
   "pygments_lexer": "ipython3",
   "version": "3.9.12"
  },
  "orig_nbformat": 4,
  "vscode": {
   "interpreter": {
    "hash": "ab442baed0c0d8002d8544244931314372b4e866e16812c16c3d4746c71db3e1"
   }
  }
 },
 "nbformat": 4,
 "nbformat_minor": 2
}
