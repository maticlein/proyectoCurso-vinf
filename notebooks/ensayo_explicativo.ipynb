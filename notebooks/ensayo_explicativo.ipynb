{
 "cells": [
  {
   "cell_type": "markdown",
   "metadata": {},
   "source": [
    "# Proyecto de Curso - Visualización de la Información"
   ]
  },
  {
   "cell_type": "markdown",
   "metadata": {},
   "source": [
    "## Hipótesis"
   ]
  },
  {
   "cell_type": "markdown",
   "metadata": {},
   "source": [
    "Las centrales termoeléctricas chilenas ubicadas en las llamadas “zonas de sacrificio” son ambientalmente agresivas por la contaminación en cuerpos de aguas superficiales (ríos, lagos, mar) según la Normativa Ambiental Vigente en Chile."
   ]
  },
  {
   "cell_type": "markdown",
   "metadata": {},
   "source": [
    "## Termoeléctricas"
   ]
  },
  {
   "cell_type": "markdown",
   "metadata": {},
   "source": [
    "Nuestra fuente de datos proviene de la página web https://snifa.sma.gob.cl/DatosAbiertos, más específicamente del apartado RILES, el cual corresponde a una carpeta en Google Drive que contiene información entre los años 2017 al 2022, así como también un documento descriptivo en PDF que detalla los datos.\n",
    "Nuestra principal motivación para realizar este análisis partió desde la revisión de noticias y eventos particulares que conllevan a un cese de operación de las termoeléctricas el cual no debe extenderse a más allá del año 2030, debido a la alta contaminación que existe con relación a estas. "
   ]
  },
  {
   "cell_type": "markdown",
   "metadata": {},
   "source": [
    "Lo primero es importar las librerías para cargar y manipular la información, además de realizar los gráficos."
   ]
  },
  {
   "cell_type": "code",
   "execution_count": 1,
   "metadata": {},
   "outputs": [],
   "source": [
    "import pandas as pd\n",
    "import matplotlib.pyplot as plt \n",
    "import geopandas as gpd\n",
    "import folium\n",
    "import warnings\n",
    "import plotly.express as px"
   ]
  },
  {
   "cell_type": "markdown",
   "metadata": {},
   "source": [
    "Cargamos la información de las termoeléctricas entre los años 2017 y 2022. En ella se encuentran las mediciones de Temperatura, Hierro Disuelto, Cobre, Molibdeno y Mercurio."
   ]
  },
  {
   "cell_type": "code",
   "execution_count": 2,
   "metadata": {},
   "outputs": [],
   "source": [
    "df_termoelectricas = pd.read_csv(\"../processed_data/data_termoelectricas.csv\", sep = \";\")"
   ]
  },
  {
   "cell_type": "code",
   "execution_count": 3,
   "metadata": {},
   "outputs": [
    {
     "data": {
      "text/plain": [
       "(3858, 13)"
      ]
     },
     "execution_count": 3,
     "metadata": {},
     "output_type": "execute_result"
    }
   ],
   "source": [
    "gdf = gpd.GeoDataFrame(df_termoelectricas, geometry = gpd.points_from_xy(df_termoelectricas[\"Longitud\"], df_termoelectricas[\"Latitud\"]))\n",
    "gdf.shape"
   ]
  },
  {
   "cell_type": "markdown",
   "metadata": {},
   "source": [
    "Creamos un mapa que tenga como punto de vista inicial Santiago. Luego importamos el polígono de los límites de Chile, el cual graficaremos encima del mapa para resaltarle al usuario el espacio de búsqueda."
   ]
  },
  {
   "cell_type": "code",
   "execution_count": 4,
   "metadata": {},
   "outputs": [
    {
     "data": {
      "text/plain": [
       "<folium.features.GeoJson at 0x7fa096468a30>"
      ]
     },
     "execution_count": 4,
     "metadata": {},
     "output_type": "execute_result"
    }
   ],
   "source": [
    "f = folium.Figure(width=800, height=600)\n",
    "map = folium.Map(location = [-33.37041450381538, -70.69793610926665], crs = \"EPSG3857\" ,zoom_start=3.5, tiles='OpenStreetMap').add_to(f)\n",
    "world = gpd.read_file(gpd.datasets.get_path('naturalearth_lowres'))\n",
    "chile = world.loc[world['name'] == 'Chile']\n",
    "sim_geo = gpd.GeoSeries(chile['geometry']).simplify(tolerance=0.001)\n",
    "geo_j = sim_geo.to_json()\n",
    "geo_j = folium.GeoJson(data=geo_j, style_function=lambda x: {'fillColor': 'orange'})\n",
    "folium.Popup(chile[\"name\"].values[0]).add_to(geo_j)\n",
    "geo_j.add_to(map)"
   ]
  },
  {
   "cell_type": "markdown",
   "metadata": {},
   "source": [
    "A partir de los nombres de las plantas buscamos sus coordenadas y crearemos un nuevo DataFrame que contenga esa información. Luego, graficaremos un marcador en el mapa en las coordenadas de todas las Termoeléctricas."
   ]
  },
  {
   "cell_type": "code",
   "execution_count": 19,
   "metadata": {},
   "outputs": [
    {
     "data": {
      "text/html": [
       "<iframe srcdoc=\"&lt;!DOCTYPE html&gt;\n",
       "&lt;head&gt;    \n",
       "    &lt;meta http-equiv=&quot;content-type&quot; content=&quot;text/html; charset=UTF-8&quot; /&gt;\n",
       "    \n",
       "        &lt;script&gt;\n",
       "            L_NO_TOUCH = false;\n",
       "            L_DISABLE_3D = false;\n",
       "        &lt;/script&gt;\n",
       "    \n",
       "    &lt;style&gt;html, body {width: 100%;height: 100%;margin: 0;padding: 0;}&lt;/style&gt;\n",
       "    &lt;style&gt;#map {position:absolute;top:0;bottom:0;right:0;left:0;}&lt;/style&gt;\n",
       "    &lt;script src=&quot;https://cdn.jsdelivr.net/npm/leaflet@1.6.0/dist/leaflet.js&quot;&gt;&lt;/script&gt;\n",
       "    &lt;script src=&quot;https://code.jquery.com/jquery-1.12.4.min.js&quot;&gt;&lt;/script&gt;\n",
       "    &lt;script src=&quot;https://maxcdn.bootstrapcdn.com/bootstrap/3.2.0/js/bootstrap.min.js&quot;&gt;&lt;/script&gt;\n",
       "    &lt;script src=&quot;https://cdnjs.cloudflare.com/ajax/libs/Leaflet.awesome-markers/2.0.2/leaflet.awesome-markers.js&quot;&gt;&lt;/script&gt;\n",
       "    &lt;link rel=&quot;stylesheet&quot; href=&quot;https://cdn.jsdelivr.net/npm/leaflet@1.6.0/dist/leaflet.css&quot;/&gt;\n",
       "    &lt;link rel=&quot;stylesheet&quot; href=&quot;https://maxcdn.bootstrapcdn.com/bootstrap/3.2.0/css/bootstrap.min.css&quot;/&gt;\n",
       "    &lt;link rel=&quot;stylesheet&quot; href=&quot;https://maxcdn.bootstrapcdn.com/bootstrap/3.2.0/css/bootstrap-theme.min.css&quot;/&gt;\n",
       "    &lt;link rel=&quot;stylesheet&quot; href=&quot;https://maxcdn.bootstrapcdn.com/font-awesome/4.6.3/css/font-awesome.min.css&quot;/&gt;\n",
       "    &lt;link rel=&quot;stylesheet&quot; href=&quot;https://cdnjs.cloudflare.com/ajax/libs/Leaflet.awesome-markers/2.0.2/leaflet.awesome-markers.css&quot;/&gt;\n",
       "    &lt;link rel=&quot;stylesheet&quot; href=&quot;https://cdn.jsdelivr.net/gh/python-visualization/folium/folium/templates/leaflet.awesome.rotate.min.css&quot;/&gt;\n",
       "    \n",
       "            &lt;meta name=&quot;viewport&quot; content=&quot;width=device-width,\n",
       "                initial-scale=1.0, maximum-scale=1.0, user-scalable=no&quot; /&gt;\n",
       "            &lt;style&gt;\n",
       "                #map_cfa210e3c4f1a3c34686dc3b823f6a8a {\n",
       "                    position: relative;\n",
       "                    width: 100.0%;\n",
       "                    height: 100.0%;\n",
       "                    left: 0.0%;\n",
       "                    top: 0.0%;\n",
       "                }\n",
       "            &lt;/style&gt;\n",
       "        \n",
       "&lt;/head&gt;\n",
       "&lt;body&gt;    \n",
       "    \n",
       "            &lt;div class=&quot;folium-map&quot; id=&quot;map_cfa210e3c4f1a3c34686dc3b823f6a8a&quot; &gt;&lt;/div&gt;\n",
       "        \n",
       "&lt;/body&gt;\n",
       "&lt;script&gt;    \n",
       "    \n",
       "            var map_cfa210e3c4f1a3c34686dc3b823f6a8a = L.map(\n",
       "                &quot;map_cfa210e3c4f1a3c34686dc3b823f6a8a&quot;,\n",
       "                {\n",
       "                    center: [-33.37041450381538, -70.69793610926665],\n",
       "                    crs: L.CRS.EPSG3857,\n",
       "                    zoom: 3.5,\n",
       "                    zoomControl: true,\n",
       "                    preferCanvas: false,\n",
       "                }\n",
       "            );\n",
       "\n",
       "            \n",
       "\n",
       "        \n",
       "    \n",
       "            var tile_layer_7e0db87e2ddcf77104e998800e4e5359 = L.tileLayer(\n",
       "                &quot;https://{s}.tile.openstreetmap.org/{z}/{x}/{y}.png&quot;,\n",
       "                {&quot;attribution&quot;: &quot;Data by \\u0026copy; \\u003ca href=\\&quot;http://openstreetmap.org\\&quot;\\u003eOpenStreetMap\\u003c/a\\u003e, under \\u003ca href=\\&quot;http://www.openstreetmap.org/copyright\\&quot;\\u003eODbL\\u003c/a\\u003e.&quot;, &quot;detectRetina&quot;: false, &quot;maxNativeZoom&quot;: 18, &quot;maxZoom&quot;: 18, &quot;minZoom&quot;: 0, &quot;noWrap&quot;: false, &quot;opacity&quot;: 1, &quot;subdomains&quot;: &quot;abc&quot;, &quot;tms&quot;: false}\n",
       "            ).addTo(map_cfa210e3c4f1a3c34686dc3b823f6a8a);\n",
       "        \n",
       "    \n",
       "        function geo_json_57a3461ebfd45843011bb521f8a9d8a0_styler(feature) {\n",
       "            switch(feature.id) {\n",
       "                default:\n",
       "                    return {&quot;fillColor&quot;: &quot;orange&quot;};\n",
       "            }\n",
       "        }\n",
       "\n",
       "        function geo_json_57a3461ebfd45843011bb521f8a9d8a0_onEachFeature(feature, layer) {\n",
       "            layer.on({\n",
       "            });\n",
       "        };\n",
       "        var geo_json_57a3461ebfd45843011bb521f8a9d8a0 = L.geoJson(null, {\n",
       "                onEachFeature: geo_json_57a3461ebfd45843011bb521f8a9d8a0_onEachFeature,\n",
       "            \n",
       "                style: geo_json_57a3461ebfd45843011bb521f8a9d8a0_styler,\n",
       "        });\n",
       "\n",
       "        function geo_json_57a3461ebfd45843011bb521f8a9d8a0_add (data) {\n",
       "            geo_json_57a3461ebfd45843011bb521f8a9d8a0\n",
       "                .addData(data)\n",
       "                .addTo(map_cfa210e3c4f1a3c34686dc3b823f6a8a);\n",
       "        }\n",
       "            geo_json_57a3461ebfd45843011bb521f8a9d8a0_add({&quot;bbox&quot;: [-75.64439531116545, -55.61183, -66.95992000000001, -17.580011895419332], &quot;features&quot;: [{&quot;bbox&quot;: [-75.64439531116545, -55.61183, -66.95992000000001, -17.580011895419332], &quot;geometry&quot;: {&quot;coordinates&quot;: [[[[-68.63401022758323, -52.63637045887449], [-68.63335000000001, -54.869499999999995], [-67.56244, -54.87001], [-66.95992000000001, -54.896810000000016], [-67.29102999999992, -55.30123999999995], [-68.14862999999991, -55.61183], [-68.63999081081187, -55.58001799908692], [-69.2321, -55.49905999999993], [-69.95808999999997, -55.19843000000003], [-71.00567999999998, -55.053830000000005], [-72.26390000000004, -54.49513999999999], [-73.28519999999997, -53.95751999999993], [-74.66253, -52.837489999999946], [-73.8381, -53.04743000000002], [-72.43417999999997, -53.71539999999999], [-71.10773, -54.07432999999992], [-70.59177999999986, -53.61582999999996], [-70.26747999999998, -52.93123000000003], [-69.34564999999992, -52.518299999999954], [-68.63401022758323, -52.63637045887449]]], [[[-69.59042375352405, -17.580011895419332], [-69.10024695501949, -18.260125420812678], [-68.96681840684187, -18.981683444904107], [-68.44222510443092, -19.40506845467143], [-68.75716712103375, -20.372657972904463], [-68.21991309271128, -21.494346612231865], [-67.82817989772273, -22.872918796482175], [-67.1066735500636, -22.735924574476417], [-66.9852339341777, -22.98634856536284], [-67.32844295924417, -24.02530323659095], [-68.41765296087614, -24.51855478281688], [-68.38600114609736, -26.185016371365215], [-68.59479977077268, -26.506908868111296], [-68.29554155137043, -26.89933969493578], [-69.00123491074825, -27.52121388113618], [-69.65613033718317, -28.459141127233686], [-70.01355038112992, -29.367922865518572], [-69.91900834825194, -30.33633920666828], [-70.53506893581951, -31.36501026787031], [-70.0743993801536, -33.09120981214805], [-69.81477698431922, -33.273886000299825], [-69.81730912950152, -34.1935714657983], [-70.38804948594913, -35.16968759535949], [-70.36476925320164, -36.00508879978992], [-71.12188066270987, -36.65812387466232], [-71.11862504747549, -37.57682748794724], [-70.81466427273469, -38.55299529394074], [-71.41351660834906, -38.91602223079114], [-71.68076127794649, -39.808164157878046], [-71.91573401557763, -40.83233936947069], [-71.7468037584155, -42.05138640723598], [-72.14889807807856, -42.254888197601375], [-71.91542395698389, -43.40856454851745], [-71.46405615913051, -43.787611179378345], [-71.79362260607193, -44.207172133156064], [-71.32980078803622, -44.407521661151655], [-71.22277889675976, -44.784242852559416], [-71.65931555854536, -44.973688653341426], [-71.55200944689128, -45.5607329241771], [-71.91725847033024, -46.88483814879177], [-72.44735531278027, -47.73853281025352], [-72.33116085477201, -48.2442383766618], [-72.64824744331494, -48.87861825947683], [-73.4154357571201, -49.31843637471297], [-73.32805091011453, -50.378785088909915], [-72.97574683296469, -50.741450290734285], [-72.30997351753234, -50.67700977966632], [-72.32940385607407, -51.42595631287243], [-71.91480383979638, -52.0090223058659], [-69.49836218939609, -52.14276091263727], [-68.57154537624133, -52.299443855346226], [-69.46128434922667, -52.29195077266391], [-69.9427795071062, -52.53793059037322], [-70.8451016913546, -52.89920052852571], [-71.00633216010525, -53.83325204220132], [-71.429794684521, -53.85645476030037], [-72.55794287788488, -53.53141000118449], [-73.7027567206629, -52.835069268607235], [-74.94676347522517, -52.262753588419], [-75.2600260077785, -51.62935475037325], [-74.97663245308988, -51.0433956846157], [-75.47975419788355, -50.37837167745158], [-75.60801510283198, -48.67377288187184], [-75.18276974150216, -47.7119194476232], [-74.1265809801047, -46.93925343199511], [-75.64439531116545, -46.64764332457207], [-74.69215369332312, -45.76397633238103], [-74.35170935738425, -44.10304412208794], [-73.24035600451522, -44.454960625995604], [-72.7178039211798, -42.38335580827898], [-73.38889990913822, -42.117532240569574], [-73.70133561877488, -43.365776462579774], [-74.33194312203261, -43.22495818458442], [-74.0179571194272, -41.79481292090683], [-73.67709937202999, -39.94221282324317], [-73.21759253609065, -39.25868865331856], [-73.50555945503712, -38.282882582351114], [-73.58806087919109, -37.15628468195598], [-73.1667170884993, -37.12378020604439], [-72.55313696968174, -35.50884002049106], [-71.86173214383263, -33.90909270603153], [-71.4384504869299, -32.41889942803078], [-71.66872066922247, -30.920644626592495], [-71.37008256700773, -30.09568206148503], [-71.48989437527645, -28.861442152625923], [-70.90512386746161, -27.640379734001247], [-70.72495398627599, -25.705924167587256], [-70.40396582709502, -23.628996677344574], [-70.09124589708074, -21.39331918710126], [-70.16441972520605, -19.756468194256165], [-70.37257239447771, -18.34797535570887], [-69.85844356960587, -18.092693780187012], [-69.59042375352405, -17.580011895419332]]]], &quot;type&quot;: &quot;MultiPolygon&quot;}, &quot;id&quot;: &quot;10&quot;, &quot;properties&quot;: {}, &quot;type&quot;: &quot;Feature&quot;}], &quot;type&quot;: &quot;FeatureCollection&quot;});\n",
       "\n",
       "        \n",
       "    \n",
       "        var popup_c590393d3065f275cdbe39c3e67721cd = L.popup({&quot;maxWidth&quot;: &quot;100%&quot;});\n",
       "\n",
       "        \n",
       "            var html_8b9eb0d9c0cdc91dfc4c497f2a0881af = $(`&lt;div id=&quot;html_8b9eb0d9c0cdc91dfc4c497f2a0881af&quot; style=&quot;width: 100.0%; height: 100.0%;&quot;&gt;Chile&lt;/div&gt;`)[0];\n",
       "            popup_c590393d3065f275cdbe39c3e67721cd.setContent(html_8b9eb0d9c0cdc91dfc4c497f2a0881af);\n",
       "        \n",
       "\n",
       "        geo_json_57a3461ebfd45843011bb521f8a9d8a0.bindPopup(popup_c590393d3065f275cdbe39c3e67721cd)\n",
       "        ;\n",
       "\n",
       "        \n",
       "    \n",
       "    \n",
       "            var marker_84ba281f8189ec89a3379ee02969b276 = L.marker(\n",
       "                [-23.0606264, -70.325548],\n",
       "                {}\n",
       "            ).addTo(map_cfa210e3c4f1a3c34686dc3b823f6a8a);\n",
       "        \n",
       "    \n",
       "        var popup_7b356e57c2c7fb2337c0a5b7687e3552 = L.popup({&quot;maxWidth&quot;: &quot;100%&quot;});\n",
       "\n",
       "        \n",
       "            var html_5bbd1203390243515ee78da5e47b8825 = $(`&lt;div id=&quot;html_5bbd1203390243515ee78da5e47b8825&quot; style=&quot;width: 100.0%; height: 100.0%;&quot;&gt;CENTRAL A GAS CICLO COMBINADO KELAR&lt;/div&gt;`)[0];\n",
       "            popup_7b356e57c2c7fb2337c0a5b7687e3552.setContent(html_5bbd1203390243515ee78da5e47b8825);\n",
       "        \n",
       "\n",
       "        marker_84ba281f8189ec89a3379ee02969b276.bindPopup(popup_7b356e57c2c7fb2337c0a5b7687e3552)\n",
       "        ;\n",
       "\n",
       "        \n",
       "    \n",
       "    \n",
       "            var marker_6d6c4d240b5343da8fdfb5a5715bc8ef = L.marker(\n",
       "                [-23.087606, -70.408082],\n",
       "                {}\n",
       "            ).addTo(map_cfa210e3c4f1a3c34686dc3b823f6a8a);\n",
       "        \n",
       "    \n",
       "        var popup_2f81646e76772e1033ace8b42a433f66 = L.popup({&quot;maxWidth&quot;: &quot;100%&quot;});\n",
       "\n",
       "        \n",
       "            var html_3dbfc917e5e60a12322ca09435bb1597 = $(`&lt;div id=&quot;html_3dbfc917e5e60a12322ca09435bb1597&quot; style=&quot;width: 100.0%; height: 100.0%;&quot;&gt;CENTRAL TERMICA ANDINA&lt;/div&gt;`)[0];\n",
       "            popup_2f81646e76772e1033ace8b42a433f66.setContent(html_3dbfc917e5e60a12322ca09435bb1597);\n",
       "        \n",
       "\n",
       "        marker_6d6c4d240b5343da8fdfb5a5715bc8ef.bindPopup(popup_2f81646e76772e1033ace8b42a433f66)\n",
       "        ;\n",
       "\n",
       "        \n",
       "    \n",
       "    \n",
       "            var marker_df4dc70523c71726d3beb2d7a5c7df78 = L.marker(\n",
       "                [-23.025082, -70.320068],\n",
       "                {}\n",
       "            ).addTo(map_cfa210e3c4f1a3c34686dc3b823f6a8a);\n",
       "        \n",
       "    \n",
       "        var popup_b69f0b10361862ef23cbc934e3903145 = L.popup({&quot;maxWidth&quot;: &quot;100%&quot;});\n",
       "\n",
       "        \n",
       "            var html_8b7e7eb146194c0abdec485a717ca30a = $(`&lt;div id=&quot;html_8b7e7eb146194c0abdec485a717ca30a&quot; style=&quot;width: 100.0%; height: 100.0%;&quot;&gt;CENTRAL TERMOELÉCTRICA ANGAMOS&lt;/div&gt;`)[0];\n",
       "            popup_b69f0b10361862ef23cbc934e3903145.setContent(html_8b7e7eb146194c0abdec485a717ca30a);\n",
       "        \n",
       "\n",
       "        marker_df4dc70523c71726d3beb2d7a5c7df78.bindPopup(popup_b69f0b10361862ef23cbc934e3903145)\n",
       "        ;\n",
       "\n",
       "        \n",
       "    \n",
       "    \n",
       "            var marker_a71212a2c40c2ee49c11e66be9d919c7 = L.marker(\n",
       "                [-23.064, -70.3703],\n",
       "                {}\n",
       "            ).addTo(map_cfa210e3c4f1a3c34686dc3b823f6a8a);\n",
       "        \n",
       "    \n",
       "        var popup_462829d5c7fc821ded3354fc542b430c = L.popup({&quot;maxWidth&quot;: &quot;100%&quot;});\n",
       "\n",
       "        \n",
       "            var html_b354d1b1fa71f97ae56a8bb63ec7268d = $(`&lt;div id=&quot;html_b354d1b1fa71f97ae56a8bb63ec7268d&quot; style=&quot;width: 100.0%; height: 100.0%;&quot;&gt;CENTRAL TERMOELÉCTRICA COCHRANE&lt;/div&gt;`)[0];\n",
       "            popup_462829d5c7fc821ded3354fc542b430c.setContent(html_b354d1b1fa71f97ae56a8bb63ec7268d);\n",
       "        \n",
       "\n",
       "        marker_a71212a2c40c2ee49c11e66be9d919c7.bindPopup(popup_462829d5c7fc821ded3354fc542b430c)\n",
       "        ;\n",
       "\n",
       "        \n",
       "    \n",
       "    \n",
       "            var marker_0483c7b919e478e2edd7a5b1920c5ec3 = L.marker(\n",
       "                [-23.0888801931207, -70.4113941036642],\n",
       "                {}\n",
       "            ).addTo(map_cfa210e3c4f1a3c34686dc3b823f6a8a);\n",
       "        \n",
       "    \n",
       "        var popup_55f1988f4f2967871965b9fe43fae603 = L.popup({&quot;maxWidth&quot;: &quot;100%&quot;});\n",
       "\n",
       "        \n",
       "            var html_ea72fe23c44c7d624d400fdb0ac9272e = $(`&lt;div id=&quot;html_ea72fe23c44c7d624d400fdb0ac9272e&quot; style=&quot;width: 100.0%; height: 100.0%;&quot;&gt;CENTRAL TÉRMICA MEJILLONES&lt;/div&gt;`)[0];\n",
       "            popup_55f1988f4f2967871965b9fe43fae603.setContent(html_ea72fe23c44c7d624d400fdb0ac9272e);\n",
       "        \n",
       "\n",
       "        marker_0483c7b919e478e2edd7a5b1920c5ec3.bindPopup(popup_55f1988f4f2967871965b9fe43fae603)\n",
       "        ;\n",
       "\n",
       "        \n",
       "    \n",
       "    \n",
       "            var marker_f2e4bd48b274b6b8439cb9f15a3b6cef = L.marker(\n",
       "                [-22.1019166516864, -70.2143131571211],\n",
       "                {}\n",
       "            ).addTo(map_cfa210e3c4f1a3c34686dc3b823f6a8a);\n",
       "        \n",
       "    \n",
       "        var popup_05357b565e4f541a3715f132f934854f = L.popup({&quot;maxWidth&quot;: &quot;100%&quot;});\n",
       "\n",
       "        \n",
       "            var html_e9bc086cc0ff752f056da7383881cb79 = $(`&lt;div id=&quot;html_e9bc086cc0ff752f056da7383881cb79&quot; style=&quot;width: 100.0%; height: 100.0%;&quot;&gt;CENTRAL TERMICA TOCOPILLA&lt;/div&gt;`)[0];\n",
       "            popup_05357b565e4f541a3715f132f934854f.setContent(html_e9bc086cc0ff752f056da7383881cb79);\n",
       "        \n",
       "\n",
       "        marker_f2e4bd48b274b6b8439cb9f15a3b6cef.bindPopup(popup_05357b565e4f541a3715f132f934854f)\n",
       "        ;\n",
       "\n",
       "        \n",
       "    \n",
       "    \n",
       "            var marker_863b2062f4c1c06c0ca43983b4a4a62b = L.marker(\n",
       "                [-22.0981, -70.208398],\n",
       "                {}\n",
       "            ).addTo(map_cfa210e3c4f1a3c34686dc3b823f6a8a);\n",
       "        \n",
       "    \n",
       "        var popup_5f0ec998511332fecc5253fef3f217bb = L.popup({&quot;maxWidth&quot;: &quot;100%&quot;});\n",
       "\n",
       "        \n",
       "            var html_dae61706b88572d25f34392260eb52bd = $(`&lt;div id=&quot;html_dae61706b88572d25f34392260eb52bd&quot; style=&quot;width: 100.0%; height: 100.0%;&quot;&gt;CENTRAL TERMOELÉCTRICA NUEVA TOCOPILLA&lt;/div&gt;`)[0];\n",
       "            popup_5f0ec998511332fecc5253fef3f217bb.setContent(html_dae61706b88572d25f34392260eb52bd);\n",
       "        \n",
       "\n",
       "        marker_863b2062f4c1c06c0ca43983b4a4a62b.bindPopup(popup_5f0ec998511332fecc5253fef3f217bb)\n",
       "        ;\n",
       "\n",
       "        \n",
       "    \n",
       "    \n",
       "            var marker_6977593bf7a9f4a86fa3fc40767641eb = L.marker(\n",
       "                [-37.022789, -73.16584],\n",
       "                {}\n",
       "            ).addTo(map_cfa210e3c4f1a3c34686dc3b823f6a8a);\n",
       "        \n",
       "    \n",
       "        var popup_ec19bae15cd35820a0acc16c75963434 = L.popup({&quot;maxWidth&quot;: &quot;100%&quot;});\n",
       "\n",
       "        \n",
       "            var html_d008cd8642a7a5c4a5c1f8528b50d337 = $(`&lt;div id=&quot;html_d008cd8642a7a5c4a5c1f8528b50d337&quot; style=&quot;width: 100.0%; height: 100.0%;&quot;&gt;CENTRAL TERMOELECTRICA BOCAMINA U1&lt;/div&gt;`)[0];\n",
       "            popup_ec19bae15cd35820a0acc16c75963434.setContent(html_d008cd8642a7a5c4a5c1f8528b50d337);\n",
       "        \n",
       "\n",
       "        marker_6977593bf7a9f4a86fa3fc40767641eb.bindPopup(popup_ec19bae15cd35820a0acc16c75963434)\n",
       "        ;\n",
       "\n",
       "        \n",
       "    \n",
       "    \n",
       "            var marker_e4426f4ba065cff9d30092a1a540e393 = L.marker(\n",
       "                [-37.039517, -73.135615],\n",
       "                {}\n",
       "            ).addTo(map_cfa210e3c4f1a3c34686dc3b823f6a8a);\n",
       "        \n",
       "    \n",
       "        var popup_4f27e97a106ac4873fecb1f3386c6e94 = L.popup({&quot;maxWidth&quot;: &quot;100%&quot;});\n",
       "\n",
       "        \n",
       "            var html_6b54119e20f70259e7a770a3f994b514 = $(`&lt;div id=&quot;html_6b54119e20f70259e7a770a3f994b514&quot; style=&quot;width: 100.0%; height: 100.0%;&quot;&gt;COMPLEJO TERMOELECTRICO SANTA MARIA&lt;/div&gt;`)[0];\n",
       "            popup_4f27e97a106ac4873fecb1f3386c6e94.setContent(html_6b54119e20f70259e7a770a3f994b514);\n",
       "        \n",
       "\n",
       "        marker_e4426f4ba065cff9d30092a1a540e393.bindPopup(popup_4f27e97a106ac4873fecb1f3386c6e94)\n",
       "        ;\n",
       "\n",
       "        \n",
       "    \n",
       "    \n",
       "            var marker_13969581c5ecd503ab0611e9a1072fca = L.marker(\n",
       "                [-32.7494, -71.4833],\n",
       "                {}\n",
       "            ).addTo(map_cfa210e3c4f1a3c34686dc3b823f6a8a);\n",
       "        \n",
       "    \n",
       "        var popup_0c02398277d3a8b21293d962b744a158 = L.popup({&quot;maxWidth&quot;: &quot;100%&quot;});\n",
       "\n",
       "        \n",
       "            var html_c238333e4807f1b060dd22aea7e7b5b7 = $(`&lt;div id=&quot;html_c238333e4807f1b060dd22aea7e7b5b7&quot; style=&quot;width: 100.0%; height: 100.0%;&quot;&gt;CENTRAL TERMOELECTRICA CAMPICHE&lt;/div&gt;`)[0];\n",
       "            popup_0c02398277d3a8b21293d962b744a158.setContent(html_c238333e4807f1b060dd22aea7e7b5b7);\n",
       "        \n",
       "\n",
       "        marker_13969581c5ecd503ab0611e9a1072fca.bindPopup(popup_0c02398277d3a8b21293d962b744a158)\n",
       "        ;\n",
       "\n",
       "        \n",
       "    \n",
       "    \n",
       "            var marker_9d898f647c2aaf6bb6c6b6bdc6e1657e = L.marker(\n",
       "                [-32.7494, -71.4833],\n",
       "                {}\n",
       "            ).addTo(map_cfa210e3c4f1a3c34686dc3b823f6a8a);\n",
       "        \n",
       "    \n",
       "        var popup_fc34e59201f97ecb55b257ada2b24914 = L.popup({&quot;maxWidth&quot;: &quot;100%&quot;});\n",
       "\n",
       "        \n",
       "            var html_829b929637071849366455b09bced9f3 = $(`&lt;div id=&quot;html_829b929637071849366455b09bced9f3&quot; style=&quot;width: 100.0%; height: 100.0%;&quot;&gt;CENTRAL TERMOELÉCTRICA NUEVA VENTANAS&lt;/div&gt;`)[0];\n",
       "            popup_fc34e59201f97ecb55b257ada2b24914.setContent(html_829b929637071849366455b09bced9f3);\n",
       "        \n",
       "\n",
       "        marker_9d898f647c2aaf6bb6c6b6bdc6e1657e.bindPopup(popup_fc34e59201f97ecb55b257ada2b24914)\n",
       "        ;\n",
       "\n",
       "        \n",
       "    \n",
       "    \n",
       "            var marker_28a0cde77fbb8560b19d367586c3c98e = L.marker(\n",
       "                [-32.7494, -71.4833],\n",
       "                {}\n",
       "            ).addTo(map_cfa210e3c4f1a3c34686dc3b823f6a8a);\n",
       "        \n",
       "    \n",
       "        var popup_7407f79ef8346921dd0e7737173a3283 = L.popup({&quot;maxWidth&quot;: &quot;100%&quot;});\n",
       "\n",
       "        \n",
       "            var html_c1302f072fdda925dbcf8174b7352c20 = $(`&lt;div id=&quot;html_c1302f072fdda925dbcf8174b7352c20&quot; style=&quot;width: 100.0%; height: 100.0%;&quot;&gt;CENTRAL TERMOELÉCTRICA VENTANAS UNIDADES 1 Y 2&lt;/div&gt;`)[0];\n",
       "            popup_7407f79ef8346921dd0e7737173a3283.setContent(html_c1302f072fdda925dbcf8174b7352c20);\n",
       "        \n",
       "\n",
       "        marker_28a0cde77fbb8560b19d367586c3c98e.bindPopup(popup_7407f79ef8346921dd0e7737173a3283)\n",
       "        ;\n",
       "\n",
       "        \n",
       "    \n",
       "    \n",
       "            var marker_dd3d488491f7b840b4196adb3d07590d = L.marker(\n",
       "                [-37.078033, -72.345822],\n",
       "                {}\n",
       "            ).addTo(map_cfa210e3c4f1a3c34686dc3b823f6a8a);\n",
       "        \n",
       "    \n",
       "        var popup_e97428692177e72bdc0500b86eaa45e7 = L.popup({&quot;maxWidth&quot;: &quot;100%&quot;});\n",
       "\n",
       "        \n",
       "            var html_66b203c8543f65911a7cc1027cb9fb1a = $(`&lt;div id=&quot;html_66b203c8543f65911a7cc1027cb9fb1a&quot; style=&quot;width: 100.0%; height: 100.0%;&quot;&gt;SANTA LIDIA&lt;/div&gt;`)[0];\n",
       "            popup_e97428692177e72bdc0500b86eaa45e7.setContent(html_66b203c8543f65911a7cc1027cb9fb1a);\n",
       "        \n",
       "\n",
       "        marker_dd3d488491f7b840b4196adb3d07590d.bindPopup(popup_e97428692177e72bdc0500b86eaa45e7)\n",
       "        ;\n",
       "\n",
       "        \n",
       "    \n",
       "    \n",
       "            var marker_6744817b7e4458bbf8278e5753b7f420 = L.marker(\n",
       "                [-37.0899, -72.322898],\n",
       "                {}\n",
       "            ).addTo(map_cfa210e3c4f1a3c34686dc3b823f6a8a);\n",
       "        \n",
       "    \n",
       "        var popup_95a6d1790b19fe0b5351182cd33b00f5 = L.popup({&quot;maxWidth&quot;: &quot;100%&quot;});\n",
       "\n",
       "        \n",
       "            var html_e9b03769931259ca23239c818578d177 = $(`&lt;div id=&quot;html_e9b03769931259ca23239c818578d177&quot; style=&quot;width: 100.0%; height: 100.0%;&quot;&gt;CENTRAL TERMOELÉCTRICA LOS PINOS&lt;/div&gt;`)[0];\n",
       "            popup_95a6d1790b19fe0b5351182cd33b00f5.setContent(html_e9b03769931259ca23239c818578d177);\n",
       "        \n",
       "\n",
       "        marker_6744817b7e4458bbf8278e5753b7f420.bindPopup(popup_95a6d1790b19fe0b5351182cd33b00f5)\n",
       "        ;\n",
       "\n",
       "        \n",
       "    \n",
       "    \n",
       "            var marker_2f39698239c0828614be30e0603471e2 = L.marker(\n",
       "                [-34.033912, -70.612585],\n",
       "                {}\n",
       "            ).addTo(map_cfa210e3c4f1a3c34686dc3b823f6a8a);\n",
       "        \n",
       "    \n",
       "        var popup_982c02e7314b8b21f06092cfb0ef552e = L.popup({&quot;maxWidth&quot;: &quot;100%&quot;});\n",
       "\n",
       "        \n",
       "            var html_6f965b6af0eff7821dbd188dff6c2e05 = $(`&lt;div id=&quot;html_6f965b6af0eff7821dbd188dff6c2e05&quot; style=&quot;width: 100.0%; height: 100.0%;&quot;&gt;CENTRAL TERMOELÉCTRICA CANDELARIA&lt;/div&gt;`)[0];\n",
       "            popup_982c02e7314b8b21f06092cfb0ef552e.setContent(html_6f965b6af0eff7821dbd188dff6c2e05);\n",
       "        \n",
       "\n",
       "        marker_2f39698239c0828614be30e0603471e2.bindPopup(popup_982c02e7314b8b21f06092cfb0ef552e)\n",
       "        ;\n",
       "\n",
       "        \n",
       "    \n",
       "    \n",
       "            var marker_0a79469570dcaf6e3f886f0d38e28b28 = L.marker(\n",
       "                [-32.930525, -71.473568],\n",
       "                {}\n",
       "            ).addTo(map_cfa210e3c4f1a3c34686dc3b823f6a8a);\n",
       "        \n",
       "    \n",
       "        var popup_71dd8550bdd326bc90beb16c9ebe60b7 = L.popup({&quot;maxWidth&quot;: &quot;100%&quot;});\n",
       "\n",
       "        \n",
       "            var html_dd9cb0c13108d690cb5a0ca1c8152037 = $(`&lt;div id=&quot;html_dd9cb0c13108d690cb5a0ca1c8152037&quot; style=&quot;width: 100.0%; height: 100.0%;&quot;&gt;CENTRAL COLMITO&lt;/div&gt;`)[0];\n",
       "            popup_71dd8550bdd326bc90beb16c9ebe60b7.setContent(html_dd9cb0c13108d690cb5a0ca1c8152037);\n",
       "        \n",
       "\n",
       "        marker_0a79469570dcaf6e3f886f0d38e28b28.bindPopup(popup_71dd8550bdd326bc90beb16c9ebe60b7)\n",
       "        ;\n",
       "\n",
       "        \n",
       "    \n",
       "    \n",
       "            var marker_95946beeba46a6fe4ea797bbed5f6db0 = L.marker(\n",
       "                [-37.107246, -72.29208200000001],\n",
       "                {}\n",
       "            ).addTo(map_cfa210e3c4f1a3c34686dc3b823f6a8a);\n",
       "        \n",
       "    \n",
       "        var popup_74ee10f36f59dd65fe7e28d6a2c3614f = L.popup({&quot;maxWidth&quot;: &quot;100%&quot;});\n",
       "\n",
       "        \n",
       "            var html_f155098a273213889338f748d36a6417 = $(`&lt;div id=&quot;html_f155098a273213889338f748d36a6417&quot; style=&quot;width: 100.0%; height: 100.0%;&quot;&gt;YUNGAY (EX CAMPANARIO)&lt;/div&gt;`)[0];\n",
       "            popup_74ee10f36f59dd65fe7e28d6a2c3614f.setContent(html_f155098a273213889338f748d36a6417);\n",
       "        \n",
       "\n",
       "        marker_95946beeba46a6fe4ea797bbed5f6db0.bindPopup(popup_74ee10f36f59dd65fe7e28d6a2c3614f)\n",
       "        ;\n",
       "\n",
       "        \n",
       "    \n",
       "    \n",
       "            var marker_529bf0614b0c1616996b70b871261b4d = L.marker(\n",
       "                [-28.472116, -71.247379],\n",
       "                {}\n",
       "            ).addTo(map_cfa210e3c4f1a3c34686dc3b823f6a8a);\n",
       "        \n",
       "    \n",
       "        var popup_4402482fca246b3facc7988d699b08b6 = L.popup({&quot;maxWidth&quot;: &quot;100%&quot;});\n",
       "\n",
       "        \n",
       "            var html_6e7aa182e25395ad1f5e751c80a2bf3d = $(`&lt;div id=&quot;html_6e7aa182e25395ad1f5e751c80a2bf3d&quot; style=&quot;width: 100.0%; height: 100.0%;&quot;&gt;GUACOLDA&lt;/div&gt;`)[0];\n",
       "            popup_4402482fca246b3facc7988d699b08b6.setContent(html_6e7aa182e25395ad1f5e751c80a2bf3d);\n",
       "        \n",
       "\n",
       "        marker_529bf0614b0c1616996b70b871261b4d.bindPopup(popup_4402482fca246b3facc7988d699b08b6)\n",
       "        ;\n",
       "\n",
       "        \n",
       "    \n",
       "    \n",
       "            var marker_c92551ab955effeb8e71d05cb3cae6c5 = L.marker(\n",
       "                [-32.936543, -71.3162416219711],\n",
       "                {}\n",
       "            ).addTo(map_cfa210e3c4f1a3c34686dc3b823f6a8a);\n",
       "        \n",
       "    \n",
       "        var popup_2cbdc06a843941e12923b8517801743e = L.popup({&quot;maxWidth&quot;: &quot;100%&quot;});\n",
       "\n",
       "        \n",
       "            var html_a683c1c25504673a73dd1184f8e135c5 = $(`&lt;div id=&quot;html_a683c1c25504673a73dd1184f8e135c5&quot; style=&quot;width: 100.0%; height: 100.0%;&quot;&gt;CENTRAL SAN ISIDRO I&lt;/div&gt;`)[0];\n",
       "            popup_2cbdc06a843941e12923b8517801743e.setContent(html_a683c1c25504673a73dd1184f8e135c5);\n",
       "        \n",
       "\n",
       "        marker_c92551ab955effeb8e71d05cb3cae6c5.bindPopup(popup_2cbdc06a843941e12923b8517801743e)\n",
       "        ;\n",
       "\n",
       "        \n",
       "    \n",
       "    \n",
       "            var marker_1ae523b1d6113a4c0cbfd92281f8f548 = L.marker(\n",
       "                [-32.9366955, -71.3254887],\n",
       "                {}\n",
       "            ).addTo(map_cfa210e3c4f1a3c34686dc3b823f6a8a);\n",
       "        \n",
       "    \n",
       "        var popup_cc05e5941e5b5fe474d16c02dcb8725c = L.popup({&quot;maxWidth&quot;: &quot;100%&quot;});\n",
       "\n",
       "        \n",
       "            var html_5227b9a55d5e478026e916380de154b8 = $(`&lt;div id=&quot;html_5227b9a55d5e478026e916380de154b8&quot; style=&quot;width: 100.0%; height: 100.0%;&quot;&gt;COMPLEJO TERMOELÉCTRICO NEHUENCO&lt;/div&gt;`)[0];\n",
       "            popup_cc05e5941e5b5fe474d16c02dcb8725c.setContent(html_5227b9a55d5e478026e916380de154b8);\n",
       "        \n",
       "\n",
       "        marker_1ae523b1d6113a4c0cbfd92281f8f548.bindPopup(popup_cc05e5941e5b5fe474d16c02dcb8725c)\n",
       "        ;\n",
       "\n",
       "        \n",
       "    \n",
       "    \n",
       "            var marker_883a042fb1605d50fdc708763f7db95d = L.marker(\n",
       "                [-32.843902, -71.013235],\n",
       "                {}\n",
       "            ).addTo(map_cfa210e3c4f1a3c34686dc3b823f6a8a);\n",
       "        \n",
       "    \n",
       "        var popup_cda2f2961e80b021ea17734a0f6360ad = L.popup({&quot;maxWidth&quot;: &quot;100%&quot;});\n",
       "\n",
       "        \n",
       "            var html_9d0f277983f8fe037d6acc05b85dc33e = $(`&lt;div id=&quot;html_9d0f277983f8fe037d6acc05b85dc33e&quot; style=&quot;width: 100.0%; height: 100.0%;&quot;&gt;LOS VIENTOS&lt;/div&gt;`)[0];\n",
       "            popup_cda2f2961e80b021ea17734a0f6360ad.setContent(html_9d0f277983f8fe037d6acc05b85dc33e);\n",
       "        \n",
       "\n",
       "        marker_883a042fb1605d50fdc708763f7db95d.bindPopup(popup_cda2f2961e80b021ea17734a0f6360ad)\n",
       "        ;\n",
       "\n",
       "        \n",
       "    \n",
       "    \n",
       "            var marker_4aa39ef4ccd0017b0368c97c90ac7838 = L.marker(\n",
       "                [-32.936543, -71.3162416219711],\n",
       "                {}\n",
       "            ).addTo(map_cfa210e3c4f1a3c34686dc3b823f6a8a);\n",
       "        \n",
       "    \n",
       "        var popup_d0977783a9ea67ae23c6eb1d8b9ae38d = L.popup({&quot;maxWidth&quot;: &quot;100%&quot;});\n",
       "\n",
       "        \n",
       "            var html_9cab78b688ac2017297921ee6f8ea07d = $(`&lt;div id=&quot;html_9cab78b688ac2017297921ee6f8ea07d&quot; style=&quot;width: 100.0%; height: 100.0%;&quot;&gt;SAN ISIDRO 2&lt;/div&gt;`)[0];\n",
       "            popup_d0977783a9ea67ae23c6eb1d8b9ae38d.setContent(html_9cab78b688ac2017297921ee6f8ea07d);\n",
       "        \n",
       "\n",
       "        marker_4aa39ef4ccd0017b0368c97c90ac7838.bindPopup(popup_d0977783a9ea67ae23c6eb1d8b9ae38d)\n",
       "        ;\n",
       "\n",
       "        \n",
       "    \n",
       "    \n",
       "            var marker_6b81075b7cea39ec7d2979bb2b6b6bd9 = L.marker(\n",
       "                [-33.4167, -70.6874],\n",
       "                {}\n",
       "            ).addTo(map_cfa210e3c4f1a3c34686dc3b823f6a8a);\n",
       "        \n",
       "    \n",
       "        var popup_a3bac6d17e2b9fe98e2742a2a9eeef27 = L.popup({&quot;maxWidth&quot;: &quot;100%&quot;});\n",
       "\n",
       "        \n",
       "            var html_f561d242149dc3905cc424ede1889c56 = $(`&lt;div id=&quot;html_f561d242149dc3905cc424ede1889c56&quot; style=&quot;width: 100.0%; height: 100.0%;&quot;&gt;RENCA NUEVA RENCA&lt;/div&gt;`)[0];\n",
       "            popup_a3bac6d17e2b9fe98e2742a2a9eeef27.setContent(html_f561d242149dc3905cc424ede1889c56);\n",
       "        \n",
       "\n",
       "        marker_6b81075b7cea39ec7d2979bb2b6b6bd9.bindPopup(popup_a3bac6d17e2b9fe98e2742a2a9eeef27)\n",
       "        ;\n",
       "\n",
       "        \n",
       "    \n",
       "    \n",
       "            var marker_cca16a14778d02c14dace39d0f778e52 = L.marker(\n",
       "                [-23.0606264, -70.325548],\n",
       "                {}\n",
       "            ).addTo(map_cfa210e3c4f1a3c34686dc3b823f6a8a);\n",
       "        \n",
       "    \n",
       "        var popup_33a0fef0a6ca87d92ef3e12ef35c126d = L.popup({&quot;maxWidth&quot;: &quot;100%&quot;});\n",
       "\n",
       "        \n",
       "            var html_8a950dc364b3c1f5d7bd5d5920b42214 = $(`&lt;div id=&quot;html_8a950dc364b3c1f5d7bd5d5920b42214&quot; style=&quot;width: 100.0%; height: 100.0%;&quot;&gt;CENTRAL A GAS CICLO COMBINADO KELAR&lt;/div&gt;`)[0];\n",
       "            popup_33a0fef0a6ca87d92ef3e12ef35c126d.setContent(html_8a950dc364b3c1f5d7bd5d5920b42214);\n",
       "        \n",
       "\n",
       "        marker_cca16a14778d02c14dace39d0f778e52.bindPopup(popup_33a0fef0a6ca87d92ef3e12ef35c126d)\n",
       "        ;\n",
       "\n",
       "        \n",
       "    \n",
       "    \n",
       "            var marker_715d3421c9e057c34254ed2f4001c941 = L.marker(\n",
       "                [-23.087606, -70.408082],\n",
       "                {}\n",
       "            ).addTo(map_cfa210e3c4f1a3c34686dc3b823f6a8a);\n",
       "        \n",
       "    \n",
       "        var popup_b52ef06c9f8e4a6e8f4316e83aa553b1 = L.popup({&quot;maxWidth&quot;: &quot;100%&quot;});\n",
       "\n",
       "        \n",
       "            var html_5f3ceff0b64e5ef81fe35209f8e4724c = $(`&lt;div id=&quot;html_5f3ceff0b64e5ef81fe35209f8e4724c&quot; style=&quot;width: 100.0%; height: 100.0%;&quot;&gt;CENTRAL TERMICA ANDINA&lt;/div&gt;`)[0];\n",
       "            popup_b52ef06c9f8e4a6e8f4316e83aa553b1.setContent(html_5f3ceff0b64e5ef81fe35209f8e4724c);\n",
       "        \n",
       "\n",
       "        marker_715d3421c9e057c34254ed2f4001c941.bindPopup(popup_b52ef06c9f8e4a6e8f4316e83aa553b1)\n",
       "        ;\n",
       "\n",
       "        \n",
       "    \n",
       "    \n",
       "            var marker_69544ecf4d969c90d6f80d836d3041c1 = L.marker(\n",
       "                [-23.025082, -70.320068],\n",
       "                {}\n",
       "            ).addTo(map_cfa210e3c4f1a3c34686dc3b823f6a8a);\n",
       "        \n",
       "    \n",
       "        var popup_e04ffb6dcae5c5c6cdda083f07e8a337 = L.popup({&quot;maxWidth&quot;: &quot;100%&quot;});\n",
       "\n",
       "        \n",
       "            var html_97dba6e3a3691eecb30df47cdecaa917 = $(`&lt;div id=&quot;html_97dba6e3a3691eecb30df47cdecaa917&quot; style=&quot;width: 100.0%; height: 100.0%;&quot;&gt;CENTRAL TERMOELÉCTRICA ANGAMOS&lt;/div&gt;`)[0];\n",
       "            popup_e04ffb6dcae5c5c6cdda083f07e8a337.setContent(html_97dba6e3a3691eecb30df47cdecaa917);\n",
       "        \n",
       "\n",
       "        marker_69544ecf4d969c90d6f80d836d3041c1.bindPopup(popup_e04ffb6dcae5c5c6cdda083f07e8a337)\n",
       "        ;\n",
       "\n",
       "        \n",
       "    \n",
       "    \n",
       "            var marker_22340b4de0f6d4358682273a0b8ce93f = L.marker(\n",
       "                [-23.064, -70.3703],\n",
       "                {}\n",
       "            ).addTo(map_cfa210e3c4f1a3c34686dc3b823f6a8a);\n",
       "        \n",
       "    \n",
       "        var popup_f3e48d8474e0f3ca752f9f3c4e397b6e = L.popup({&quot;maxWidth&quot;: &quot;100%&quot;});\n",
       "\n",
       "        \n",
       "            var html_baecf2184833b86b1829e88592fdbc30 = $(`&lt;div id=&quot;html_baecf2184833b86b1829e88592fdbc30&quot; style=&quot;width: 100.0%; height: 100.0%;&quot;&gt;CENTRAL TERMOELÉCTRICA COCHRANE&lt;/div&gt;`)[0];\n",
       "            popup_f3e48d8474e0f3ca752f9f3c4e397b6e.setContent(html_baecf2184833b86b1829e88592fdbc30);\n",
       "        \n",
       "\n",
       "        marker_22340b4de0f6d4358682273a0b8ce93f.bindPopup(popup_f3e48d8474e0f3ca752f9f3c4e397b6e)\n",
       "        ;\n",
       "\n",
       "        \n",
       "    \n",
       "    \n",
       "            var marker_90310d62848171aba0fc24b450de48ad = L.marker(\n",
       "                [-23.0888801931207, -70.4113941036642],\n",
       "                {}\n",
       "            ).addTo(map_cfa210e3c4f1a3c34686dc3b823f6a8a);\n",
       "        \n",
       "    \n",
       "        var popup_038079f360723d4814db67dc39eb25d6 = L.popup({&quot;maxWidth&quot;: &quot;100%&quot;});\n",
       "\n",
       "        \n",
       "            var html_c2c187f211b8fdd456b5d3e9401a00ec = $(`&lt;div id=&quot;html_c2c187f211b8fdd456b5d3e9401a00ec&quot; style=&quot;width: 100.0%; height: 100.0%;&quot;&gt;CENTRAL TÉRMICA MEJILLONES&lt;/div&gt;`)[0];\n",
       "            popup_038079f360723d4814db67dc39eb25d6.setContent(html_c2c187f211b8fdd456b5d3e9401a00ec);\n",
       "        \n",
       "\n",
       "        marker_90310d62848171aba0fc24b450de48ad.bindPopup(popup_038079f360723d4814db67dc39eb25d6)\n",
       "        ;\n",
       "\n",
       "        \n",
       "    \n",
       "    \n",
       "            var marker_8815d012e5f40fc7696a4644f45f8efe = L.marker(\n",
       "                [-22.1019166516864, -70.2143131571211],\n",
       "                {}\n",
       "            ).addTo(map_cfa210e3c4f1a3c34686dc3b823f6a8a);\n",
       "        \n",
       "    \n",
       "        var popup_38ed0588fe8b379a215c065586e0943c = L.popup({&quot;maxWidth&quot;: &quot;100%&quot;});\n",
       "\n",
       "        \n",
       "            var html_74a61d415777edb3cc88681e0a27aa8b = $(`&lt;div id=&quot;html_74a61d415777edb3cc88681e0a27aa8b&quot; style=&quot;width: 100.0%; height: 100.0%;&quot;&gt;CENTRAL TERMICA TOCOPILLA&lt;/div&gt;`)[0];\n",
       "            popup_38ed0588fe8b379a215c065586e0943c.setContent(html_74a61d415777edb3cc88681e0a27aa8b);\n",
       "        \n",
       "\n",
       "        marker_8815d012e5f40fc7696a4644f45f8efe.bindPopup(popup_38ed0588fe8b379a215c065586e0943c)\n",
       "        ;\n",
       "\n",
       "        \n",
       "    \n",
       "    \n",
       "            var marker_e3ae10d9cb568887c5cc7871236b9fcb = L.marker(\n",
       "                [-22.0981, -70.208398],\n",
       "                {}\n",
       "            ).addTo(map_cfa210e3c4f1a3c34686dc3b823f6a8a);\n",
       "        \n",
       "    \n",
       "        var popup_b00947c099f463ba56591bf5563d0c4e = L.popup({&quot;maxWidth&quot;: &quot;100%&quot;});\n",
       "\n",
       "        \n",
       "            var html_858a0887826e803f73d7a97e81feb8f9 = $(`&lt;div id=&quot;html_858a0887826e803f73d7a97e81feb8f9&quot; style=&quot;width: 100.0%; height: 100.0%;&quot;&gt;CENTRAL TERMOELÉCTRICA NUEVA TOCOPILLA&lt;/div&gt;`)[0];\n",
       "            popup_b00947c099f463ba56591bf5563d0c4e.setContent(html_858a0887826e803f73d7a97e81feb8f9);\n",
       "        \n",
       "\n",
       "        marker_e3ae10d9cb568887c5cc7871236b9fcb.bindPopup(popup_b00947c099f463ba56591bf5563d0c4e)\n",
       "        ;\n",
       "\n",
       "        \n",
       "    \n",
       "    \n",
       "            var marker_decdb104766dfbd01590978f797097b2 = L.marker(\n",
       "                [-37.022789, -73.16584],\n",
       "                {}\n",
       "            ).addTo(map_cfa210e3c4f1a3c34686dc3b823f6a8a);\n",
       "        \n",
       "    \n",
       "        var popup_c9449fe835ef1f3ae275dce90129b5c7 = L.popup({&quot;maxWidth&quot;: &quot;100%&quot;});\n",
       "\n",
       "        \n",
       "            var html_062ceb1295fbb9956b790ff589ea1791 = $(`&lt;div id=&quot;html_062ceb1295fbb9956b790ff589ea1791&quot; style=&quot;width: 100.0%; height: 100.0%;&quot;&gt;CENTRAL TERMOELECTRICA BOCAMINA U1&lt;/div&gt;`)[0];\n",
       "            popup_c9449fe835ef1f3ae275dce90129b5c7.setContent(html_062ceb1295fbb9956b790ff589ea1791);\n",
       "        \n",
       "\n",
       "        marker_decdb104766dfbd01590978f797097b2.bindPopup(popup_c9449fe835ef1f3ae275dce90129b5c7)\n",
       "        ;\n",
       "\n",
       "        \n",
       "    \n",
       "    \n",
       "            var marker_0a242e93bbedd273e6e8484d38bfb4ba = L.marker(\n",
       "                [-37.039517, -73.135615],\n",
       "                {}\n",
       "            ).addTo(map_cfa210e3c4f1a3c34686dc3b823f6a8a);\n",
       "        \n",
       "    \n",
       "        var popup_6e3516f59aeb71d804265dfdf544cfb8 = L.popup({&quot;maxWidth&quot;: &quot;100%&quot;});\n",
       "\n",
       "        \n",
       "            var html_d0a02632b98141197489b33e74483d46 = $(`&lt;div id=&quot;html_d0a02632b98141197489b33e74483d46&quot; style=&quot;width: 100.0%; height: 100.0%;&quot;&gt;COMPLEJO TERMOELECTRICO SANTA MARIA&lt;/div&gt;`)[0];\n",
       "            popup_6e3516f59aeb71d804265dfdf544cfb8.setContent(html_d0a02632b98141197489b33e74483d46);\n",
       "        \n",
       "\n",
       "        marker_0a242e93bbedd273e6e8484d38bfb4ba.bindPopup(popup_6e3516f59aeb71d804265dfdf544cfb8)\n",
       "        ;\n",
       "\n",
       "        \n",
       "    \n",
       "    \n",
       "            var marker_a4d7b2e9ff75b524c8ea521a426185de = L.marker(\n",
       "                [-32.7494, -71.4833],\n",
       "                {}\n",
       "            ).addTo(map_cfa210e3c4f1a3c34686dc3b823f6a8a);\n",
       "        \n",
       "    \n",
       "        var popup_b304a3ce7f43e7d2525d04d93f58611c = L.popup({&quot;maxWidth&quot;: &quot;100%&quot;});\n",
       "\n",
       "        \n",
       "            var html_c7c1045c04de24208b026a8c1aa7bab5 = $(`&lt;div id=&quot;html_c7c1045c04de24208b026a8c1aa7bab5&quot; style=&quot;width: 100.0%; height: 100.0%;&quot;&gt;CENTRAL TERMOELECTRICA CAMPICHE&lt;/div&gt;`)[0];\n",
       "            popup_b304a3ce7f43e7d2525d04d93f58611c.setContent(html_c7c1045c04de24208b026a8c1aa7bab5);\n",
       "        \n",
       "\n",
       "        marker_a4d7b2e9ff75b524c8ea521a426185de.bindPopup(popup_b304a3ce7f43e7d2525d04d93f58611c)\n",
       "        ;\n",
       "\n",
       "        \n",
       "    \n",
       "    \n",
       "            var marker_2d7b396cb3eb6f9ca0de739ebd92b482 = L.marker(\n",
       "                [-32.7494, -71.4833],\n",
       "                {}\n",
       "            ).addTo(map_cfa210e3c4f1a3c34686dc3b823f6a8a);\n",
       "        \n",
       "    \n",
       "        var popup_c1bb501522ae158273f7ac9b9d433d34 = L.popup({&quot;maxWidth&quot;: &quot;100%&quot;});\n",
       "\n",
       "        \n",
       "            var html_45e63bdf522cd481556d643d7127b77c = $(`&lt;div id=&quot;html_45e63bdf522cd481556d643d7127b77c&quot; style=&quot;width: 100.0%; height: 100.0%;&quot;&gt;CENTRAL TERMOELÉCTRICA NUEVA VENTANAS&lt;/div&gt;`)[0];\n",
       "            popup_c1bb501522ae158273f7ac9b9d433d34.setContent(html_45e63bdf522cd481556d643d7127b77c);\n",
       "        \n",
       "\n",
       "        marker_2d7b396cb3eb6f9ca0de739ebd92b482.bindPopup(popup_c1bb501522ae158273f7ac9b9d433d34)\n",
       "        ;\n",
       "\n",
       "        \n",
       "    \n",
       "    \n",
       "            var marker_cc4392baab9bcf0ac14ab1f70b2181fa = L.marker(\n",
       "                [-32.7494, -71.4833],\n",
       "                {}\n",
       "            ).addTo(map_cfa210e3c4f1a3c34686dc3b823f6a8a);\n",
       "        \n",
       "    \n",
       "        var popup_d6421559510d127ff5211a31e05ccf59 = L.popup({&quot;maxWidth&quot;: &quot;100%&quot;});\n",
       "\n",
       "        \n",
       "            var html_e35aaa633ec49bdccd7d17c2c4209341 = $(`&lt;div id=&quot;html_e35aaa633ec49bdccd7d17c2c4209341&quot; style=&quot;width: 100.0%; height: 100.0%;&quot;&gt;CENTRAL TERMOELÉCTRICA VENTANAS UNIDADES 1 Y 2&lt;/div&gt;`)[0];\n",
       "            popup_d6421559510d127ff5211a31e05ccf59.setContent(html_e35aaa633ec49bdccd7d17c2c4209341);\n",
       "        \n",
       "\n",
       "        marker_cc4392baab9bcf0ac14ab1f70b2181fa.bindPopup(popup_d6421559510d127ff5211a31e05ccf59)\n",
       "        ;\n",
       "\n",
       "        \n",
       "    \n",
       "    \n",
       "            var marker_fe3587ec9a8e7933c4310462408ee2c5 = L.marker(\n",
       "                [-37.078033, -72.345822],\n",
       "                {}\n",
       "            ).addTo(map_cfa210e3c4f1a3c34686dc3b823f6a8a);\n",
       "        \n",
       "    \n",
       "        var popup_dba6c049042d68fc05034f29376d0d7f = L.popup({&quot;maxWidth&quot;: &quot;100%&quot;});\n",
       "\n",
       "        \n",
       "            var html_cbd80ae8cc0822c397964072ac915412 = $(`&lt;div id=&quot;html_cbd80ae8cc0822c397964072ac915412&quot; style=&quot;width: 100.0%; height: 100.0%;&quot;&gt;SANTA LIDIA&lt;/div&gt;`)[0];\n",
       "            popup_dba6c049042d68fc05034f29376d0d7f.setContent(html_cbd80ae8cc0822c397964072ac915412);\n",
       "        \n",
       "\n",
       "        marker_fe3587ec9a8e7933c4310462408ee2c5.bindPopup(popup_dba6c049042d68fc05034f29376d0d7f)\n",
       "        ;\n",
       "\n",
       "        \n",
       "    \n",
       "    \n",
       "            var marker_3c64a66305b1a26a825ebc7f5041671d = L.marker(\n",
       "                [-37.0899, -72.322898],\n",
       "                {}\n",
       "            ).addTo(map_cfa210e3c4f1a3c34686dc3b823f6a8a);\n",
       "        \n",
       "    \n",
       "        var popup_2c13e61b6a1aa5e24205ecac3f6ff4bf = L.popup({&quot;maxWidth&quot;: &quot;100%&quot;});\n",
       "\n",
       "        \n",
       "            var html_5a93e7582d86ab49f3576c61e30c7e2b = $(`&lt;div id=&quot;html_5a93e7582d86ab49f3576c61e30c7e2b&quot; style=&quot;width: 100.0%; height: 100.0%;&quot;&gt;CENTRAL TERMOELÉCTRICA LOS PINOS&lt;/div&gt;`)[0];\n",
       "            popup_2c13e61b6a1aa5e24205ecac3f6ff4bf.setContent(html_5a93e7582d86ab49f3576c61e30c7e2b);\n",
       "        \n",
       "\n",
       "        marker_3c64a66305b1a26a825ebc7f5041671d.bindPopup(popup_2c13e61b6a1aa5e24205ecac3f6ff4bf)\n",
       "        ;\n",
       "\n",
       "        \n",
       "    \n",
       "    \n",
       "            var marker_71584813862292ebf6ca614827bc8230 = L.marker(\n",
       "                [-34.033912, -70.612585],\n",
       "                {}\n",
       "            ).addTo(map_cfa210e3c4f1a3c34686dc3b823f6a8a);\n",
       "        \n",
       "    \n",
       "        var popup_5677aff24c3d83cb41d62b2ee825d3b8 = L.popup({&quot;maxWidth&quot;: &quot;100%&quot;});\n",
       "\n",
       "        \n",
       "            var html_b5af7a1aac1cdc7962d88e15427eeaed = $(`&lt;div id=&quot;html_b5af7a1aac1cdc7962d88e15427eeaed&quot; style=&quot;width: 100.0%; height: 100.0%;&quot;&gt;CENTRAL TERMOELÉCTRICA CANDELARIA&lt;/div&gt;`)[0];\n",
       "            popup_5677aff24c3d83cb41d62b2ee825d3b8.setContent(html_b5af7a1aac1cdc7962d88e15427eeaed);\n",
       "        \n",
       "\n",
       "        marker_71584813862292ebf6ca614827bc8230.bindPopup(popup_5677aff24c3d83cb41d62b2ee825d3b8)\n",
       "        ;\n",
       "\n",
       "        \n",
       "    \n",
       "    \n",
       "            var marker_0d43732b29a1eda25d3c4ec9de795512 = L.marker(\n",
       "                [-32.930525, -71.473568],\n",
       "                {}\n",
       "            ).addTo(map_cfa210e3c4f1a3c34686dc3b823f6a8a);\n",
       "        \n",
       "    \n",
       "        var popup_4aeb97471f0afb556f341ec0f103569b = L.popup({&quot;maxWidth&quot;: &quot;100%&quot;});\n",
       "\n",
       "        \n",
       "            var html_83aea695ce0de1cd7fbd61c9abbf3b3d = $(`&lt;div id=&quot;html_83aea695ce0de1cd7fbd61c9abbf3b3d&quot; style=&quot;width: 100.0%; height: 100.0%;&quot;&gt;CENTRAL COLMITO&lt;/div&gt;`)[0];\n",
       "            popup_4aeb97471f0afb556f341ec0f103569b.setContent(html_83aea695ce0de1cd7fbd61c9abbf3b3d);\n",
       "        \n",
       "\n",
       "        marker_0d43732b29a1eda25d3c4ec9de795512.bindPopup(popup_4aeb97471f0afb556f341ec0f103569b)\n",
       "        ;\n",
       "\n",
       "        \n",
       "    \n",
       "    \n",
       "            var marker_21b732743598070d9a9c876a0358be1a = L.marker(\n",
       "                [-37.107246, -72.29208200000001],\n",
       "                {}\n",
       "            ).addTo(map_cfa210e3c4f1a3c34686dc3b823f6a8a);\n",
       "        \n",
       "    \n",
       "        var popup_68ddc0ad51e2360a377fe47fb9cfc85d = L.popup({&quot;maxWidth&quot;: &quot;100%&quot;});\n",
       "\n",
       "        \n",
       "            var html_cec121f63358ebb857d03f947ad0a113 = $(`&lt;div id=&quot;html_cec121f63358ebb857d03f947ad0a113&quot; style=&quot;width: 100.0%; height: 100.0%;&quot;&gt;YUNGAY (EX CAMPANARIO)&lt;/div&gt;`)[0];\n",
       "            popup_68ddc0ad51e2360a377fe47fb9cfc85d.setContent(html_cec121f63358ebb857d03f947ad0a113);\n",
       "        \n",
       "\n",
       "        marker_21b732743598070d9a9c876a0358be1a.bindPopup(popup_68ddc0ad51e2360a377fe47fb9cfc85d)\n",
       "        ;\n",
       "\n",
       "        \n",
       "    \n",
       "    \n",
       "            var marker_bc36b0554b81be77d8690ca62a36139c = L.marker(\n",
       "                [-28.472116, -71.247379],\n",
       "                {}\n",
       "            ).addTo(map_cfa210e3c4f1a3c34686dc3b823f6a8a);\n",
       "        \n",
       "    \n",
       "        var popup_05c6d3cc404594b3ef0efb198b425207 = L.popup({&quot;maxWidth&quot;: &quot;100%&quot;});\n",
       "\n",
       "        \n",
       "            var html_85563f4b609ef3e3f1d00471cedd928b = $(`&lt;div id=&quot;html_85563f4b609ef3e3f1d00471cedd928b&quot; style=&quot;width: 100.0%; height: 100.0%;&quot;&gt;GUACOLDA&lt;/div&gt;`)[0];\n",
       "            popup_05c6d3cc404594b3ef0efb198b425207.setContent(html_85563f4b609ef3e3f1d00471cedd928b);\n",
       "        \n",
       "\n",
       "        marker_bc36b0554b81be77d8690ca62a36139c.bindPopup(popup_05c6d3cc404594b3ef0efb198b425207)\n",
       "        ;\n",
       "\n",
       "        \n",
       "    \n",
       "    \n",
       "            var marker_2dc4d46a9052ca0ee92b64f8c2a147b2 = L.marker(\n",
       "                [-32.936543, -71.3162416219711],\n",
       "                {}\n",
       "            ).addTo(map_cfa210e3c4f1a3c34686dc3b823f6a8a);\n",
       "        \n",
       "    \n",
       "        var popup_6b085c85af9168dd0c4e45926d86e15b = L.popup({&quot;maxWidth&quot;: &quot;100%&quot;});\n",
       "\n",
       "        \n",
       "            var html_7db8659eb844f41606a81401cfc84a42 = $(`&lt;div id=&quot;html_7db8659eb844f41606a81401cfc84a42&quot; style=&quot;width: 100.0%; height: 100.0%;&quot;&gt;CENTRAL SAN ISIDRO I&lt;/div&gt;`)[0];\n",
       "            popup_6b085c85af9168dd0c4e45926d86e15b.setContent(html_7db8659eb844f41606a81401cfc84a42);\n",
       "        \n",
       "\n",
       "        marker_2dc4d46a9052ca0ee92b64f8c2a147b2.bindPopup(popup_6b085c85af9168dd0c4e45926d86e15b)\n",
       "        ;\n",
       "\n",
       "        \n",
       "    \n",
       "    \n",
       "            var marker_32d2425ec14e07e1081ecd4d95e39832 = L.marker(\n",
       "                [-32.9366955, -71.3254887],\n",
       "                {}\n",
       "            ).addTo(map_cfa210e3c4f1a3c34686dc3b823f6a8a);\n",
       "        \n",
       "    \n",
       "        var popup_3f9e3ca04292b759334c2ef7b85e0840 = L.popup({&quot;maxWidth&quot;: &quot;100%&quot;});\n",
       "\n",
       "        \n",
       "            var html_524308c5c25faf33b7b5a282a7ed0ba5 = $(`&lt;div id=&quot;html_524308c5c25faf33b7b5a282a7ed0ba5&quot; style=&quot;width: 100.0%; height: 100.0%;&quot;&gt;COMPLEJO TERMOELÉCTRICO NEHUENCO&lt;/div&gt;`)[0];\n",
       "            popup_3f9e3ca04292b759334c2ef7b85e0840.setContent(html_524308c5c25faf33b7b5a282a7ed0ba5);\n",
       "        \n",
       "\n",
       "        marker_32d2425ec14e07e1081ecd4d95e39832.bindPopup(popup_3f9e3ca04292b759334c2ef7b85e0840)\n",
       "        ;\n",
       "\n",
       "        \n",
       "    \n",
       "    \n",
       "            var marker_9715e4fd66b637607b644e4fb71a60e8 = L.marker(\n",
       "                [-32.843902, -71.013235],\n",
       "                {}\n",
       "            ).addTo(map_cfa210e3c4f1a3c34686dc3b823f6a8a);\n",
       "        \n",
       "    \n",
       "        var popup_bbfacf9107b8e4f32f2e07643487c30c = L.popup({&quot;maxWidth&quot;: &quot;100%&quot;});\n",
       "\n",
       "        \n",
       "            var html_e000d6630fd8e78179b746e1ffddcb1e = $(`&lt;div id=&quot;html_e000d6630fd8e78179b746e1ffddcb1e&quot; style=&quot;width: 100.0%; height: 100.0%;&quot;&gt;LOS VIENTOS&lt;/div&gt;`)[0];\n",
       "            popup_bbfacf9107b8e4f32f2e07643487c30c.setContent(html_e000d6630fd8e78179b746e1ffddcb1e);\n",
       "        \n",
       "\n",
       "        marker_9715e4fd66b637607b644e4fb71a60e8.bindPopup(popup_bbfacf9107b8e4f32f2e07643487c30c)\n",
       "        ;\n",
       "\n",
       "        \n",
       "    \n",
       "    \n",
       "            var marker_3644d30beafa75b69581a32b30aeec70 = L.marker(\n",
       "                [-32.936543, -71.3162416219711],\n",
       "                {}\n",
       "            ).addTo(map_cfa210e3c4f1a3c34686dc3b823f6a8a);\n",
       "        \n",
       "    \n",
       "        var popup_275c5e8345c0e833e8e416d581356b7d = L.popup({&quot;maxWidth&quot;: &quot;100%&quot;});\n",
       "\n",
       "        \n",
       "            var html_b388ef926267400dfb6808ef462dba41 = $(`&lt;div id=&quot;html_b388ef926267400dfb6808ef462dba41&quot; style=&quot;width: 100.0%; height: 100.0%;&quot;&gt;SAN ISIDRO 2&lt;/div&gt;`)[0];\n",
       "            popup_275c5e8345c0e833e8e416d581356b7d.setContent(html_b388ef926267400dfb6808ef462dba41);\n",
       "        \n",
       "\n",
       "        marker_3644d30beafa75b69581a32b30aeec70.bindPopup(popup_275c5e8345c0e833e8e416d581356b7d)\n",
       "        ;\n",
       "\n",
       "        \n",
       "    \n",
       "    \n",
       "            var marker_d01227648e0a670160a66bba801554ca = L.marker(\n",
       "                [-33.4167, -70.6874],\n",
       "                {}\n",
       "            ).addTo(map_cfa210e3c4f1a3c34686dc3b823f6a8a);\n",
       "        \n",
       "    \n",
       "        var popup_d58f5c90717583002d429739f69678fc = L.popup({&quot;maxWidth&quot;: &quot;100%&quot;});\n",
       "\n",
       "        \n",
       "            var html_8ea917675393d7b0733ee452e6d9b25e = $(`&lt;div id=&quot;html_8ea917675393d7b0733ee452e6d9b25e&quot; style=&quot;width: 100.0%; height: 100.0%;&quot;&gt;RENCA NUEVA RENCA&lt;/div&gt;`)[0];\n",
       "            popup_d58f5c90717583002d429739f69678fc.setContent(html_8ea917675393d7b0733ee452e6d9b25e);\n",
       "        \n",
       "\n",
       "        marker_d01227648e0a670160a66bba801554ca.bindPopup(popup_d58f5c90717583002d429739f69678fc)\n",
       "        ;\n",
       "\n",
       "        \n",
       "    \n",
       "&lt;/script&gt;\" width=\"800\" height=\"600\"style=\"border:none !important;\" \"allowfullscreen\" \"webkitallowfullscreen\" \"mozallowfullscreen\"></iframe>"
      ],
      "text/plain": [
       "<folium.folium.Map at 0x7fa094b5fee0>"
      ]
     },
     "execution_count": 19,
     "metadata": {},
     "output_type": "execute_result"
    }
   ],
   "source": [
    "plantas = gdf[\"Planta\"].unique() \n",
    "puntos = []\n",
    "for planta in plantas:\n",
    "    temp_gdf = gdf[gdf[\"Planta\"] == planta]\n",
    "    coords_planta = temp_gdf.iloc[0][\"geometry\"]\n",
    "    puntos.append(coords_planta)\n",
    "markers = pd.DataFrame({\"Planta\": plantas, \"geometry\": puntos})\n",
    "\n",
    "for _, row in markers.iterrows():\n",
    "    lat = row[\"geometry\"].y\n",
    "    lon = row[\"geometry\"].x\n",
    "    folium.Marker(location=[lat, lon],\n",
    "                  popup=row[\"Planta\"]).add_to(map)\n",
    "\n",
    "map"
   ]
  },
  {
   "cell_type": "markdown",
   "metadata": {},
   "source": [
    "## Panorama general del objeto de estudio"
   ]
  },
  {
   "cell_type": "markdown",
   "metadata": {},
   "source": [
    "Es importante destacar que los hallazgos realizados en este estudio están en base a la Tabla 4 de la norma, esto quiere decir que se centra exclusivamente en descargas al mar dentro de la Zona de Protección Litoral (ZPL). Lo anterior se debe a que luego de filtrar los datos, apreciamos que todas las descargas que superaban los límites establecidos por la norma estaban asociados a cuerpos de agua marinos."
   ]
  },
  {
   "cell_type": "markdown",
   "metadata": {},
   "source": [
    "Se agrupan los datos para conocer los valores máximos reportados por cada planta y se convierte el GroupBy a DataFrame."
   ]
  },
  {
   "cell_type": "code",
   "execution_count": 6,
   "metadata": {},
   "outputs": [],
   "source": [
    "df_termoelectricas_filtrado = df_termoelectricas.groupby([\"ANIO\",\"MES\",\"Parametro\",\"CuerpoReceptor\",\"Planta\",\"Tabla\",\"% diferencia_umbral\"])[\"Valor reportado\"].max()\n",
    "df_termoelectricas_filtrado = df_termoelectricas_filtrado.to_frame()\n",
    "df_termoelectricas_filtrado = df_termoelectricas_filtrado.reset_index()"
   ]
  },
  {
   "cell_type": "markdown",
   "metadata": {},
   "source": [
    "Seleccionamos sólo los registros donde los valores de los parámetros superen los límites establecidos."
   ]
  },
  {
   "cell_type": "code",
   "execution_count": 7,
   "metadata": {},
   "outputs": [],
   "source": [
    "df_termoelectricas_filtrado = df_termoelectricas_filtrado.sort_values(by=['ANIO', 'MES',\"Parametro\",\"Tabla\"])\n",
    "df_termoelectricas_filtrado = df_termoelectricas_filtrado[['ANIO','MES',\"Parametro\",\"% diferencia_umbral\",\"CuerpoReceptor\",\"Planta\",\"Tabla\"]]\n",
    "df_termoelectricas_filtrado = df_termoelectricas_filtrado[df_termoelectricas_filtrado[\"% diferencia_umbral\"]>0]"
   ]
  },
  {
   "cell_type": "markdown",
   "metadata": {},
   "source": [
    "Filtraremos sólo por la Tabla 4, correspondiente a descargas (Mar adentro ZPL), puesto que como se mencionó anteriormente, esta es la única que presenta valores que exceden los límites permitidos.\\\n",
    "Finalmente se organizan los datos para presentar un *Sunburst plot* con el resumen."
   ]
  },
  {
   "cell_type": "code",
   "execution_count": 8,
   "metadata": {},
   "outputs": [],
   "source": [
    "warnings.filterwarnings(\"ignore\")\n",
    "\n",
    "df_sunburst = df_termoelectricas_filtrado\n",
    "\n",
    "df_sunburst=df_sunburst.reset_index()\n",
    "for i in range(len(df_sunburst)):\n",
    "    df_sunburst[\"Planta\"][i]=df_sunburst[\"Planta\"][i].replace(\"CENTRAL TERMOELÉCTRICA \",\"\")\n",
    "    df_sunburst[\"Planta\"][i]=df_sunburst[\"Planta\"][i].replace(\"CENTRAL TERMOELECTRICA \",\"\")\n",
    "    df_sunburst[\"Planta\"][i]=df_sunburst[\"Planta\"][i].replace(\"CENTRAL TERMICA \",\"\")\n",
    "    \n",
    "    title = df_sunburst[\"Planta\"][i].split()\n",
    "    df_sunburst[\"Planta\"][i]=title[0]+'<BR>'+' '.join(title[1:len(title)])\n",
    "    \n",
    "    title = df_sunburst[\"CuerpoReceptor\"][i].split()\n",
    "    df_sunburst[\"CuerpoReceptor\"][i]=title[0]+'<BR>'+' '.join(title[1:len(title)])"
   ]
  },
  {
   "cell_type": "code",
   "execution_count": 9,
   "metadata": {},
   "outputs": [
    {
     "data": {
      "application/vnd.plotly.v1+json": {
       "config": {
        "plotlyServerURL": "https://plot.ly"
       },
       "data": [
        {
         "branchvalues": "total",
         "customdata": [
          [
           "Molibdeno"
          ],
          [
           "Molibdeno"
          ],
          [
           "Molibdeno"
          ],
          [
           "Molibdeno"
          ],
          [
           "Molibdeno"
          ],
          [
           "Temperatura"
          ],
          [
           "Temperatura"
          ],
          [
           "Temperatura"
          ],
          [
           "Temperatura"
          ],
          [
           "Temperatura"
          ],
          [
           "Molibdeno"
          ],
          [
           "Mercurio"
          ],
          [
           "Molibdeno"
          ],
          [
           "Temperatura"
          ],
          [
           "Mercurio"
          ],
          [
           "Molibdeno"
          ],
          [
           "Mercurio"
          ],
          [
           "Molibdeno"
          ],
          [
           "Temperatura"
          ],
          [
           "Temperatura"
          ],
          [
           "Temperatura"
          ],
          [
           "Temperatura"
          ],
          [
           "Temperatura"
          ],
          [
           "Temperatura"
          ],
          [
           "Molibdeno"
          ],
          [
           "Mercurio"
          ],
          [
           "Mercurio"
          ],
          [
           "Molibdeno"
          ],
          [
           "Molibdeno"
          ],
          [
           "Mercurio"
          ],
          [
           "Molibdeno"
          ],
          [
           "Molibdeno"
          ],
          [
           "Molibdeno"
          ],
          [
           "Molibdeno"
          ],
          [
           "Molibdeno"
          ],
          [
           "Molibdeno"
          ],
          [
           "Molibdeno"
          ],
          [
           "Temperatura"
          ],
          [
           "Temperatura"
          ],
          [
           "Temperatura"
          ],
          [
           "Temperatura"
          ],
          [
           "Temperatura"
          ],
          [
           "Molibdeno"
          ],
          [
           "Molibdeno"
          ],
          [
           "Mercurio"
          ],
          [
           "Molibdeno"
          ],
          [
           "Molibdeno"
          ],
          [
           "Molibdeno"
          ],
          [
           "Molibdeno"
          ],
          [
           "Molibdeno"
          ],
          [
           "Molibdeno"
          ],
          [
           "Temperatura"
          ],
          [
           "Mercurio"
          ],
          [
           "Mercurio"
          ],
          [
           "Mercurio"
          ],
          [
           "Mercurio"
          ],
          [
           "Mercurio"
          ],
          [
           "Molibdeno"
          ],
          [
           "Molibdeno"
          ],
          [
           "Molibdeno"
          ],
          [
           "Molibdeno"
          ],
          [
           "Molibdeno"
          ],
          [
           "Molibdeno"
          ],
          [
           "Molibdeno"
          ],
          [
           "Molibdeno"
          ],
          [
           "Molibdeno"
          ],
          [
           "Temperatura"
          ],
          [
           "Temperatura"
          ],
          [
           "Temperatura"
          ],
          [
           "Temperatura"
          ],
          [
           "Temperatura"
          ],
          [
           "Temperatura"
          ],
          [
           "Molibdeno"
          ],
          [
           "Molibdeno"
          ],
          [
           "Mercurio"
          ],
          [
           "Mercurio"
          ],
          [
           "Temperatura"
          ],
          [
           "Molibdeno"
          ],
          [
           "Molibdeno"
          ],
          [
           "Molibdeno"
          ],
          [
           "Molibdeno"
          ],
          [
           "Temperatura"
          ],
          [
           "Molibdeno"
          ],
          [
           "Temperatura"
          ],
          [
           "Molibdeno"
          ],
          [
           "Temperatura"
          ],
          [
           "Molibdeno"
          ],
          [
           "Temperatura"
          ],
          [
           "Temperatura"
          ],
          [
           "Mercurio"
          ],
          [
           "(?)"
          ],
          [
           "Molibdeno"
          ],
          [
           "(?)"
          ],
          [
           "(?)"
          ],
          [
           "Mercurio"
          ]
         ],
         "domain": {
          "x": [
           0,
           1
          ],
          "y": [
           0,
           1
          ]
         },
         "hovertemplate": "labels=%{label}<br>% diferencia_umbral=%{value}<br>parent=%{parent}<br>id=%{id}<br>Parametro=%{customdata[0]}<extra></extra>",
         "ids": [
          "2017/5/Molibdeno/BAHÍA<BR>QUINTERO/VENTANAS<BR>UNIDADES 1 Y 2/302.0",
          "2019/1/Molibdeno/BAHIA<BR>MEJILLONES/COCHRANE<BR>/159.0",
          "2018/9/Molibdeno/BAHÍA<BR>QUINTERO/VENTANAS<BR>UNIDADES 1 Y 2/59.0",
          "2018/7/Molibdeno/BAHÍA<BR>ALGODONALES/NUEVA<BR>TOCOPILLA/42.0",
          "2018/5/Molibdeno/BAHÍA<BR>QUINTERO/VENTANAS<BR>UNIDADES 1 Y 2/16.0",
          "2019/11/Temperatura/BAHIA<BR>MEJILLONES/ANDINA<BR>/13.7",
          "2019/8/Temperatura/BAHÍA<BR>QUINTERO/CAMPICHE<BR>/0.3",
          "2020/2/Temperatura/BAHIA<BR>MEJILLONES/ANGAMOS<BR>/8.7",
          "2019/6/Temperatura/BAHIA<BR>MEJILLONES/ANDINA<BR>/7.7",
          "2017/11/Temperatura/BAHIA<BR>MEJILLONES/ANGAMOS<BR>/1.3",
          "2018/6/Molibdeno/BAHÍA<BR>ALGODONALES/NUEVA<BR>TOCOPILLA/13.0",
          "2019/2/Mercurio/PENINSULA<BR>GUACOLDA/GUACOLDA<BR>/40.0",
          "2018/3/Molibdeno/BAHÍA<BR>QUINTERO/VENTANAS<BR>UNIDADES 1 Y 2/187.0",
          "2020/5/Temperatura/BAHIA<BR>MEJILLONES/ANDINA<BR>/3.3",
          "2021/11/Mercurio/BAHÍA<BR>QUINTERO/VENTANAS<BR>UNIDADES 1 Y 2/60.0",
          "2018/1/Molibdeno/BAHÍA<BR>QUINTERO/VENTANAS<BR>UNIDADES 1 Y 2/63.0",
          "2020/1/Mercurio/PENINSULA<BR>GUACOLDA/GUACOLDA<BR>/80.0",
          "2017/4/Molibdeno/BAHÍA<BR>QUINTERO/VENTANAS<BR>UNIDADES 1 Y 2/168.0",
          "2020/5/Temperatura/BAHIA<BR>MEJILLONES/ANDINA<BR>",
          "2019/6/Temperatura/BAHIA<BR>MEJILLONES/ANDINA<BR>",
          "2019/11/Temperatura/BAHIA<BR>MEJILLONES/ANDINA<BR>",
          "2020/2/Temperatura/BAHIA<BR>MEJILLONES/ANGAMOS<BR>",
          "2017/11/Temperatura/BAHIA<BR>MEJILLONES/ANGAMOS<BR>",
          "2019/8/Temperatura/BAHÍA<BR>QUINTERO/CAMPICHE<BR>",
          "2019/1/Molibdeno/BAHIA<BR>MEJILLONES/COCHRANE<BR>",
          "2020/1/Mercurio/PENINSULA<BR>GUACOLDA/GUACOLDA<BR>",
          "2019/2/Mercurio/PENINSULA<BR>GUACOLDA/GUACOLDA<BR>",
          "2018/6/Molibdeno/BAHÍA<BR>ALGODONALES/NUEVA<BR>TOCOPILLA",
          "2018/7/Molibdeno/BAHÍA<BR>ALGODONALES/NUEVA<BR>TOCOPILLA",
          "2021/11/Mercurio/BAHÍA<BR>QUINTERO/VENTANAS<BR>UNIDADES 1 Y 2",
          "2018/1/Molibdeno/BAHÍA<BR>QUINTERO/VENTANAS<BR>UNIDADES 1 Y 2",
          "2018/3/Molibdeno/BAHÍA<BR>QUINTERO/VENTANAS<BR>UNIDADES 1 Y 2",
          "2017/4/Molibdeno/BAHÍA<BR>QUINTERO/VENTANAS<BR>UNIDADES 1 Y 2",
          "2017/5/Molibdeno/BAHÍA<BR>QUINTERO/VENTANAS<BR>UNIDADES 1 Y 2",
          "2018/5/Molibdeno/BAHÍA<BR>QUINTERO/VENTANAS<BR>UNIDADES 1 Y 2",
          "2018/9/Molibdeno/BAHÍA<BR>QUINTERO/VENTANAS<BR>UNIDADES 1 Y 2",
          "2019/1/Molibdeno/BAHIA<BR>MEJILLONES",
          "2020/2/Temperatura/BAHIA<BR>MEJILLONES",
          "2020/5/Temperatura/BAHIA<BR>MEJILLONES",
          "2019/6/Temperatura/BAHIA<BR>MEJILLONES",
          "2017/11/Temperatura/BAHIA<BR>MEJILLONES",
          "2019/11/Temperatura/BAHIA<BR>MEJILLONES",
          "2018/6/Molibdeno/BAHÍA<BR>ALGODONALES",
          "2018/7/Molibdeno/BAHÍA<BR>ALGODONALES",
          "2021/11/Mercurio/BAHÍA<BR>QUINTERO",
          "2018/1/Molibdeno/BAHÍA<BR>QUINTERO",
          "2018/3/Molibdeno/BAHÍA<BR>QUINTERO",
          "2017/4/Molibdeno/BAHÍA<BR>QUINTERO",
          "2017/5/Molibdeno/BAHÍA<BR>QUINTERO",
          "2018/5/Molibdeno/BAHÍA<BR>QUINTERO",
          "2018/9/Molibdeno/BAHÍA<BR>QUINTERO",
          "2019/8/Temperatura/BAHÍA<BR>QUINTERO",
          "2020/1/Mercurio/PENINSULA<BR>GUACOLDA",
          "2019/2/Mercurio/PENINSULA<BR>GUACOLDA",
          "2020/1/Mercurio",
          "2019/2/Mercurio",
          "2021/11/Mercurio",
          "2018/1/Molibdeno",
          "2019/1/Molibdeno",
          "2018/3/Molibdeno",
          "2017/4/Molibdeno",
          "2017/5/Molibdeno",
          "2018/5/Molibdeno",
          "2018/6/Molibdeno",
          "2018/7/Molibdeno",
          "2018/9/Molibdeno",
          "2020/2/Temperatura",
          "2020/5/Temperatura",
          "2019/6/Temperatura",
          "2019/8/Temperatura",
          "2017/11/Temperatura",
          "2019/11/Temperatura",
          "2018/1",
          "2019/1",
          "2020/1",
          "2019/2",
          "2020/2",
          "2018/3",
          "2017/4",
          "2017/5",
          "2018/5",
          "2020/5",
          "2018/6",
          "2019/6",
          "2018/7",
          "2019/8",
          "2018/9",
          "2017/11",
          "2019/11",
          "2021/11",
          "2017",
          "2018",
          "2019",
          "2020",
          "2021"
         ],
         "insidetextfont": {
          "color": "white"
         },
         "insidetextorientation": "radial",
         "labels": [
          "302.0",
          "159.0",
          "59.0",
          "42.0",
          "16.0",
          "13.7",
          "0.3",
          "8.7",
          "7.7",
          "1.3",
          "13.0",
          "40.0",
          "187.0",
          "3.3",
          "60.0",
          "63.0",
          "80.0",
          "168.0",
          "ANDINA<BR>",
          "ANDINA<BR>",
          "ANDINA<BR>",
          "ANGAMOS<BR>",
          "ANGAMOS<BR>",
          "CAMPICHE<BR>",
          "COCHRANE<BR>",
          "GUACOLDA<BR>",
          "GUACOLDA<BR>",
          "NUEVA<BR>TOCOPILLA",
          "NUEVA<BR>TOCOPILLA",
          "VENTANAS<BR>UNIDADES 1 Y 2",
          "VENTANAS<BR>UNIDADES 1 Y 2",
          "VENTANAS<BR>UNIDADES 1 Y 2",
          "VENTANAS<BR>UNIDADES 1 Y 2",
          "VENTANAS<BR>UNIDADES 1 Y 2",
          "VENTANAS<BR>UNIDADES 1 Y 2",
          "VENTANAS<BR>UNIDADES 1 Y 2",
          "BAHIA<BR>MEJILLONES",
          "BAHIA<BR>MEJILLONES",
          "BAHIA<BR>MEJILLONES",
          "BAHIA<BR>MEJILLONES",
          "BAHIA<BR>MEJILLONES",
          "BAHIA<BR>MEJILLONES",
          "BAHÍA<BR>ALGODONALES",
          "BAHÍA<BR>ALGODONALES",
          "BAHÍA<BR>QUINTERO",
          "BAHÍA<BR>QUINTERO",
          "BAHÍA<BR>QUINTERO",
          "BAHÍA<BR>QUINTERO",
          "BAHÍA<BR>QUINTERO",
          "BAHÍA<BR>QUINTERO",
          "BAHÍA<BR>QUINTERO",
          "BAHÍA<BR>QUINTERO",
          "PENINSULA<BR>GUACOLDA",
          "PENINSULA<BR>GUACOLDA",
          "Mercurio",
          "Mercurio",
          "Mercurio",
          "Molibdeno",
          "Molibdeno",
          "Molibdeno",
          "Molibdeno",
          "Molibdeno",
          "Molibdeno",
          "Molibdeno",
          "Molibdeno",
          "Molibdeno",
          "Temperatura",
          "Temperatura",
          "Temperatura",
          "Temperatura",
          "Temperatura",
          "Temperatura",
          "1",
          "1",
          "1",
          "2",
          "2",
          "3",
          "4",
          "5",
          "5",
          "5",
          "6",
          "6",
          "7",
          "8",
          "9",
          "11",
          "11",
          "11",
          "2017",
          "2018",
          "2019",
          "2020",
          "2021"
         ],
         "marker": {
          "colors": [
           "#636efa",
           "#636efa",
           "#636efa",
           "#636efa",
           "#636efa",
           "#EF553B",
           "#EF553B",
           "#EF553B",
           "#EF553B",
           "#EF553B",
           "#636efa",
           "#00cc96",
           "#636efa",
           "#EF553B",
           "#00cc96",
           "#636efa",
           "#00cc96",
           "#636efa",
           "#EF553B",
           "#EF553B",
           "#EF553B",
           "#EF553B",
           "#EF553B",
           "#EF553B",
           "#636efa",
           "#00cc96",
           "#00cc96",
           "#636efa",
           "#636efa",
           "#00cc96",
           "#636efa",
           "#636efa",
           "#636efa",
           "#636efa",
           "#636efa",
           "#636efa",
           "#636efa",
           "#EF553B",
           "#EF553B",
           "#EF553B",
           "#EF553B",
           "#EF553B",
           "#636efa",
           "#636efa",
           "#00cc96",
           "#636efa",
           "#636efa",
           "#636efa",
           "#636efa",
           "#636efa",
           "#636efa",
           "#EF553B",
           "#00cc96",
           "#00cc96",
           "#00cc96",
           "#00cc96",
           "#00cc96",
           "#636efa",
           "#636efa",
           "#636efa",
           "#636efa",
           "#636efa",
           "#636efa",
           "#636efa",
           "#636efa",
           "#636efa",
           "#EF553B",
           "#EF553B",
           "#EF553B",
           "#EF553B",
           "#EF553B",
           "#EF553B",
           "#636efa",
           "#636efa",
           "#00cc96",
           "#00cc96",
           "#EF553B",
           "#636efa",
           "#636efa",
           "#636efa",
           "#636efa",
           "#EF553B",
           "#636efa",
           "#EF553B",
           "#636efa",
           "#EF553B",
           "#636efa",
           "#EF553B",
           "#EF553B",
           "#00cc96",
           "#ab63fa",
           "#636efa",
           "#ab63fa",
           "#ab63fa",
           "#00cc96"
          ]
         },
         "name": "",
         "parents": [
          "2017/5/Molibdeno/BAHÍA<BR>QUINTERO/VENTANAS<BR>UNIDADES 1 Y 2",
          "2019/1/Molibdeno/BAHIA<BR>MEJILLONES/COCHRANE<BR>",
          "2018/9/Molibdeno/BAHÍA<BR>QUINTERO/VENTANAS<BR>UNIDADES 1 Y 2",
          "2018/7/Molibdeno/BAHÍA<BR>ALGODONALES/NUEVA<BR>TOCOPILLA",
          "2018/5/Molibdeno/BAHÍA<BR>QUINTERO/VENTANAS<BR>UNIDADES 1 Y 2",
          "2019/11/Temperatura/BAHIA<BR>MEJILLONES/ANDINA<BR>",
          "2019/8/Temperatura/BAHÍA<BR>QUINTERO/CAMPICHE<BR>",
          "2020/2/Temperatura/BAHIA<BR>MEJILLONES/ANGAMOS<BR>",
          "2019/6/Temperatura/BAHIA<BR>MEJILLONES/ANDINA<BR>",
          "2017/11/Temperatura/BAHIA<BR>MEJILLONES/ANGAMOS<BR>",
          "2018/6/Molibdeno/BAHÍA<BR>ALGODONALES/NUEVA<BR>TOCOPILLA",
          "2019/2/Mercurio/PENINSULA<BR>GUACOLDA/GUACOLDA<BR>",
          "2018/3/Molibdeno/BAHÍA<BR>QUINTERO/VENTANAS<BR>UNIDADES 1 Y 2",
          "2020/5/Temperatura/BAHIA<BR>MEJILLONES/ANDINA<BR>",
          "2021/11/Mercurio/BAHÍA<BR>QUINTERO/VENTANAS<BR>UNIDADES 1 Y 2",
          "2018/1/Molibdeno/BAHÍA<BR>QUINTERO/VENTANAS<BR>UNIDADES 1 Y 2",
          "2020/1/Mercurio/PENINSULA<BR>GUACOLDA/GUACOLDA<BR>",
          "2017/4/Molibdeno/BAHÍA<BR>QUINTERO/VENTANAS<BR>UNIDADES 1 Y 2",
          "2020/5/Temperatura/BAHIA<BR>MEJILLONES",
          "2019/6/Temperatura/BAHIA<BR>MEJILLONES",
          "2019/11/Temperatura/BAHIA<BR>MEJILLONES",
          "2020/2/Temperatura/BAHIA<BR>MEJILLONES",
          "2017/11/Temperatura/BAHIA<BR>MEJILLONES",
          "2019/8/Temperatura/BAHÍA<BR>QUINTERO",
          "2019/1/Molibdeno/BAHIA<BR>MEJILLONES",
          "2020/1/Mercurio/PENINSULA<BR>GUACOLDA",
          "2019/2/Mercurio/PENINSULA<BR>GUACOLDA",
          "2018/6/Molibdeno/BAHÍA<BR>ALGODONALES",
          "2018/7/Molibdeno/BAHÍA<BR>ALGODONALES",
          "2021/11/Mercurio/BAHÍA<BR>QUINTERO",
          "2018/1/Molibdeno/BAHÍA<BR>QUINTERO",
          "2018/3/Molibdeno/BAHÍA<BR>QUINTERO",
          "2017/4/Molibdeno/BAHÍA<BR>QUINTERO",
          "2017/5/Molibdeno/BAHÍA<BR>QUINTERO",
          "2018/5/Molibdeno/BAHÍA<BR>QUINTERO",
          "2018/9/Molibdeno/BAHÍA<BR>QUINTERO",
          "2019/1/Molibdeno",
          "2020/2/Temperatura",
          "2020/5/Temperatura",
          "2019/6/Temperatura",
          "2017/11/Temperatura",
          "2019/11/Temperatura",
          "2018/6/Molibdeno",
          "2018/7/Molibdeno",
          "2021/11/Mercurio",
          "2018/1/Molibdeno",
          "2018/3/Molibdeno",
          "2017/4/Molibdeno",
          "2017/5/Molibdeno",
          "2018/5/Molibdeno",
          "2018/9/Molibdeno",
          "2019/8/Temperatura",
          "2020/1/Mercurio",
          "2019/2/Mercurio",
          "2020/1",
          "2019/2",
          "2021/11",
          "2018/1",
          "2019/1",
          "2018/3",
          "2017/4",
          "2017/5",
          "2018/5",
          "2018/6",
          "2018/7",
          "2018/9",
          "2020/2",
          "2020/5",
          "2019/6",
          "2019/8",
          "2017/11",
          "2019/11",
          "2018",
          "2019",
          "2020",
          "2019",
          "2020",
          "2018",
          "2017",
          "2017",
          "2018",
          "2020",
          "2018",
          "2019",
          "2018",
          "2019",
          "2018",
          "2017",
          "2019",
          "2021",
          "",
          "",
          "",
          "",
          ""
         ],
         "type": "sunburst",
         "values": [
          302,
          159,
          59,
          42,
          16,
          13.7,
          0.3,
          8.7,
          7.7,
          1.3,
          13,
          40,
          187,
          3.3,
          60,
          63,
          80,
          168,
          3.3,
          7.7,
          13.7,
          8.7,
          1.3,
          0.3,
          159,
          80,
          40,
          13,
          42,
          60,
          63,
          187,
          168,
          302,
          16,
          59,
          159,
          8.7,
          3.3,
          7.7,
          1.3,
          13.7,
          13,
          42,
          60,
          63,
          187,
          168,
          302,
          16,
          59,
          0.3,
          80,
          40,
          80,
          40,
          60,
          63,
          159,
          187,
          168,
          302,
          16,
          13,
          42,
          59,
          8.7,
          3.3,
          7.7,
          0.3,
          1.3,
          13.7,
          63,
          159,
          80,
          40,
          8.7,
          187,
          168,
          302,
          16,
          3.3,
          13,
          7.7,
          42,
          0.3,
          59,
          1.3,
          13.7,
          60,
          471.3,
          380,
          220.7,
          92,
          60
         ]
        }
       ],
       "layout": {
        "annotations": [
         {
          "arrowhead": 1,
          "font": {
           "color": "white",
           "size": 18
          },
          "showarrow": false,
          "text": "Año",
          "x": 0.5,
          "y": 0.57
         },
         {
          "arrowhead": 1,
          "font": {
           "color": "white",
           "size": 20
          },
          "showarrow": false,
          "text": "Mes",
          "x": 0.5,
          "y": 0.62
         },
         {
          "arrowhead": 1,
          "font": {
           "color": "white",
           "size": 20
          },
          "showarrow": false,
          "text": "Contaminante",
          "x": 0.5,
          "y": 0.72
         },
         {
          "arrowhead": 1,
          "font": {
           "color": "white",
           "size": 20
          },
          "showarrow": false,
          "text": "Cuerpo<BR>Receptor",
          "x": 0.5,
          "y": 0.82
         },
         {
          "arrowhead": 1,
          "font": {
           "color": "white",
           "size": 20
          },
          "showarrow": false,
          "text": "Termoeléctrica",
          "x": 0.5,
          "y": 0.89
         },
         {
          "arrowhead": 1,
          "font": {
           "color": "white",
           "size": 20
          },
          "showarrow": false,
          "text": "% Sobre el límite<BR>establecido",
          "x": 0.5,
          "y": 0.98
         },
         {
          "align": "left",
          "font": {
           "color": "black",
           "size": 12
          },
          "showarrow": false,
          "text": "Límites establecidos",
          "x": 0.03,
          "y": 0.050000000000000044
         },
         {
          "align": "left",
          "font": {
           "color": "black",
           "size": 12
          },
          "showarrow": false,
          "text": "Molibedeno: 0.1 [mg/L]",
          "x": 0.03,
          "y": 0.020000000000000018
         },
         {
          "align": "left",
          "font": {
           "color": "black",
           "size": 12
          },
          "showarrow": false,
          "text": "Mercurio: 0.005 [mg/L]",
          "x": 0.03,
          "y": -0.009999999999999898
         },
         {
          "align": "left",
          "font": {
           "color": "black",
           "size": 12
          },
          "showarrow": false,
          "text": "Temperatura: 30 [°C]",
          "x": 0.03,
          "y": -0.039999999999999925
         },
         {
          "align": "left",
          "arrowhead": 1,
          "font": {
           "color": "purple",
           "size": 12
          },
          "showarrow": false,
          "text": "██",
          "x": 0,
          "y": 0.02400000000000002
         },
         {
          "align": "left",
          "arrowhead": 1,
          "font": {
           "color": "green",
           "size": 12
          },
          "showarrow": false,
          "text": "██",
          "x": 0,
          "y": -0.005999999999999894
         },
         {
          "align": "left",
          "arrowhead": 1,
          "font": {
           "color": "red",
           "size": 12
          },
          "showarrow": false,
          "text": "██",
          "x": 0,
          "y": -0.03599999999999992
         }
        ],
        "autosize": false,
        "height": 1000,
        "legend": {
         "tracegroupgap": 0
        },
        "margin": {
         "t": 60
        },
        "template": {
         "data": {
          "bar": [
           {
            "error_x": {
             "color": "#2a3f5f"
            },
            "error_y": {
             "color": "#2a3f5f"
            },
            "marker": {
             "line": {
              "color": "#E5ECF6",
              "width": 0.5
             },
             "pattern": {
              "fillmode": "overlay",
              "size": 10,
              "solidity": 0.2
             }
            },
            "type": "bar"
           }
          ],
          "barpolar": [
           {
            "marker": {
             "line": {
              "color": "#E5ECF6",
              "width": 0.5
             },
             "pattern": {
              "fillmode": "overlay",
              "size": 10,
              "solidity": 0.2
             }
            },
            "type": "barpolar"
           }
          ],
          "carpet": [
           {
            "aaxis": {
             "endlinecolor": "#2a3f5f",
             "gridcolor": "white",
             "linecolor": "white",
             "minorgridcolor": "white",
             "startlinecolor": "#2a3f5f"
            },
            "baxis": {
             "endlinecolor": "#2a3f5f",
             "gridcolor": "white",
             "linecolor": "white",
             "minorgridcolor": "white",
             "startlinecolor": "#2a3f5f"
            },
            "type": "carpet"
           }
          ],
          "choropleth": [
           {
            "colorbar": {
             "outlinewidth": 0,
             "ticks": ""
            },
            "type": "choropleth"
           }
          ],
          "contour": [
           {
            "colorbar": {
             "outlinewidth": 0,
             "ticks": ""
            },
            "colorscale": [
             [
              0,
              "#0d0887"
             ],
             [
              0.1111111111111111,
              "#46039f"
             ],
             [
              0.2222222222222222,
              "#7201a8"
             ],
             [
              0.3333333333333333,
              "#9c179e"
             ],
             [
              0.4444444444444444,
              "#bd3786"
             ],
             [
              0.5555555555555556,
              "#d8576b"
             ],
             [
              0.6666666666666666,
              "#ed7953"
             ],
             [
              0.7777777777777778,
              "#fb9f3a"
             ],
             [
              0.8888888888888888,
              "#fdca26"
             ],
             [
              1,
              "#f0f921"
             ]
            ],
            "type": "contour"
           }
          ],
          "contourcarpet": [
           {
            "colorbar": {
             "outlinewidth": 0,
             "ticks": ""
            },
            "type": "contourcarpet"
           }
          ],
          "heatmap": [
           {
            "colorbar": {
             "outlinewidth": 0,
             "ticks": ""
            },
            "colorscale": [
             [
              0,
              "#0d0887"
             ],
             [
              0.1111111111111111,
              "#46039f"
             ],
             [
              0.2222222222222222,
              "#7201a8"
             ],
             [
              0.3333333333333333,
              "#9c179e"
             ],
             [
              0.4444444444444444,
              "#bd3786"
             ],
             [
              0.5555555555555556,
              "#d8576b"
             ],
             [
              0.6666666666666666,
              "#ed7953"
             ],
             [
              0.7777777777777778,
              "#fb9f3a"
             ],
             [
              0.8888888888888888,
              "#fdca26"
             ],
             [
              1,
              "#f0f921"
             ]
            ],
            "type": "heatmap"
           }
          ],
          "heatmapgl": [
           {
            "colorbar": {
             "outlinewidth": 0,
             "ticks": ""
            },
            "colorscale": [
             [
              0,
              "#0d0887"
             ],
             [
              0.1111111111111111,
              "#46039f"
             ],
             [
              0.2222222222222222,
              "#7201a8"
             ],
             [
              0.3333333333333333,
              "#9c179e"
             ],
             [
              0.4444444444444444,
              "#bd3786"
             ],
             [
              0.5555555555555556,
              "#d8576b"
             ],
             [
              0.6666666666666666,
              "#ed7953"
             ],
             [
              0.7777777777777778,
              "#fb9f3a"
             ],
             [
              0.8888888888888888,
              "#fdca26"
             ],
             [
              1,
              "#f0f921"
             ]
            ],
            "type": "heatmapgl"
           }
          ],
          "histogram": [
           {
            "marker": {
             "pattern": {
              "fillmode": "overlay",
              "size": 10,
              "solidity": 0.2
             }
            },
            "type": "histogram"
           }
          ],
          "histogram2d": [
           {
            "colorbar": {
             "outlinewidth": 0,
             "ticks": ""
            },
            "colorscale": [
             [
              0,
              "#0d0887"
             ],
             [
              0.1111111111111111,
              "#46039f"
             ],
             [
              0.2222222222222222,
              "#7201a8"
             ],
             [
              0.3333333333333333,
              "#9c179e"
             ],
             [
              0.4444444444444444,
              "#bd3786"
             ],
             [
              0.5555555555555556,
              "#d8576b"
             ],
             [
              0.6666666666666666,
              "#ed7953"
             ],
             [
              0.7777777777777778,
              "#fb9f3a"
             ],
             [
              0.8888888888888888,
              "#fdca26"
             ],
             [
              1,
              "#f0f921"
             ]
            ],
            "type": "histogram2d"
           }
          ],
          "histogram2dcontour": [
           {
            "colorbar": {
             "outlinewidth": 0,
             "ticks": ""
            },
            "colorscale": [
             [
              0,
              "#0d0887"
             ],
             [
              0.1111111111111111,
              "#46039f"
             ],
             [
              0.2222222222222222,
              "#7201a8"
             ],
             [
              0.3333333333333333,
              "#9c179e"
             ],
             [
              0.4444444444444444,
              "#bd3786"
             ],
             [
              0.5555555555555556,
              "#d8576b"
             ],
             [
              0.6666666666666666,
              "#ed7953"
             ],
             [
              0.7777777777777778,
              "#fb9f3a"
             ],
             [
              0.8888888888888888,
              "#fdca26"
             ],
             [
              1,
              "#f0f921"
             ]
            ],
            "type": "histogram2dcontour"
           }
          ],
          "mesh3d": [
           {
            "colorbar": {
             "outlinewidth": 0,
             "ticks": ""
            },
            "type": "mesh3d"
           }
          ],
          "parcoords": [
           {
            "line": {
             "colorbar": {
              "outlinewidth": 0,
              "ticks": ""
             }
            },
            "type": "parcoords"
           }
          ],
          "pie": [
           {
            "automargin": true,
            "type": "pie"
           }
          ],
          "scatter": [
           {
            "marker": {
             "colorbar": {
              "outlinewidth": 0,
              "ticks": ""
             }
            },
            "type": "scatter"
           }
          ],
          "scatter3d": [
           {
            "line": {
             "colorbar": {
              "outlinewidth": 0,
              "ticks": ""
             }
            },
            "marker": {
             "colorbar": {
              "outlinewidth": 0,
              "ticks": ""
             }
            },
            "type": "scatter3d"
           }
          ],
          "scattercarpet": [
           {
            "marker": {
             "colorbar": {
              "outlinewidth": 0,
              "ticks": ""
             }
            },
            "type": "scattercarpet"
           }
          ],
          "scattergeo": [
           {
            "marker": {
             "colorbar": {
              "outlinewidth": 0,
              "ticks": ""
             }
            },
            "type": "scattergeo"
           }
          ],
          "scattergl": [
           {
            "marker": {
             "colorbar": {
              "outlinewidth": 0,
              "ticks": ""
             }
            },
            "type": "scattergl"
           }
          ],
          "scattermapbox": [
           {
            "marker": {
             "colorbar": {
              "outlinewidth": 0,
              "ticks": ""
             }
            },
            "type": "scattermapbox"
           }
          ],
          "scatterpolar": [
           {
            "marker": {
             "colorbar": {
              "outlinewidth": 0,
              "ticks": ""
             }
            },
            "type": "scatterpolar"
           }
          ],
          "scatterpolargl": [
           {
            "marker": {
             "colorbar": {
              "outlinewidth": 0,
              "ticks": ""
             }
            },
            "type": "scatterpolargl"
           }
          ],
          "scatterternary": [
           {
            "marker": {
             "colorbar": {
              "outlinewidth": 0,
              "ticks": ""
             }
            },
            "type": "scatterternary"
           }
          ],
          "surface": [
           {
            "colorbar": {
             "outlinewidth": 0,
             "ticks": ""
            },
            "colorscale": [
             [
              0,
              "#0d0887"
             ],
             [
              0.1111111111111111,
              "#46039f"
             ],
             [
              0.2222222222222222,
              "#7201a8"
             ],
             [
              0.3333333333333333,
              "#9c179e"
             ],
             [
              0.4444444444444444,
              "#bd3786"
             ],
             [
              0.5555555555555556,
              "#d8576b"
             ],
             [
              0.6666666666666666,
              "#ed7953"
             ],
             [
              0.7777777777777778,
              "#fb9f3a"
             ],
             [
              0.8888888888888888,
              "#fdca26"
             ],
             [
              1,
              "#f0f921"
             ]
            ],
            "type": "surface"
           }
          ],
          "table": [
           {
            "cells": {
             "fill": {
              "color": "#EBF0F8"
             },
             "line": {
              "color": "white"
             }
            },
            "header": {
             "fill": {
              "color": "#C8D4E3"
             },
             "line": {
              "color": "white"
             }
            },
            "type": "table"
           }
          ]
         },
         "layout": {
          "annotationdefaults": {
           "arrowcolor": "#2a3f5f",
           "arrowhead": 0,
           "arrowwidth": 1
          },
          "autotypenumbers": "strict",
          "coloraxis": {
           "colorbar": {
            "outlinewidth": 0,
            "ticks": ""
           }
          },
          "colorscale": {
           "diverging": [
            [
             0,
             "#8e0152"
            ],
            [
             0.1,
             "#c51b7d"
            ],
            [
             0.2,
             "#de77ae"
            ],
            [
             0.3,
             "#f1b6da"
            ],
            [
             0.4,
             "#fde0ef"
            ],
            [
             0.5,
             "#f7f7f7"
            ],
            [
             0.6,
             "#e6f5d0"
            ],
            [
             0.7,
             "#b8e186"
            ],
            [
             0.8,
             "#7fbc41"
            ],
            [
             0.9,
             "#4d9221"
            ],
            [
             1,
             "#276419"
            ]
           ],
           "sequential": [
            [
             0,
             "#0d0887"
            ],
            [
             0.1111111111111111,
             "#46039f"
            ],
            [
             0.2222222222222222,
             "#7201a8"
            ],
            [
             0.3333333333333333,
             "#9c179e"
            ],
            [
             0.4444444444444444,
             "#bd3786"
            ],
            [
             0.5555555555555556,
             "#d8576b"
            ],
            [
             0.6666666666666666,
             "#ed7953"
            ],
            [
             0.7777777777777778,
             "#fb9f3a"
            ],
            [
             0.8888888888888888,
             "#fdca26"
            ],
            [
             1,
             "#f0f921"
            ]
           ],
           "sequentialminus": [
            [
             0,
             "#0d0887"
            ],
            [
             0.1111111111111111,
             "#46039f"
            ],
            [
             0.2222222222222222,
             "#7201a8"
            ],
            [
             0.3333333333333333,
             "#9c179e"
            ],
            [
             0.4444444444444444,
             "#bd3786"
            ],
            [
             0.5555555555555556,
             "#d8576b"
            ],
            [
             0.6666666666666666,
             "#ed7953"
            ],
            [
             0.7777777777777778,
             "#fb9f3a"
            ],
            [
             0.8888888888888888,
             "#fdca26"
            ],
            [
             1,
             "#f0f921"
            ]
           ]
          },
          "colorway": [
           "#636efa",
           "#EF553B",
           "#00cc96",
           "#ab63fa",
           "#FFA15A",
           "#19d3f3",
           "#FF6692",
           "#B6E880",
           "#FF97FF",
           "#FECB52"
          ],
          "font": {
           "color": "#2a3f5f"
          },
          "geo": {
           "bgcolor": "white",
           "lakecolor": "white",
           "landcolor": "#E5ECF6",
           "showlakes": true,
           "showland": true,
           "subunitcolor": "white"
          },
          "hoverlabel": {
           "align": "left"
          },
          "hovermode": "closest",
          "mapbox": {
           "style": "light"
          },
          "paper_bgcolor": "white",
          "plot_bgcolor": "#E5ECF6",
          "polar": {
           "angularaxis": {
            "gridcolor": "white",
            "linecolor": "white",
            "ticks": ""
           },
           "bgcolor": "#E5ECF6",
           "radialaxis": {
            "gridcolor": "white",
            "linecolor": "white",
            "ticks": ""
           }
          },
          "scene": {
           "xaxis": {
            "backgroundcolor": "#E5ECF6",
            "gridcolor": "white",
            "gridwidth": 2,
            "linecolor": "white",
            "showbackground": true,
            "ticks": "",
            "zerolinecolor": "white"
           },
           "yaxis": {
            "backgroundcolor": "#E5ECF6",
            "gridcolor": "white",
            "gridwidth": 2,
            "linecolor": "white",
            "showbackground": true,
            "ticks": "",
            "zerolinecolor": "white"
           },
           "zaxis": {
            "backgroundcolor": "#E5ECF6",
            "gridcolor": "white",
            "gridwidth": 2,
            "linecolor": "white",
            "showbackground": true,
            "ticks": "",
            "zerolinecolor": "white"
           }
          },
          "shapedefaults": {
           "line": {
            "color": "#2a3f5f"
           }
          },
          "ternary": {
           "aaxis": {
            "gridcolor": "white",
            "linecolor": "white",
            "ticks": ""
           },
           "baxis": {
            "gridcolor": "white",
            "linecolor": "white",
            "ticks": ""
           },
           "bgcolor": "#E5ECF6",
           "caxis": {
            "gridcolor": "white",
            "linecolor": "white",
            "ticks": ""
           }
          },
          "title": {
           "x": 0.05
          },
          "xaxis": {
           "automargin": true,
           "gridcolor": "white",
           "linecolor": "white",
           "ticks": "",
           "title": {
            "standoff": 15
           },
           "zerolinecolor": "white",
           "zerolinewidth": 2
          },
          "yaxis": {
           "automargin": true,
           "gridcolor": "white",
           "linecolor": "white",
           "ticks": "",
           "title": {
            "standoff": 15
           },
           "zerolinecolor": "white",
           "zerolinewidth": 2
          }
         }
        },
        "title": {
         "text": "CONTAMINANTES QUE SOBEREPASARON LOS LÍMITES PERMITIDOS<BR>ASOCIADOS A LAS DESCARGAS DE RESIDUOS LIQUIDOS A AGUAS MARINAS",
         "x": 0.5,
         "y": 0.98
        },
        "width": 1000
       }
      }
     },
     "metadata": {},
     "output_type": "display_data"
    }
   ],
   "source": [
    "warnings.filterwarnings(\"ignore\")\n",
    "    \n",
    "fig = px.sunburst(df_sunburst, path=['ANIO','MES','Parametro','CuerpoReceptor','Planta',\"% diferencia_umbral\"], \n",
    "                  values='% diferencia_umbral',color='Parametro',width=800,height=800)\n",
    "\n",
    "fig.update_traces(insidetextfont_color=\"white\",insidetextorientation=\"radial\", selector=dict(type='sunburst'))\n",
    "\n",
    "fig.update_layout(title_text='CONTAMINANTES QUE SOBEREPASARON LOS LÍMITES PERMITIDOS<BR>ASOCIADOS A LAS DESCARGAS DE RESIDUOS LIQUIDOS A AGUAS MARINAS'\n",
    "                  , title_x=0.5, title_y=0.98)         \n",
    "fig.update_layout(\n",
    "    autosize=False,\n",
    "    width=1000,\n",
    "    height=1000)\n",
    "\n",
    "fig.add_annotation(x=0.5, y=0.57,\n",
    "            text=\"Año\",\n",
    "            showarrow=False,\n",
    "            arrowhead=1,\n",
    "            font_color='white',\n",
    "            font_size=18\n",
    "            )\n",
    "fig.add_annotation(x=0.5, y=0.62,\n",
    "            text=\"Mes\",\n",
    "            showarrow=False,\n",
    "            arrowhead=1,\n",
    "            font_color='white',\n",
    "            font_size=20\n",
    "            )\n",
    "\n",
    "fig.add_annotation(x=0.5, y=0.72,\n",
    "            text=\"Contaminante\",\n",
    "            showarrow=False,\n",
    "            arrowhead=1,\n",
    "            font_color='white',\n",
    "            font_size=20\n",
    "            )\n",
    "\n",
    "fig.add_annotation(x=0.5, y=0.82,\n",
    "            text=\"Cuerpo<BR>Receptor\",\n",
    "            showarrow=False,\n",
    "            arrowhead=1,\n",
    "            font_color='white',\n",
    "            font_size=20\n",
    "            )\n",
    "\n",
    "fig.add_annotation(x=0.5, y=0.89,\n",
    "            text=\"Termoeléctrica\",\n",
    "            showarrow=False,\n",
    "            arrowhead=1,\n",
    "            font_color='white',\n",
    "            font_size=20\n",
    "            )\n",
    "fig.add_annotation(x=0.5, y=0.98,\n",
    "            text=\"% Sobre el límite<BR>establecido\",\n",
    "            showarrow=False,\n",
    "            arrowhead=1,\n",
    "            font_color='white',\n",
    "            font_size=20\n",
    "            )\n",
    "offset_y=-0.94\n",
    "\n",
    "fig.add_annotation(x=0.03, y=0.99+offset_y,\n",
    "            text=\"Límites establecidos\",\n",
    "            align=\"left\",\n",
    "            showarrow=False,\n",
    "            font_color='black',\n",
    "            font_size=12\n",
    "            )\n",
    "\n",
    "fig.add_annotation(x=0.03, y=0.96+offset_y,\n",
    "            text=\"Molibedeno: 0.1 [mg/L]\",\n",
    "            align=\"left\",\n",
    "            showarrow=False,\n",
    "            font_color='black',\n",
    "            font_size=12\n",
    "            )\n",
    "fig.add_annotation(x=0.03, y=0.93+offset_y,\n",
    "            text=\"Mercurio: 0.005 [mg/L]\",\n",
    "            align=\"left\",\n",
    "            showarrow=False,\n",
    "            font_color='black',\n",
    "            font_size=12\n",
    "            )\n",
    "fig.add_annotation(x=0.03, y=0.90+offset_y,\n",
    "            text=\"Temperatura: 30 [°C]\",\n",
    "            align=\"left\",\n",
    "            showarrow=False,\n",
    "            font_color='black',\n",
    "            font_size=12\n",
    "            )\n",
    "\n",
    "fig.add_annotation(x=0, y=0.964+offset_y,\n",
    "            text=\"██\",\n",
    "            align=\"left\",\n",
    "            showarrow=False,\n",
    "            arrowhead=1,\n",
    "            font_color='purple',\n",
    "            font_size=12\n",
    "            )\n",
    "fig.add_annotation(x=0, y=0.934+offset_y,\n",
    "            text=\"██\",\n",
    "            align=\"left\",\n",
    "            showarrow=False,\n",
    "            arrowhead=1,\n",
    "            font_color='green',\n",
    "            font_size=12\n",
    "            )\n",
    "fig.add_annotation(x=0, y=0.904+offset_y,\n",
    "            text=\"██\",\n",
    "            align=\"left\",\n",
    "            showarrow=False,\n",
    "            arrowhead=1,\n",
    "            font_color='red',\n",
    "            font_size=12\n",
    "            )\n",
    "fig.show()"
   ]
  },
  {
   "cell_type": "markdown",
   "metadata": {},
   "source": [
    "Impactos locales a causa de las termoeléctricas: Son todos aquellos que repercuten de manera directa sobre la población y los recursos naturales existentes en las zonas aledañas al lugar donde funciona una central. Entre estos destacan los impactos sobre recursos naturales, sobre otros sectores productivos y sobre la salud, que se ven afectadas ante cualquier superación de la norma como ocurre en lo expresado en el gráfico anterior."
   ]
  },
  {
   "cell_type": "markdown",
   "metadata": {},
   "source": [
    "## Temperatura"
   ]
  },
  {
   "cell_type": "markdown",
   "metadata": {},
   "source": [
    "Se carga la información de datos de temperatura de todas las Termoeléctricas y se filtran los valores que se rigen por la Tabla 4."
   ]
  },
  {
   "cell_type": "code",
   "execution_count": 10,
   "metadata": {},
   "outputs": [],
   "source": [
    "temperaturas = pd.read_csv(\"../processed_data/temperatura.csv\", sep = \";\")\n",
    "temperaturas_tabla4 = temperaturas[temperaturas[\"Tabla\"] == \"Tabla 4\"].sort_values(by=[\"ANIO\", \"MES\"]).reset_index()"
   ]
  },
  {
   "cell_type": "markdown",
   "metadata": {},
   "source": [
    "Generamos una nueva columna con una marca temporal de la medición para poder graficar los valores de las mediciones en el tiempo."
   ]
  },
  {
   "cell_type": "code",
   "execution_count": 11,
   "metadata": {},
   "outputs": [],
   "source": [
    "fechas = []\n",
    "for index, row in temperaturas_tabla4.iterrows():\n",
    "    anio = str(temperaturas_tabla4.iloc[index][\"ANIO\"])\n",
    "    if temperaturas_tabla4.iloc[index][\"MES\"] < 10:\n",
    "        mes = \"0\" + str(temperaturas_tabla4.iloc[index][\"MES\"])\n",
    "    else:\n",
    "        mes = str(temperaturas_tabla4.iloc[index][\"MES\"])\n",
    "    fecha = anio + \"/\" + mes\n",
    "    fechas.append(fecha)\n",
    "temperaturas_tabla4[\"FECHA\"] = pd.Series(fechas)\n",
    "temperaturas_tabla4[\"FECHA\"] = temperaturas_tabla4[\"FECHA\"].astype(\"datetime64\")"
   ]
  },
  {
   "cell_type": "markdown",
   "metadata": {},
   "source": [
    "El gráfico contiene las mediciones de todas las Termoeléctricas y destaca la que más excede el límite."
   ]
  },
  {
   "cell_type": "code",
   "execution_count": 12,
   "metadata": {},
   "outputs": [
    {
     "data": {
      "image/png": "[encoded data removed]",
      "text/plain": [
       "<Figure size 576x504 with 1 Axes>"
      ]
     },
     "metadata": {
      "needs_background": "light"
     },
     "output_type": "display_data"
    }
   ],
   "source": [
    "plantas = temperaturas_tabla4[\"Planta\"].unique()\n",
    "\n",
    "fig, ax = plt.subplots(1,1, figsize=(8,7))\n",
    "\n",
    "for planta in plantas:\n",
    "    df_planta = temperaturas_tabla4[temperaturas_tabla4[\"Planta\"] == planta]\n",
    "    color = 'red' if planta == 'CENTRAL TERMICA ANDINA' else 'lightgray'\n",
    "    label = planta if planta == 'CENTRAL TERMICA ANDINA' else ''\n",
    "    df_planta.plot(x='FECHA', y='% diferencia_umbral', color=color, ax=ax, legend=False, label = label)\n",
    "ax.set_ylabel(\"% de diferencia con el umbral\")\n",
    "ax.set_xlabel(\"Fecha\").set_visible(False)\n",
    "fig.tight_layout()\n",
    "ax.spines['right'].set_visible(False)\n",
    "ax.spines['top'].set_visible(False)\n",
    "ax.axhline(y = 0)\n",
    "ax.set_title(\"Entre las termoeléctricas, la Central Térmica Andina presenta las mayores temperaturas de descarga.\")\n",
    "ax.autoscale(enable = True, axis = \"both\", tight = True)\n",
    "ax.legend()\n",
    "plt.show()"
   ]
  },
  {
   "cell_type": "markdown",
   "metadata": {},
   "source": [
    "Los procesos de generación termoeléctricos contemplan enfriamientos mediante el manejo de grandes volúmenes de agua que se captan principalmente desde el mar u otros cursos de agua naturales. \n",
    "Posteriormente la masa de agua es devuelta a una mayor temperatura (superando los 10 °C respecto a su temperatura de captación) y en un punto distinto al de captación, afectando a individuos, poblaciones y comunidades marinas, ya sea por la descarga de agua de enfriamiento o por vertimiento de contaminantes al ecosistema. Producto de que la masa de agua es devuelta a una temperatura mayor en relación con el cuerpo de agua receptor, dependiendo de la hidrodinámica de éste, se pueden generar plumas de aguas cálidas en la zona aledaña a la descarga, produciendo impactos biológicos significativos, tanto en el fondo marino -afectando a ciertas especies de invertebrados bentónicos-, como en la columna de agua. "
   ]
  },
  {
   "cell_type": "markdown",
   "metadata": {},
   "source": [
    "## Molibdeno"
   ]
  },
  {
   "cell_type": "markdown",
   "metadata": {},
   "source": [
    "Se carga la información de datos de molibdeno de todas las Termoeléctricas y se filtran los valores que se rigen por la Tabla 4."
   ]
  },
  {
   "cell_type": "code",
   "execution_count": 13,
   "metadata": {},
   "outputs": [],
   "source": [
    "molibdeno = pd.read_csv(\"../processed_data/molibdeno.csv\", sep = \";\")\n",
    "molibdeno_tabla4 = molibdeno[molibdeno[\"Tabla\"] == \"Tabla 4\"].sort_values(by=[\"ANIO\", \"MES\"]).reset_index()"
   ]
  },
  {
   "cell_type": "markdown",
   "metadata": {},
   "source": [
    "Generamos una nueva columna con una marca temporal de la medición para poder graficar los valores de las mediciones en el tiempo."
   ]
  },
  {
   "cell_type": "code",
   "execution_count": 14,
   "metadata": {},
   "outputs": [],
   "source": [
    "fechas = []\n",
    "for index, row in molibdeno_tabla4.iterrows():\n",
    "    anio = str(molibdeno_tabla4.iloc[index][\"ANIO\"])\n",
    "    if molibdeno_tabla4.iloc[index][\"MES\"] < 10:\n",
    "        mes = \"0\" + str(molibdeno_tabla4.iloc[index][\"MES\"])\n",
    "    else:\n",
    "        mes = str(molibdeno_tabla4.iloc[index][\"MES\"])\n",
    "    fecha = anio + \"/\" + mes\n",
    "    fechas.append(fecha)\n",
    "molibdeno_tabla4[\"FECHA\"] = pd.Series(fechas)\n",
    "molibdeno_tabla4[\"FECHA\"] = molibdeno_tabla4[\"FECHA\"].astype(\"datetime64\")"
   ]
  },
  {
   "cell_type": "markdown",
   "metadata": {},
   "source": [
    "El gráfico contiene las mediciones de todas las Termoeléctricas y destaca la que más excede el límite."
   ]
  },
  {
   "cell_type": "code",
   "execution_count": 15,
   "metadata": {},
   "outputs": [
    {
     "data": {
      "image/png": "[encoded data removed]",
      "text/plain": [
       "<Figure size 576x504 with 1 Axes>"
      ]
     },
     "metadata": {
      "needs_background": "light"
     },
     "output_type": "display_data"
    }
   ],
   "source": [
    "plantas = molibdeno_tabla4[\"Planta\"].unique()\n",
    "\n",
    "fig, ax = plt.subplots(1,1, figsize=(8,7))\n",
    "\n",
    "for planta in plantas:\n",
    "    df_planta = molibdeno_tabla4[molibdeno_tabla4[\"Planta\"] == planta]\n",
    "    color = 'red' if planta == 'CENTRAL TERMOELÉCTRICA VENTANAS UNIDADES 1 Y 2' else 'lightgray'\n",
    "    label = planta if planta == 'CENTRAL TERMOELÉCTRICA VENTANAS UNIDADES 1 Y 2' else ''\n",
    "    df_planta.plot(x='FECHA', y='% diferencia_umbral', color=color, ax=ax, legend=False, label = label)\n",
    "ax.set_ylabel(\"% de diferencia con el umbral\")\n",
    "ax.set_xlabel(\"Fecha\").set_visible(False)\n",
    "fig.tight_layout()\n",
    "ax.spines['right'].set_visible(False)\n",
    "ax.spines['top'].set_visible(False)\n",
    "ax.axhline(y = 0)\n",
    "ax.set_title(\"La termoeléctrica Ventanas sobrepasó los valores permitidos de Molibdeno en 2017 y 2018\")\n",
    "ax.legend()\n",
    "plt.show()"
   ]
  },
  {
   "cell_type": "markdown",
   "metadata": {},
   "source": [
    "La concentración de metales pesados como lo es el aluminio, **molibdeno**, hierro, cromo, cobre y cinc, han producido una contaminación marina importante, la cual, en cifras excede los límites permitidos por las pautas de calidad internacionales y que a la fecha no han podido ser debidamente reguladas por nuestra normativa ambiental (https://capes.cl/2020/11/estudio-determino-los-efectos-de-la-contaminacion-por-metales-en-poblaciones-de-huiro-negro-2/).\n",
    "La población de algas de Ventanas expuesta crónicamente a la contaminación vio disminuir el tamaño de sus individuos adultos en comparación con las poblaciones de las otras zonas afectadas. Siendo la localidad de Ventanas la que percibe las consecuencias más negativas de la contaminación para el desarrollo de los individuos de la especie, lo que sugiere un impacto negativo a largo plazo en la estructura comunitaria de estas zonas marinas y pondrá en peligro la salud del ecosistema marino incluso en sitios alejados de la fuente de contaminación."
   ]
  },
  {
   "cell_type": "markdown",
   "metadata": {},
   "source": [
    "## Mercurio"
   ]
  },
  {
   "cell_type": "markdown",
   "metadata": {},
   "source": [
    "Se carga la información de datos de mercurio de todas las Termoeléctricas y se filtran los valores que se rigen por la Tabla 4."
   ]
  },
  {
   "cell_type": "code",
   "execution_count": 16,
   "metadata": {},
   "outputs": [],
   "source": [
    "mercurio = pd.read_csv(\"../processed_data/mercurio.csv\", sep = \";\")\n",
    "mercurio_tabla4 = mercurio[mercurio[\"Tabla\"] == \"Tabla 4\"].sort_values(by=[\"ANIO\", \"MES\"]).reset_index()"
   ]
  },
  {
   "cell_type": "markdown",
   "metadata": {},
   "source": [
    "Generamos una nueva columna con una marca temporal de la medición para poder graficar los valores de las mediciones en el tiempo."
   ]
  },
  {
   "cell_type": "code",
   "execution_count": 17,
   "metadata": {},
   "outputs": [],
   "source": [
    "fechas = []\n",
    "for index, row in mercurio_tabla4.iterrows():\n",
    "    anio = str(mercurio_tabla4.iloc[index][\"ANIO\"])\n",
    "    if mercurio_tabla4.iloc[index][\"MES\"] < 10:\n",
    "        mes = \"0\" + str(mercurio_tabla4.iloc[index][\"MES\"])\n",
    "    else:\n",
    "        mes = str(mercurio_tabla4.iloc[index][\"MES\"])\n",
    "    fecha = anio + \"/\" + mes\n",
    "    fechas.append(fecha)\n",
    "mercurio_tabla4[\"FECHA\"] = pd.Series(fechas)\n",
    "mercurio_tabla4[\"FECHA\"] = mercurio_tabla4[\"FECHA\"].astype(\"datetime64\")"
   ]
  },
  {
   "cell_type": "markdown",
   "metadata": {},
   "source": [
    "El gráfico contiene las mediciones de todas las Termoeléctricas y destaca la que más excede el límite."
   ]
  },
  {
   "cell_type": "code",
   "execution_count": 18,
   "metadata": {},
   "outputs": [
    {
     "data": {
      "image/png": "[encoded data removed]",
      "text/plain": [
       "<Figure size 576x504 with 1 Axes>"
      ]
     },
     "metadata": {
      "needs_background": "light"
     },
     "output_type": "display_data"
    }
   ],
   "source": [
    "plantas = mercurio_tabla4[\"Planta\"].unique()\n",
    "\n",
    "fig, ax = plt.subplots(1,1, figsize=(8,7))\n",
    "\n",
    "for planta in plantas:\n",
    "    df_planta = mercurio_tabla4[mercurio_tabla4[\"Planta\"] == planta]\n",
    "    color = 'red' if planta == 'GUACOLDA' else 'lightgray'\n",
    "    label = planta if planta == 'GUACOLDA' else ''\n",
    "    df_planta.plot(x='FECHA', y='% diferencia_umbral', color=color, ax=ax, legend=False, label = label)\n",
    "ax.set_ylabel(\"% de diferencia con el umbral\")\n",
    "ax.set_xlabel(\"Fecha\").set_visible(False)\n",
    "fig.tight_layout()\n",
    "ax.spines['right'].set_visible(False)\n",
    "ax.spines['top'].set_visible(False)\n",
    "ax.axhline(y = 0)\n",
    "ax.set_title(\"La central Guacolda ha tenido dos eventos que sobrepasaron los límites de Mercurio.\")\n",
    "ax.legend()\n",
    "plt.show()"
   ]
  },
  {
   "cell_type": "markdown",
   "metadata": {},
   "source": [
    "De acuerdo a lo observado, en la provincia del Huasco, Región de Atacama, se encuentra operativa la Central Guacolda, que de acuerdo a la información, superan los niveles de Mercurio en un 40% y 80% para los límites máximos en los años 2019 y 2020 respectivamente.\n",
    "Sumado a lo anterior, según el Observatorio Latinoamericano de Conflictos Ambientales de publicación del año 2020, en estudios realizados a mujeres en la comuna del Huasco, se encontró que un 53% de las mujeres estudiadas presentaron altas concentraciones de mercurio por sobre los 0.58 ppm, lo peor, es que un 18% marcó sobre 1 una partícula por millón, que es la barrera donde se podrían presentar daños cerebrales, pérdida de coeficiente intelectual y otras enfermedades.\n",
    "Dicha exposición al mercurio también perjudica a los niños, ya que la exposición en edades tempranas e incluso desde su formación en el útero va a determinar algunas enfermedades crónicas a lo largo de su vida como por ejemplo diferentes tipos de discapacidad tanto intelectual como motora, o personas con autismo.\n"
   ]
  },
  {
   "cell_type": "markdown",
   "metadata": {},
   "source": [
    "## Conclusiones"
   ]
  },
  {
   "cell_type": "markdown",
   "metadata": {},
   "source": [
    "-\tDe acuerdo a lo observado, es posible evidenciar que se ha superado la normativa ambiental vigente en varias oportunidades entre los años 2017 a 2019 para varias instalaciones, esto para descargas puntuales asociadas a concentraciones sobre lo permitido para Mercurio, Molibdeno y Temperatura. En base a esto, se puede decir que la actividad económica es ambientalmente agresiva debido a que solo dentro del alcance de este proyecto se han analizado 5 parámetros, encontrándose alteraciones en 3 de ellos, es decir, si en un universo de 42 parámetros que regula la norma solo en 5 ya se encontraron desviaciones importantes, es altamente probable que para otros parámetros la situación sea similar. Esto último sumado a los efectos de Daño Ambiental mencionados como parte del trabajo refuerzan la hipótesis planteada al comienzo del trabajo.\n",
    "-\tLas termoeléctricas ubicadas en las Costas Chilenas, impactan significativamente los ecosistemas marinos y las actividades económicas locales y comunitarias asociadas, desarrolladas tradicionalmente por sus habitantes Esto debido a efectos nocivos provocado por la bioacumulación por metales pesados que se han descrito en etapas anteriores de este trabajo.\n",
    "-\tChile ha comprometido en el marco de su “Contribución Nacional para el Acuerdo Climático de París de 2015”, reducir sus emisiones de Gases Efecto Invernadero (GEI) en un 30% por unidad de Producto Interno Bruto (PIB) al año 2030, con respecto al año 2007. (ttps://energia.gob.cl/noticias/aysen-del-general-carlos-ibanez-del-campo/plan-de-descarbonizacion-proceso-historico-para-chile). Existe la intención de descarbonizar la matriz energética en el mediano plazo, por lo que se avanza, a nivel de compromiso, en el cierre de 8 centrales termoeléctricas, las de mayor antigüedad, al año 2024. "
   ]
  }
 ],
 "metadata": {
  "kernelspec": {
   "display_name": "Python 3.9.12 ('base')",
   "language": "python",
   "name": "python3"
  },
  "language_info": {
   "codemirror_mode": {
    "name": "ipython",
    "version": 3
   },
   "file_extension": ".py",
   "mimetype": "text/x-python",
   "name": "python",
   "nbconvert_exporter": "python",
   "pygments_lexer": "ipython3",
   "version": "3.9.12"
  },
  "orig_nbformat": 4,
  "vscode": {
   "interpreter": {
    "hash": "ab442baed0c0d8002d8544244931314372b4e866e16812c16c3d4746c71db3e1"
   }
  }
 },
 "nbformat": 4,
 "nbformat_minor": 2
}
